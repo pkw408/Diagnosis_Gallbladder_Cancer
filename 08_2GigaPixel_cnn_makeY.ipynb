{
 "cells": [
  {
   "cell_type": "code",
   "execution_count": null,
   "metadata": {
    "id": "dEHX5wrTjp8M"
   },
   "outputs": [],
   "source": [
    "# !pip install keras\n",
    "# !pip install tensorflow==2.3.0"
   ]
  },
  {
   "cell_type": "code",
   "execution_count": 1,
   "metadata": {
    "colab": {
     "base_uri": "https://localhost:8080/",
     "height": 125
    },
    "executionInfo": {
     "elapsed": 4212,
     "status": "ok",
     "timestamp": 1603864513968,
     "user": {
      "displayName": "문다영",
      "photoUrl": "",
      "userId": "07688447272123265838"
     },
     "user_tz": -540
    },
    "id": "iNyzKOE4jp8Q",
    "outputId": "2893ce03-7d29-4667-dcfe-175e890619d7"
   },
   "outputs": [
    {
     "name": "stdout",
     "output_type": "stream",
     "text": [
      "Requirement already up-to-date: tensorflow_hub in c:\\kyoungpark\\lib\\site-packages (0.9.0)\n",
      "Requirement already satisfied, skipping upgrade: six>=1.12.0 in c:\\kyoungpark\\lib\\site-packages (from tensorflow_hub) (1.15.0)\n",
      "Requirement already satisfied, skipping upgrade: numpy>=1.12.0 in c:\\kyoungpark\\lib\\site-packages (from tensorflow_hub) (1.18.5)\n",
      "Requirement already satisfied, skipping upgrade: protobuf>=3.8.0 in c:\\kyoungpark\\lib\\site-packages (from tensorflow_hub) (3.13.0)\n",
      "Requirement already satisfied, skipping upgrade: setuptools in c:\\kyoungpark\\lib\\site-packages (from protobuf>=3.8.0->tensorflow_hub) (50.3.1)\n"
     ]
    }
   ],
   "source": [
    " !pip install --upgrade tensorflow_hub"
   ]
  },
  {
   "cell_type": "code",
   "execution_count": 3,
   "metadata": {
    "colab": {
     "base_uri": "https://localhost:8080/",
     "height": 52
    },
    "executionInfo": {
     "elapsed": 5167,
     "status": "ok",
     "timestamp": 1603864514944,
     "user": {
      "displayName": "문다영",
      "photoUrl": "",
      "userId": "07688447272123265838"
     },
     "user_tz": -540
    },
    "id": "0tC5ims-j7qA",
    "outputId": "f516451d-072c-450d-f093-bbc85d92b3f9"
   },
   "outputs": [],
   "source": [
    "##코랩실행시 google driver mount 하기\n",
    "\n",
    "import pandas as pd\n",
    "import numpy as np\n",
    "import matplotlib.pyplot as plt\n",
    "import seaborn as sns\n",
    "\n",
    "#from google.colab import drive\n",
    "#drive.mount('/content/drive')\n",
    "#% cd /content/drive/My Drive/FAS\n",
    "# % cd benchmark_liver_tumor/raw"
   ]
  },
  {
   "cell_type": "code",
   "execution_count": 4,
   "metadata": {
    "executionInfo": {
     "elapsed": 5155,
     "status": "ok",
     "timestamp": 1603864514945,
     "user": {
      "displayName": "문다영",
      "photoUrl": "",
      "userId": "07688447272123265838"
     },
     "user_tz": -540
    },
    "id": "ZQ1U7brakStZ"
   },
   "outputs": [],
   "source": [
    "# import tensorflow as tf\n",
    "# tf.debugging.set_log_device_placement(False)\n",
    "# # 텐서 생성\n",
    "# a = tf.constant([[1.0, 2.0, 3.0], [4.0, 5.0, 6.0]])\n",
    "# b = tf.constant([[1.0, 2.0], [3.0, 4.0], [5.0, 6.0]])\n",
    "# c = tf.matmul(a, b)\n",
    "\n",
    "# print(c)"
   ]
  },
  {
   "cell_type": "code",
   "execution_count": 5,
   "metadata": {
    "colab": {
     "base_uri": "https://localhost:8080/",
     "height": 34
    },
    "executionInfo": {
     "elapsed": 7722,
     "status": "ok",
     "timestamp": 1603864517522,
     "user": {
      "displayName": "문다영",
      "photoUrl": "",
      "userId": "07688447272123265838"
     },
     "user_tz": -540
    },
    "id": "9pK5ND0pkxqR",
    "outputId": "4e682f3f-066f-472b-9375-25e676d93a7d"
   },
   "outputs": [
    {
     "name": "stdout",
     "output_type": "stream",
     "text": [
      "Requirement already satisfied: pydicom in c:\\kyoungpark\\lib\\site-packages (2.0.0)\n"
     ]
    }
   ],
   "source": [
    "! pip install pydicom"
   ]
  },
  {
   "cell_type": "code",
   "execution_count": 8,
   "metadata": {
    "colab": {
     "base_uri": "https://localhost:8080/",
     "height": 34
    },
    "executionInfo": {
     "elapsed": 11654,
     "status": "ok",
     "timestamp": 1603864524170,
     "user": {
      "displayName": "문다영",
      "photoUrl": "",
      "userId": "07688447272123265838"
     },
     "user_tz": -540
    },
    "id": "CWW73ZCQjp8U",
    "outputId": "c2efee51-05e9-4f4c-c2f8-b063515146f8"
   },
   "outputs": [
    {
     "name": "stdout",
     "output_type": "stream",
     "text": [
      "Populating the interactive namespace from numpy and matplotlib\n"
     ]
    }
   ],
   "source": [
    "import pydicom as pdc\n",
    "import matplotlib.pyplot as plt\n",
    "from IPython.display import display, Image\n",
    "import numpy as np\n",
    "import cv2\n",
    "import pandas as pd\n",
    "from sklearn import preprocessing\n",
    "from sklearn.model_selection import KFold\n",
    "import tensorflow as tf\n",
    "from tensorflow import keras\n",
    "from tensorflow.keras.utils import to_categorical\n",
    "from tensorflow.keras.layers import Dense, Flatten, Conv3D, MaxPooling3D, Dropout\n",
    "import tensorflow_hub as hub\n",
    "%pylab inline\n",
    "import glob\n",
    "from PIL import Image"
   ]
  },
  {
   "cell_type": "code",
   "execution_count": 9,
   "metadata": {},
   "outputs": [
    {
     "data": {
      "text/plain": [
       "'C:\\\\KyoungPark\\\\Project\\\\Code'"
      ]
     },
     "execution_count": 9,
     "metadata": {},
     "output_type": "execute_result"
    }
   ],
   "source": [
    "pwd"
   ]
  },
  {
   "cell_type": "code",
   "execution_count": 13,
   "metadata": {
    "colab": {
     "base_uri": "https://localhost:8080/",
     "height": 34
    },
    "executionInfo": {
     "elapsed": 512,
     "status": "ok",
     "timestamp": 1603864524715,
     "user": {
      "displayName": "문다영",
      "photoUrl": "",
      "userId": "07688447272123265838"
     },
     "user_tz": -540
    },
    "id": "4B2q4a-hJOM4",
    "outputId": "1a6deb92-32a9-429d-bb1c-ed94653a3367"
   },
   "outputs": [
    {
     "name": "stdout",
     "output_type": "stream",
     "text": [
      "Drop: Int64Index([42, 66, 69], dtype='int64')\n"
     ]
    }
   ],
   "source": [
    "path = 'metadata/'\n",
    "# Load Meta-data and preprocessing\n",
    "patient_meta = pd.read_csv(path + 'patient_meta.csv')\n",
    "patient_meta = patient_meta[['RANDOM_PT_NO','SEX','AGE','PHASE',\"DX\"]]\n",
    "#patient_meta.head()\n",
    "\n",
    "#NET, Lymphoma : Dropped (3 cases)\n",
    "print(\"Drop:\", patient_meta[(patient_meta['DX']=='lymphoma') | (patient_meta['DX']=='NET')].index)\n",
    "patient_meta = patient_meta.drop(patient_meta[(patient_meta['DX']=='lymphoma') | (patient_meta['DX']=='NET')].index, axis=0)\n",
    "patient_meta.reset_index(drop=True, inplace=True)\n",
    "\n",
    "# categorical Variables(Sex, Phase)\n",
    "# pd.get_dummies() 가변수 만들기\n",
    "patient_meta = pd.concat([patient_meta, pd.get_dummies(patient_meta[['SEX','PHASE']])], axis=1)\n",
    "patient_meta = patient_meta.drop(['SEX','PHASE'], axis=1)\n",
    "\n",
    "# Continuous Variables(Age)\n",
    "age = patient_meta['AGE'].values\n",
    "age_scaled = preprocessing.scale(age)\n",
    " \n",
    "patient_meta['AGE_NORM'] = age_scaled\n",
    "patient_meta = patient_meta.drop(['AGE'], axis = 1)\n",
    "\n",
    "#Label Setting\n",
    "# 0 : Metastasis, 56\n",
    "# 1 : Hepatocelluar Carcinoma, 30\n",
    "# 2 : cholangiocarcinoma, 14 --> ????    # 숫자가 의미하는 것은??\n",
    "for r in range(patient_meta.shape[0]):\n",
    "    if('metastasis' in patient_meta.iloc[r, 1]):\n",
    "        patient_meta.iloc[r, 1] = 0\n",
    "    elif('HCC' == patient_meta.iloc[r, 1]):\n",
    "        patient_meta.iloc[r, 1] = 1\n",
    "    elif('cholangiocarcinoma' == patient_meta.iloc[r, 1]):\n",
    "        patient_meta.iloc[r, 1] = 2\n",
    "    else:\n",
    "        patient_meta.iloc[r, 1] = -1\n",
    "\n",
    "patient_meta = np.array(patient_meta)   #넘파이 배열로 변환"
   ]
  },
  {
   "cell_type": "code",
   "execution_count": 14,
   "metadata": {
    "colab": {
     "base_uri": "https://localhost:8080/",
     "height": 199
    },
    "executionInfo": {
     "elapsed": 750,
     "status": "ok",
     "timestamp": 1603864524972,
     "user": {
      "displayName": "문다영",
      "photoUrl": "",
      "userId": "07688447272123265838"
     },
     "user_tz": -540
    },
    "id": "vrrA6MoaCRs5",
    "outputId": "a93725cd-1838-43f2-d479-c09016c3e6fc"
   },
   "outputs": [
    {
     "data": {
      "text/html": [
       "<div>\n",
       "<style scoped>\n",
       "    .dataframe tbody tr th:only-of-type {\n",
       "        vertical-align: middle;\n",
       "    }\n",
       "\n",
       "    .dataframe tbody tr th {\n",
       "        vertical-align: top;\n",
       "    }\n",
       "\n",
       "    .dataframe thead th {\n",
       "        text-align: right;\n",
       "    }\n",
       "</style>\n",
       "<table border=\"1\" class=\"dataframe\">\n",
       "  <thead>\n",
       "    <tr style=\"text-align: right;\">\n",
       "      <th></th>\n",
       "      <th>patient_no</th>\n",
       "      <th>img_idx</th>\n",
       "      <th>mean_annotation</th>\n",
       "      <th>DX</th>\n",
       "    </tr>\n",
       "  </thead>\n",
       "  <tbody>\n",
       "    <tr>\n",
       "      <th>0</th>\n",
       "      <td>SN00017916</td>\n",
       "      <td>1</td>\n",
       "      <td>0.0</td>\n",
       "      <td>0</td>\n",
       "    </tr>\n",
       "    <tr>\n",
       "      <th>1</th>\n",
       "      <td>SN00017916</td>\n",
       "      <td>2</td>\n",
       "      <td>0.0</td>\n",
       "      <td>0</td>\n",
       "    </tr>\n",
       "    <tr>\n",
       "      <th>2</th>\n",
       "      <td>SN00017916</td>\n",
       "      <td>3</td>\n",
       "      <td>0.0</td>\n",
       "      <td>0</td>\n",
       "    </tr>\n",
       "    <tr>\n",
       "      <th>3</th>\n",
       "      <td>SN00017916</td>\n",
       "      <td>4</td>\n",
       "      <td>0.0</td>\n",
       "      <td>0</td>\n",
       "    </tr>\n",
       "    <tr>\n",
       "      <th>4</th>\n",
       "      <td>SN00017916</td>\n",
       "      <td>5</td>\n",
       "      <td>0.0</td>\n",
       "      <td>0</td>\n",
       "    </tr>\n",
       "  </tbody>\n",
       "</table>\n",
       "</div>"
      ],
      "text/plain": [
       "   patient_no  img_idx  mean_annotation  DX\n",
       "0  SN00017916        1              0.0   0\n",
       "1  SN00017916        2              0.0   0\n",
       "2  SN00017916        3              0.0   0\n",
       "3  SN00017916        4              0.0   0\n",
       "4  SN00017916        5              0.0   0"
      ]
     },
     "execution_count": 14,
     "metadata": {},
     "output_type": "execute_result"
    }
   ],
   "source": [
    "label_df = pd.read_csv('metadata/label_df.csv')\n",
    "label_df.head()"
   ]
  },
  {
   "cell_type": "code",
   "execution_count": 15,
   "metadata": {
    "executionInfo": {
     "elapsed": 736,
     "status": "ok",
     "timestamp": 1603864524973,
     "user": {
      "displayName": "문다영",
      "photoUrl": "",
      "userId": "07688447272123265838"
     },
     "user_tz": -540
    },
    "id": "KxXmpPAlCTS4"
   },
   "outputs": [],
   "source": [
    "# 1 patient 당 DX list 가져오기\n",
    "grouped_df=label_df.groupby('patient_no').agg(list)\n",
    "temp_list=grouped_df.loc['SN00017916','DX']"
   ]
  },
  {
   "cell_type": "code",
   "execution_count": 16,
   "metadata": {
    "colab": {
     "base_uri": "https://localhost:8080/",
     "height": 34
    },
    "executionInfo": {
     "elapsed": 720,
     "status": "ok",
     "timestamp": 1603864524973,
     "user": {
      "displayName": "문다영",
      "photoUrl": "",
      "userId": "07688447272123265838"
     },
     "user_tz": -540
    },
    "id": "3mo_gJPOC1Kj",
    "outputId": "6fa3430c-cd31-4f32-d115-aac289d89a6b"
   },
   "outputs": [
    {
     "data": {
      "text/plain": [
       "(512, 512)"
      ]
     },
     "execution_count": 16,
     "metadata": {},
     "output_type": "execute_result"
    }
   ],
   "source": [
    "#  sorted(glob.glob('./benchmark_liver_tumor/raw/'+'SN00017916'+'/*.dcm'))\n",
    "pdc.dcmread('./benchmark_liver_tumor/raw/SN00017916/SN00017916_0020.dcm').pixel_array.shape"
   ]
  },
  {
   "cell_type": "code",
   "execution_count": 17,
   "metadata": {
    "colab": {
     "base_uri": "https://localhost:8080/",
     "height": 34
    },
    "executionInfo": {
     "elapsed": 706,
     "status": "ok",
     "timestamp": 1603864524974,
     "user": {
      "displayName": "문다영",
      "photoUrl": "",
      "userId": "07688447272123265838"
     },
     "user_tz": -540
    },
    "id": "1WZbqHipDPmr",
    "outputId": "66dec1f9-9064-4cd3-e709-186f4e54d61e"
   },
   "outputs": [
    {
     "name": "stdout",
     "output_type": "stream",
     "text": [
      "한개의 dcm 이미지가 세로, 가로 각각 16.0개로 나뉘어져 총 256.0개의 pixel로 나눠져야함\n"
     ]
    }
   ],
   "source": [
    "print(f\"한개의 dcm 이미지가 세로, 가로 각각 {512/32}개로 나뉘어져 총 {(512/32)**2}개의 pixel로 나눠져야함\" )"
   ]
  },
  {
   "cell_type": "code",
   "execution_count": 18,
   "metadata": {
    "colab": {
     "base_uri": "https://localhost:8080/",
     "height": 34
    },
    "executionInfo": {
     "elapsed": 711,
     "status": "ok",
     "timestamp": 1603864525919,
     "user": {
      "displayName": "문다영",
      "photoUrl": "",
      "userId": "07688447272123265838"
     },
     "user_tz": -540
    },
    "id": "mgsolqsrh4ZS",
    "outputId": "63d2f378-8e19-4f4a-9600-06ede096e6d0"
   },
   "outputs": [
    {
     "name": "stdout",
     "output_type": "stream",
     "text": [
      "Drop: Int64Index([42, 66, 69], dtype='int64')\n"
     ]
    }
   ],
   "source": [
    "path = 'metadata/'\n",
    "# Load Meta-data and preprocessing\n",
    "patient_dx = pd.read_csv(path + 'patient_meta.csv')\n",
    "patient_dx = patient_dx[['RANDOM_PT_NO','SEX','AGE','PHASE',\"DX\"]]\n",
    "#patient_meta.head()\n",
    "\n",
    "#NET, Lymphoma : Dropped (3 cases)\n",
    "print(\"Drop:\", patient_dx[(patient_dx['DX']=='lymphoma') | (patient_dx['DX']=='NET')].index)\n",
    "patient_dx = patient_dx.drop(patient_dx[(patient_dx['DX']=='lymphoma') | (patient_dx['DX']=='NET')].index, axis=0)\n",
    "patient_dx.reset_index(drop=True, inplace=True)\n",
    "\n",
    "def find_disease(patient_no):\n",
    "    dx=np.array(patient_dx[patient_dx['RANDOM_PT_NO'] == patient_no]['DX'])[0]\n",
    "    if 'metastasis'in dx:\n",
    "        return 0\n",
    "    elif dx == 'HCC':\n",
    "        return 1\n",
    "    elif dx == 'cholangiocarcinoma':\n",
    "        return 2\n",
    "    else:\n",
    "        return 3"
   ]
  },
  {
   "cell_type": "code",
   "execution_count": 19,
   "metadata": {
    "colab": {
     "base_uri": "https://localhost:8080/",
     "height": 298
    },
    "id": "LynwKOprCNMT",
    "outputId": "62104fa8-ddd0-4732-c772-1059d0712aea"
   },
   "outputs": [
    {
     "name": "stdout",
     "output_type": "stream",
     "text": [
      "SN00180816 done!\n",
      "SN00361989 done!\n",
      "SN00481545 done!\n",
      "SN00493709 done!\n",
      "SN00181638 done!\n",
      "SN00222863 done!\n",
      "SN00283964 done!\n",
      "SN00304545 done!\n",
      "SN00450700 done!\n",
      "SN00369027 done!\n",
      "SN00474278 done!\n",
      "SN00508618 done!\n",
      "SN00067936 done!\n",
      "SN00381399 done!\n",
      "SN00097002 done!\n",
      "SN00226166 done!\n",
      "SN00116934 done!\n",
      "SN00141501 done!\n",
      "SN00179194 done!\n",
      "SN00289590 done!\n",
      "SN00361258 done!\n",
      "SN00305492 done!\n",
      "SN00183359 done!\n",
      "SN00231441 done!\n",
      "SN00397757 done!\n",
      "SN00527433 done!\n",
      "SN00062921 done!\n",
      "SN00203040 done!\n",
      "SN00266417 done!\n",
      "SN00454145 done!\n",
      "SN00274538 done!\n",
      "SN00531159 done!\n",
      "SN00037077 done!\n",
      "SN00257665 done!\n",
      "SN00108649 done!\n",
      "SN00181617 done!\n",
      "SN00379916 done!\n",
      "SN00435072 done!\n",
      "SN00459113 done!\n",
      "SN00532977 done!\n",
      "SN00182152 done!\n",
      "SN00216095 done!\n",
      "SN00331480 done!\n",
      "SN00331923 done!\n",
      "SN00396734 done!\n",
      "SN00086679 done!\n",
      "SN00149847 done!\n",
      "SN00473709 done!\n",
      "SN00094752 done!\n",
      "SN00238383 done!\n",
      "SN00167208 done!\n",
      "SN00168744 done!\n",
      "SN00167667 done!\n"
     ]
    },
    {
     "ename": "MemoryError",
     "evalue": "Unable to allocate 890. MiB for an array with shape (178, 5, 512, 512) and data type float32",
     "output_type": "error",
     "traceback": [
      "\u001b[1;31m---------------------------------------------------------------------------\u001b[0m",
      "\u001b[1;31mMemoryError\u001b[0m                               Traceback (most recent call last)",
      "\u001b[1;32m<ipython-input-19-f23e7c827f72>\u001b[0m in \u001b[0;36m<module>\u001b[1;34m\u001b[0m\n\u001b[0;32m     38\u001b[0m \u001b[1;31m#             Y_tr.append(patient_meta[tr_idx, 1])\u001b[0m\u001b[1;33m\u001b[0m\u001b[1;33m\u001b[0m\u001b[1;33m\u001b[0m\u001b[0m\n\u001b[0;32m     39\u001b[0m             \u001b[1;31m# Y_tr.append(max(DX_list[z:z+window_size])) # label df에서 환자정보, 몇번째 사진인지  input을 넣어주면 dx중에서 max를 가져옴\u001b[0m\u001b[1;33m\u001b[0m\u001b[1;33m\u001b[0m\u001b[1;33m\u001b[0m\u001b[0m\n\u001b[1;32m---> 40\u001b[1;33m         \u001b[0mX_i_tr_buffer\u001b[0m \u001b[1;33m=\u001b[0m \u001b[0mnp\u001b[0m\u001b[1;33m.\u001b[0m\u001b[0marray\u001b[0m\u001b[1;33m(\u001b[0m\u001b[0mX_i_tr_buffer\u001b[0m\u001b[1;33m)\u001b[0m\u001b[1;33m\u001b[0m\u001b[1;33m\u001b[0m\u001b[0m\n\u001b[0m\u001b[0;32m     41\u001b[0m         \u001b[0mX_i_tr\u001b[0m\u001b[1;33m.\u001b[0m\u001b[0mextend\u001b[0m\u001b[1;33m(\u001b[0m\u001b[0mX_i_tr_buffer\u001b[0m\u001b[1;33m)\u001b[0m\u001b[1;33m\u001b[0m\u001b[1;33m\u001b[0m\u001b[0m\n\u001b[0;32m     42\u001b[0m         \u001b[0mY_i_tr_buffer\u001b[0m \u001b[1;33m=\u001b[0m \u001b[0mnp\u001b[0m\u001b[1;33m.\u001b[0m\u001b[0marray\u001b[0m\u001b[1;33m(\u001b[0m\u001b[0mY_i_tr_buffer\u001b[0m\u001b[1;33m)\u001b[0m\u001b[1;33m\u001b[0m\u001b[1;33m\u001b[0m\u001b[0m\n",
      "\u001b[1;31mMemoryError\u001b[0m: Unable to allocate 890. MiB for an array with shape (178, 5, 512, 512) and data type float32"
     ]
    }
   ],
   "source": [
    "# 1 patient 당 DX list 가져오기\n",
    "# sliding-window Proprocessing (길이가 다른 z 축데이터를 동일하게 만들어준다.)\n",
    "window_size = 5\n",
    "# size = (32,32) #resize는 안하기 때문\n",
    "n_ct_statistics=[]\n",
    "# 10-cv Settings\n",
    "kf = KFold(n_splits=5, random_state=None, shuffle=True)\n",
    "for tr_list, te_list in kf.split(patient_meta):\n",
    "    # Train Dataset\n",
    "    X_p_tr, X_m_tr, X_i_tr, Y_tr = [], [], [], []\n",
    "    for tr_idx in tr_list:\n",
    "        patient_no = patient_meta[tr_idx, 0]\n",
    "        X_i_tr_ct_list =  sorted(glob.glob('./benchmark_liver_tumor/raw/'+patient_no+'/*.dcm'))\n",
    "        Y_i_tr_label_list =  sorted(glob.glob('./benchmark_liver_tumor/raw/'+patient_no+'/label/*.png'))\n",
    "        assert len(X_i_tr_ct_list) == len(Y_i_tr_label_list), \"CT 랑 label 갯수가 다릅니다.\"\n",
    "        n_ct = len(X_i_tr_ct_list)\n",
    "        # Load 3D CT Data per Patient\n",
    "        ct_block = [] #사진\n",
    "        label_block = [] # annotation label\n",
    "        for z in range(n_ct):\n",
    "            # ct_block.append(cv2.resize(cv2.normalize(exposure.equalize_adapthist(pdc.dcmread(X_i_tr_ct_list[z]).pixel_array, clip_limit=0.03, nbins=512), dst=None, alpha=0, beta=1, norm_type=cv2.NORM_MINMAX, dtype=cv2.CV_32F), dsize=size))\n",
    "            ct_block.append(cv2.normalize(pdc.dcmread(X_i_tr_ct_list[z]).pixel_array, dst=None, alpha=0, beta=1, norm_type=cv2.NORM_MINMAX, dtype=cv2.CV_32F))\n",
    "            im = np.array(Image.open(Y_i_tr_label_list[z]))\n",
    "            label_block.append(im)\n",
    "        ct_block = np.array(ct_block)\n",
    "        label_block = np.array(label_block)\n",
    "        # Sliding-window Preprocess\n",
    "        n_window = n_ct-window_size+1\n",
    "        X_i_tr_buffer = [] # window size 만큼 겹쳐서 잘라진 3d 이미지\n",
    "        Y_i_tr_buffer = [] # window size 만큼 겹쳐서 잘라진 annotation 이미지\n",
    "        DX_list=grouped_df.loc[patient_no,'DX']# 1 patient 당 DX list 가져오기\n",
    "        for z in range(n_window):\n",
    "            X_i_tr_buffer.append(ct_block[z:z+window_size]) # buffer에 겹쳐서 들어감\n",
    "            # dx = find_disease(patient_no) if np.mean([label.mean() for label in label_block[z:z+window_size]]) >0.0 else 0\n",
    "            Y_i_tr_buffer.append(label_block[z:z+window_size]) #buffer에 annotation 겹쳐서 들어감\n",
    "            X_p_tr.append(patient_no)# patient number\n",
    "            X_m_tr.append(patient_meta[tr_idx, 2:])#meta 정보 전체 \n",
    "#             Y_tr.append(patient_meta[tr_idx, 1]) \n",
    "            # Y_tr.append(max(DX_list[z:z+window_size])) # label df에서 환자정보, 몇번째 사진인지  input을 넣어주면 dx중에서 max를 가져옴\n",
    "        X_i_tr_buffer = np.array(X_i_tr_buffer)\n",
    "        X_i_tr.extend(X_i_tr_buffer)\n",
    "        Y_i_tr_buffer = np.array(Y_i_tr_buffer)\n",
    "        Y_tr.extend(Y_i_tr_buffer)\n",
    "        print(f\"{patient_no} done!\")\n",
    "    X_p_tr, X_m_tr, X_i_tr, Y_tr = np.array(X_p_tr), np.array(X_m_tr), np.array(X_i_tr), np.array(Y_tr)\n",
    "    print(X_p_tr.shape, X_m_tr.shape, X_i_tr.shape, Y_tr.shape)\n",
    "    # patient number, meta정보, window size 갯수만큼 겹쳐진 CT 사진, window 마다 y값(max함)\n",
    "    # Test Dataset\n",
    "    X_p_te, X_m_te, X_i_te, Y_te = [], [], [], []\n",
    "    for te_idx in te_list:\n",
    "        patient_no = patient_meta[te_idx, 0]\n",
    "        X_i_te_ct_list =  sorted(glob.glob('./benchmark_liver_tumor/raw/'+patient_no+'/*.dcm'))\n",
    "        Y_i_te_label_list =  sorted(glob.glob('./benchmark_liver_tumor/raw/'+patient_no+'/label/*.png'))\n",
    "        assert len(X_i_te_ct_list) == len(Y_i_te_label_list), \"CT 랑 label 갯수가 다릅니다.\"\n",
    "        n_ct = len(X_i_te_ct_list)\n",
    "        # Load 3D CT Data per Patient\n",
    "        ct_block = [] #사진\n",
    "        label_block = [] # annotation label\n",
    "        for z in range(n_ct):\n",
    "            ct_block.append(cv2.normalize(pdc.dcmread(X_i_te_ct_list[z]).pixel_array, dst=None, alpha=0, beta=1, norm_type=cv2.NORM_MINMAX, dtype=cv2.CV_32F))\n",
    "            im = np.array(Image.open(Y_i_te_label_list[z]))\n",
    "            label_block.append(im)\n",
    "        ct_block = np.array(ct_block)\n",
    "        label_block = np.array(label_block)\n",
    "        # Sliding-window Preprocess\n",
    "        n_window = n_ct-window_size+1\n",
    "        X_i_te_buffer = []\n",
    "        Y_i_te_buffer = []\n",
    "        DX_list=grouped_df.loc[patient_no,'DX']# 1 patient 당 DX list 가져오기\n",
    "        for z in range(n_window):\n",
    "            X_i_te_buffer.append(ct_block[z:z+window_size]) # buffer에 겹쳐서 들어감\n",
    "            dx = find_disease(patient_no) if np.mean([label.mean() for label in label_block[z:z+window_size]]) >0.0 else 0\n",
    "            Y_i_te_buffer.append(dx) #buffer에 annotation 겹쳐서 들어감\n",
    "            X_p_te.append(patient_no)# patient number\n",
    "            X_m_te.append(patient_meta[tr_idx, 2:])#meta 정보 전체 \n",
    "#             Y_tr.append(patient_meta[tr_idx, 1]) \n",
    "            # Y_tr.append(max(DX_list[z:z+window_size])) # label df에서 환자정보, 몇번째 사진인지  input을 넣어주면 dx중에서 max를 가져옴\n",
    "        X_i_te_buffer = np.array(X_i_te_buffer)\n",
    "        X_i_te.extend(X_i_te_buffer)\n",
    "        Y_i_te_buffer = np.array(Y_i_te_buffer)\n",
    "        Y_te.extend(Y_i_te_buffer)\n",
    "        print(f\"{patient_no} done!\")\n",
    "    X_p_te, X_m_te, X_i_te, Y_te = np.array(X_p_te), np.array(X_m_te), np.array(X_i_te), np.array(Y_te)\n",
    "    print(X_p_te.shape, X_m_te.shape, X_i_te.shape, Y_te.shape)\n",
    "    # patient number, meta정보, window size 갯수만큼 겹쳐진 CT 사진, window 마다 y값(max함)\n",
    "    break"
   ]
  },
  {
   "cell_type": "code",
   "execution_count": null,
   "metadata": {
    "colab": {
     "base_uri": "https://localhost:8080/",
     "height": 52
    },
    "executionInfo": {
     "elapsed": 6021,
     "status": "ok",
     "timestamp": 1603851882731,
     "user": {
      "displayName": "문다영",
      "photoUrl": "",
      "userId": "07688447272123265838"
     },
     "user_tz": -540
    },
    "id": "DHt6VJP9jp8X",
    "outputId": "51753b1a-5b1b-4d3f-9ada-7bb71da4608e"
   },
   "outputs": [],
   "source": [
    "# Load Dataset\n",
    "path = 'models/original_size_np/'\n",
    "X_p_tr, X_m_tr, X_i_tr, Y_tr = np.load(path+'X_p_tr.npy'), np.load(path+'X_m_tr.npy', allow_pickle=True), np.load(path+'X_i_tr.npy'), np.load(path+'Y_tr.npy')\n",
    "X_p_te, X_m_te, X_i_te, Y_te = np.load(path+'X_p_te.npy'), np.load(path+'X_m_te.npy', allow_pickle=True), np.load(path+'X_i_te.npy'), np.load(path+'Y_te.npy')\n",
    "X_m_tr, X_m_te = X_m_tr.astype('float32'), X_m_te.astype('float32')\n",
    "Y_tr_cat, Y_te_cat = to_categorical(Y_tr), to_categorical(Y_te) # one-hot-encode\n",
    "print(X_p_tr.shape, X_m_tr.shape, X_i_tr.shape, Y_tr.shape, Y_tr_cat.shape)\n",
    "print(X_p_te.shape, X_m_te.shape, X_i_te.shape, Y_te.shape, Y_te_cat.shape)"
   ]
  },
  {
   "cell_type": "code",
   "execution_count": null,
   "metadata": {
    "id": "NQ9KGIgbOeP6"
   },
   "outputs": [],
   "source": [
    "# x랑 y를 한번에 불러와서 patch단위로 자르고, 하나씩 학습해서 1개의 아우풋을 만드는 걸 해야해"
   ]
  },
  {
   "cell_type": "code",
   "execution_count": 6,
   "metadata": {
    "colab": {
     "base_uri": "https://localhost:8080/",
     "height": 52
    },
    "executionInfo": {
     "elapsed": 718,
     "status": "ok",
     "timestamp": 1603851901915,
     "user": {
      "displayName": "문다영",
      "photoUrl": "",
      "userId": "07688447272123265838"
     },
     "user_tz": -540
    },
    "id": "M3wtCGUujp8a",
    "outputId": "444834df-b7cb-4e95-937e-7afc6ee199c5"
   },
   "outputs": [
    {
     "name": "stdout",
     "output_type": "stream",
     "text": [
      "(10562, 32, 32, 5)\n",
      "(2845, 32, 32, 5)\n"
     ]
    }
   ],
   "source": [
    "# Permute Channels\n",
    "X_i_tr = np.rollaxis(X_i_tr, 1, 4)\n",
    "X_i_te = np.rollaxis(X_i_te, 1, 4)\n",
    "print(X_i_tr.shape)\n",
    "print(X_i_te.shape)"
   ]
  },
  {
   "cell_type": "code",
   "execution_count": null,
   "metadata": {
    "id": "xu6h1QK8KGgT"
   },
   "outputs": [],
   "source": [
    "print(X_i_tr[0].shape)\n"
   ]
  },
  {
   "cell_type": "code",
   "execution_count": null,
   "metadata": {
    "colab": {
     "base_uri": "https://localhost:8080/",
     "height": 148
    },
    "executionInfo": {
     "elapsed": 1298,
     "status": "ok",
     "timestamp": 1603778558045,
     "user": {
      "displayName": "문다영",
      "photoUrl": "",
      "userId": "07688447272123265838"
     },
     "user_tz": -540
    },
    "id": "h7UASRM4ple2",
    "outputId": "9ea229d6-b898-4f9f-bf04-f04bf500623a"
   },
   "outputs": [
    {
     "data": {
      "application/vnd.google.colaboratory.intrinsic+json": {
       "type": "string"
      },
      "text/plain": [
       "\"\\ncnn_input = tf.keras.Input((X_i_tr.shape[1], X_i_tr.shape[2], X_i_tr.shape[3]))\\nh = tf.keras.layers.Reshape((X_i_tr.shape[1], X_i_tr.shape[2], X_i_tr.shape[3], 1))(cnn_input)\\nh = tf.keras.layers.Conv3D(filters=16, kernel_size=(2, 2, 2), padding='same', activation='tanh')(h)\\nh = tf.keras.layers.MaxPool3D((2, 2, 1))(h)\\nh = tf.keras.layers.Conv3D(filters=16, kernel_size=(2, 2, 2), padding='same', activation='tanh')(h)\\nh = tf.keras.layers.MaxPool3D((2, 2, 1))(h)\\nh = tf.keras.layers.Conv3D(filters=16, kernel_size=(2, 2, 2), padding='same', activation='tanh')(h)\\nh = tf.keras.layers.MaxPool3D((3, 3, 1))(h)\\nh = tf.keras.layers.Conv3D(filters=16, kernel_size=(2, 2, 2), padding='same', activation='tanh')(h)\\nh = tf.keras.layers.MaxPool3D((2, 2, 1))(h)\\nh = tf.keras.layers.Dropout(0.5)(h)\\nh = tf.keras.layers.Flatten()(h)\\nh = tf.keras.layers.Dense(128, activation='tanh')(h)\\nh = tf.keras.layers.Dense(64, activation='tanh')(h)\\ncnn_output = tf.keras.layers.Dense(Y_tr_cat.shape[1], activation='softmax')(h)\\ncnn = tf.keras.Model(cnn_input, cnn_output)\\ncnn.compile(loss='categorical_crossentropy', optimizer='adam', metrics=['accuracy'])\\ncnn.summary()\\n\""
      ]
     },
     "execution_count": 22,
     "metadata": {
      "tags": []
     },
     "output_type": "execute_result"
    }
   ],
   "source": [
    "# Build Model (3D-CNN)\n",
    "# trail 1\n",
    "'''\n",
    "cnn_input = tf.keras.Input((X_i_tr.shape[1], X_i_tr.shape[2], X_i_tr.shape[3]))\n",
    "h = tf.keras.layers.Reshape((X_i_tr.shape[1], X_i_tr.shape[2], X_i_tr.shape[3], 1))(cnn_input)\n",
    "h = tf.keras.layers.Conv3D(filters=16, kernel_size=(2, 2, 2), padding='same', activation='tanh')(h)\n",
    "h = tf.keras.layers.MaxPool3D((2, 2, 1))(h)\n",
    "h = tf.keras.layers.Conv3D(filters=16, kernel_size=(2, 2, 2), padding='same', activation='tanh')(h)\n",
    "h = tf.keras.layers.MaxPool3D((2, 2, 1))(h)\n",
    "h = tf.keras.layers.Conv3D(filters=16, kernel_size=(2, 2, 2), padding='same', activation='tanh')(h)\n",
    "h = tf.keras.layers.MaxPool3D((3, 3, 1))(h)\n",
    "h = tf.keras.layers.Conv3D(filters=16, kernel_size=(2, 2, 2), padding='same', activation='tanh')(h)\n",
    "h = tf.keras.layers.MaxPool3D((2, 2, 1))(h)\n",
    "h = tf.keras.layers.Dropout(0.5)(h)\n",
    "h = tf.keras.layers.Flatten()(h)\n",
    "h = tf.keras.layers.Dense(128, activation='tanh')(h)\n",
    "h = tf.keras.layers.Dense(64, activation='tanh')(h)\n",
    "cnn_output = tf.keras.layers.Dense(Y_tr_cat.shape[1], activation='softmax')(h)\n",
    "cnn = tf.keras.Model(cnn_input, cnn_output)\n",
    "cnn.compile(loss='categorical_crossentropy', optimizer='adam', metrics=['accuracy'])\n",
    "cnn.summary()\n",
    "'''"
   ]
  },
  {
   "cell_type": "code",
   "execution_count": null,
   "metadata": {
    "id": "Mgui0wAfBiem"
   },
   "outputs": [],
   "source": [
    "def read_slide(slide, x, y, level, width, height, as_float=False):\n",
    "    im = slide.read_region((x,y), level, (width, height)) #(top left pixel in the level 0 reference frame),level, tuple giving the region size\n",
    "    im = im.convert('RGB') # drop the alpha channel\n",
    "    if as_float:\n",
    "        im = np.asarray(im, dtype=np.float32)\n",
    "    else:\n",
    "        im = np.asarray(im)\n",
    "    assert im.shape == (height, width, 3)\n",
    "    return im"
   ]
  },
  {
   "cell_type": "code",
   "execution_count": null,
   "metadata": {
    "colab": {
     "base_uri": "https://localhost:8080/",
     "height": 689
    },
    "executionInfo": {
     "elapsed": 952,
     "status": "ok",
     "timestamp": 1603778838492,
     "user": {
      "displayName": "문다영",
      "photoUrl": "",
      "userId": "07688447272123265838"
     },
     "user_tz": -540
    },
    "id": "ildp8ibjjp8c",
    "outputId": "c7d4d645-fedc-4eef-d162-40200b10d964"
   },
   "outputs": [
    {
     "name": "stdout",
     "output_type": "stream",
     "text": [
      "Model: \"functional_5\"\n",
      "_________________________________________________________________\n",
      "Layer (type)                 Output Shape              Param #   \n",
      "=================================================================\n",
      "input_3 (InputLayer)         [(None, 32, 32, 5)]       0         \n",
      "_________________________________________________________________\n",
      "reshape_2 (Reshape)          (None, 32, 32, 5, 1)      0         \n",
      "_________________________________________________________________\n",
      "conv3d_7 (Conv3D)            (None, 32, 32, 5, 16)     144       \n",
      "_________________________________________________________________\n",
      "max_pooling3d_7 (MaxPooling3 (None, 16, 16, 5, 16)     0         \n",
      "_________________________________________________________________\n",
      "conv3d_8 (Conv3D)            (None, 16, 16, 5, 16)     2064      \n",
      "_________________________________________________________________\n",
      "max_pooling3d_8 (MaxPooling3 (None, 8, 8, 5, 16)       0         \n",
      "_________________________________________________________________\n",
      "dropout_3 (Dropout)          (None, 8, 8, 5, 16)       0         \n",
      "_________________________________________________________________\n",
      "conv3d_9 (Conv3D)            (None, 8, 8, 5, 16)       2064      \n",
      "_________________________________________________________________\n",
      "max_pooling3d_9 (MaxPooling3 (None, 4, 4, 5, 16)       0         \n",
      "_________________________________________________________________\n",
      "dropout_4 (Dropout)          (None, 4, 4, 5, 16)       0         \n",
      "_________________________________________________________________\n",
      "flatten_2 (Flatten)          (None, 1280)              0         \n",
      "_________________________________________________________________\n",
      "dense_6 (Dense)              (None, 128)               163968    \n",
      "_________________________________________________________________\n",
      "dense_7 (Dense)              (None, 64)                8256      \n",
      "_________________________________________________________________\n",
      "dense_8 (Dense)              (None, 4)                 260       \n",
      "=================================================================\n",
      "Total params: 176,756\n",
      "Trainable params: 176,756\n",
      "Non-trainable params: 0\n",
      "_________________________________________________________________\n"
     ]
    }
   ],
   "source": [
    "# Build Model (3D-CNN) -trail2\n",
    "cnn_input = tf.keras.Input((X_i_tr.shape[1], X_i_tr.shape[2], X_i_tr.shape[3]))\n",
    "h = tf.keras.layers.Reshape((X_i_tr.shape[1], X_i_tr.shape[2], X_i_tr.shape[3], 1))(cnn_input)\n",
    "h = tf.keras.layers.Conv3D(filters=16, kernel_size=(2, 2, 2), padding='same', activation='relu')(h)\n",
    "h = tf.keras.layers.MaxPool3D((2, 2, 1))(h)\n",
    "h = tf.keras.layers.Conv3D(filters=16, kernel_size=(2, 2, 2), padding='same', activation='relu')(h)\n",
    "h = tf.keras.layers.MaxPool3D((2, 2, 1))(h)\n",
    "h = tf.keras.layers.Dropout(0.5)(h)\n",
    "h = tf.keras.layers.Conv3D(filters=16, kernel_size=(2, 2, 2), padding='same', activation='relu')(h)\n",
    "h = tf.keras.layers.MaxPool3D((2, 2, 1))(h)\n",
    "h = tf.keras.layers.Dropout(0.5)(h)\n",
    "h = tf.keras.layers.Flatten()(h)\n",
    "h = tf.keras.layers.Dense(128, activation='relu')(h)\n",
    "h = tf.keras.layers.Dense(64, activation='relu')(h)\n",
    "cnn_output = tf.keras.layers.Dense(Y_tr_cat.shape[1], activation='softmax')(h)\n",
    "cnn = tf.keras.Model(cnn_input, cnn_output)\n",
    "cnn.compile(loss='categorical_crossentropy', optimizer='adam', metrics=['accuracy'])\n",
    "cnn.summary()\n",
    "\n",
    "# display(Image(filename=\"./model/cnn.png\"))"
   ]
  },
  {
   "cell_type": "code",
   "execution_count": null,
   "metadata": {
    "id": "1CiWY5Gyjp8e",
    "outputId": "5abf8539-6035-4c5b-dbc3-2767f269e99e"
   },
   "outputs": [
    {
     "data": {
      "text/plain": [
       "\"\\nfrom keras.models import Sequential\\n# Define the model\\nprint(X_i_tr.shape[1], X_i_tr.shape[2], X_i_tr.shape[3])\\n\\nmodel = tf.keras.models.Sequential([\\n    # 64 64 5\\n    tf.keras.layers.Conv3D(16, (2,2,2), activation='tanh', input_shape=(X_i_tr.shape[1], X_i_tr.shape[2], X_i_tr.shape[3],1)),\\n    tf.keras.layers.MaxPool3D((2, 2, 1)),\\n\\n    tf.keras.layers.Conv3D(16, (2,2,2), activation='tanh'),\\n    tf.keras.layers.MaxPool3D((2, 2, 1)),\\n\\n    tf.keras.layers.Conv3D(16, (2,2,2), activation='tanh'),\\n    tf.keras.layers.MaxPool3D((2, 2, 1)),\\n\\n    tf.keras.layers.Conv3D(16, (2,2,2), activation='tanh'),\\n    tf.keras.layers.MaxPool3D((2, 2, 1)),\\n\\n    # Dropout probability of 0.5. It means that 50% of the values comming into the Dropout layer will be set to zero\\n    tf.keras.layers.Dropout(0.5),\\n    tf.keras.layers.Flatten(),\\n    tf.keras.layers.Dense(128, activation='tanh'),\\n    tf.keras.layers.Dense(64, activation='tanh'),\\n    tf.keras.layers.Dense(2, activation='softmax')\\n])\\n\""
      ]
     },
     "execution_count": 16,
     "metadata": {
      "tags": []
     },
     "output_type": "execute_result"
    }
   ],
   "source": [
    "'''\n",
    "from keras.models import Sequential\n",
    "# Define the model\n",
    "print(X_i_tr.shape[1], X_i_tr.shape[2], X_i_tr.shape[3])\n",
    "\n",
    "model = tf.keras.models.Sequential([\n",
    "    # 64 64 5\n",
    "    tf.keras.layers.Conv3D(16, (2,2,2), activation='tanh', input_shape=(X_i_tr.shape[1], X_i_tr.shape[2], X_i_tr.shape[3],1)),\n",
    "    tf.keras.layers.MaxPool3D((2, 2, 1)),\n",
    "\n",
    "    tf.keras.layers.Conv3D(16, (2,2,2), activation='tanh'),\n",
    "    tf.keras.layers.MaxPool3D((2, 2, 1)),\n",
    "\n",
    "    tf.keras.layers.Conv3D(16, (2,2,2), activation='tanh'),\n",
    "    tf.keras.layers.MaxPool3D((2, 2, 1)),\n",
    "\n",
    "    tf.keras.layers.Conv3D(16, (2,2,2), activation='tanh'),\n",
    "    tf.keras.layers.MaxPool3D((2, 2, 1)),\n",
    "\n",
    "    # Dropout probability of 0.5. It means that 50% of the values comming into the Dropout layer will be set to zero\n",
    "    tf.keras.layers.Dropout(0.5),\n",
    "    tf.keras.layers.Flatten(),\n",
    "    tf.keras.layers.Dense(128, activation='tanh'),\n",
    "    tf.keras.layers.Dense(64, activation='tanh'),\n",
    "    tf.keras.layers.Dense(2, activation='softmax')\n",
    "])\n",
    "'''\n"
   ]
  },
  {
   "cell_type": "code",
   "execution_count": null,
   "metadata": {
    "id": "GVapzAUEjp8h",
    "outputId": "0e58f86a-1ad3-4e70-cb85-ce30eabbb4e2"
   },
   "outputs": [
    {
     "data": {
      "text/plain": [
       "\"\\n# Compile the model\\nmodel.compile(optimizer='adam',\\n             loss=tf.keras.losses.SparseCategoricalCrossentropy(from_logits=True),\\n              metrics=['accuracy'])\\n\\n# Summarize the model\\nmodel.summary()\\n\""
      ]
     },
     "execution_count": 17,
     "metadata": {
      "tags": []
     },
     "output_type": "execute_result"
    }
   ],
   "source": [
    "'''\n",
    "# Compile the model\n",
    "model.compile(optimizer='adam',\n",
    "             loss=tf.keras.losses.SparseCategoricalCrossentropy(from_logits=True),\n",
    "              metrics=['accuracy'])\n",
    "\n",
    "# Summarize the model\n",
    "model.summary()\n",
    "'''"
   ]
  },
  {
   "cell_type": "code",
   "execution_count": null,
   "metadata": {
    "colab": {
     "base_uri": "https://localhost:8080/",
     "height": 1000
    },
    "executionInfo": {
     "elapsed": 83561,
     "status": "ok",
     "timestamp": 1603778925598,
     "user": {
      "displayName": "문다영",
      "photoUrl": "",
      "userId": "07688447272123265838"
     },
     "user_tz": -540
    },
    "id": "yRvU554njp8k",
    "outputId": "bd355ab0-82f0-4057-f620-f027540660bd"
   },
   "outputs": [
    {
     "name": "stdout",
     "output_type": "stream",
     "text": [
      "Epoch 1/200\n",
      "21/21 - 1s - loss: 0.8477 - accuracy: 0.7546 - val_loss: 0.7736 - val_accuracy: 0.8661\n",
      "Epoch 2/200\n",
      "21/21 - 1s - loss: 0.7446 - accuracy: 0.7895 - val_loss: 0.7816 - val_accuracy: 0.8661\n",
      "Epoch 3/200\n",
      "21/21 - 1s - loss: 0.7272 - accuracy: 0.7895 - val_loss: 0.7276 - val_accuracy: 0.8661\n",
      "Epoch 4/200\n",
      "21/21 - 1s - loss: 0.7063 - accuracy: 0.7895 - val_loss: 0.6706 - val_accuracy: 0.8661\n",
      "Epoch 5/200\n",
      "21/21 - 1s - loss: 0.6865 - accuracy: 0.7895 - val_loss: 0.6171 - val_accuracy: 0.8661\n",
      "Epoch 6/200\n",
      "21/21 - 1s - loss: 0.6466 - accuracy: 0.7895 - val_loss: 0.6121 - val_accuracy: 0.8661\n",
      "Epoch 7/200\n",
      "21/21 - 1s - loss: 0.6107 - accuracy: 0.7899 - val_loss: 0.5065 - val_accuracy: 0.8661\n",
      "Epoch 8/200\n",
      "21/21 - 1s - loss: 0.5821 - accuracy: 0.7932 - val_loss: 0.5017 - val_accuracy: 0.8548\n",
      "Epoch 9/200\n",
      "21/21 - 1s - loss: 0.5709 - accuracy: 0.7939 - val_loss: 0.5432 - val_accuracy: 0.8580\n",
      "Epoch 10/200\n",
      "21/21 - 1s - loss: 0.5542 - accuracy: 0.7987 - val_loss: 0.4642 - val_accuracy: 0.8605\n",
      "Epoch 11/200\n",
      "21/21 - 1s - loss: 0.5365 - accuracy: 0.8025 - val_loss: 0.4899 - val_accuracy: 0.8471\n",
      "Epoch 12/200\n",
      "21/21 - 1s - loss: 0.5243 - accuracy: 0.8081 - val_loss: 0.4546 - val_accuracy: 0.8531\n",
      "Epoch 13/200\n",
      "21/21 - 1s - loss: 0.5083 - accuracy: 0.8134 - val_loss: 0.4659 - val_accuracy: 0.8499\n",
      "Epoch 14/200\n",
      "21/21 - 1s - loss: 0.4856 - accuracy: 0.8179 - val_loss: 0.4802 - val_accuracy: 0.8380\n",
      "Epoch 15/200\n",
      "21/21 - 1s - loss: 0.4800 - accuracy: 0.8205 - val_loss: 0.4725 - val_accuracy: 0.8348\n",
      "Epoch 16/200\n",
      "21/21 - 1s - loss: 0.4615 - accuracy: 0.8282 - val_loss: 0.4577 - val_accuracy: 0.8292\n",
      "Epoch 17/200\n",
      "21/21 - 1s - loss: 0.4501 - accuracy: 0.8304 - val_loss: 0.4433 - val_accuracy: 0.8355\n",
      "Epoch 18/200\n",
      "21/21 - 1s - loss: 0.4368 - accuracy: 0.8348 - val_loss: 0.4351 - val_accuracy: 0.8359\n",
      "Epoch 19/200\n",
      "21/21 - 1s - loss: 0.4275 - accuracy: 0.8362 - val_loss: 0.4511 - val_accuracy: 0.8337\n",
      "Epoch 20/200\n",
      "21/21 - 1s - loss: 0.4180 - accuracy: 0.8360 - val_loss: 0.4476 - val_accuracy: 0.8467\n",
      "Epoch 21/200\n",
      "21/21 - 1s - loss: 0.4058 - accuracy: 0.8437 - val_loss: 0.4425 - val_accuracy: 0.8380\n",
      "Epoch 22/200\n",
      "21/21 - 1s - loss: 0.4051 - accuracy: 0.8457 - val_loss: 0.4836 - val_accuracy: 0.8250\n",
      "Epoch 23/200\n",
      "21/21 - 1s - loss: 0.3852 - accuracy: 0.8516 - val_loss: 0.4579 - val_accuracy: 0.8309\n",
      "Epoch 24/200\n",
      "21/21 - 1s - loss: 0.3845 - accuracy: 0.8503 - val_loss: 0.4539 - val_accuracy: 0.8380\n",
      "Epoch 25/200\n",
      "21/21 - 1s - loss: 0.3782 - accuracy: 0.8553 - val_loss: 0.4663 - val_accuracy: 0.8355\n",
      "Epoch 26/200\n",
      "21/21 - 1s - loss: 0.3634 - accuracy: 0.8549 - val_loss: 0.4656 - val_accuracy: 0.8401\n",
      "Epoch 27/200\n",
      "21/21 - 1s - loss: 0.3583 - accuracy: 0.8563 - val_loss: 0.4647 - val_accuracy: 0.8401\n",
      "Epoch 28/200\n",
      "21/21 - 1s - loss: 0.3501 - accuracy: 0.8621 - val_loss: 0.4734 - val_accuracy: 0.8369\n",
      "Epoch 29/200\n",
      "21/21 - 1s - loss: 0.3454 - accuracy: 0.8646 - val_loss: 0.4820 - val_accuracy: 0.8337\n",
      "Epoch 30/200\n",
      "21/21 - 1s - loss: 0.3494 - accuracy: 0.8645 - val_loss: 0.4771 - val_accuracy: 0.8401\n",
      "Epoch 31/200\n",
      "21/21 - 1s - loss: 0.3409 - accuracy: 0.8657 - val_loss: 0.4847 - val_accuracy: 0.8390\n",
      "Epoch 32/200\n",
      "21/21 - 1s - loss: 0.3300 - accuracy: 0.8650 - val_loss: 0.4949 - val_accuracy: 0.8351\n",
      "Epoch 33/200\n",
      "21/21 - 1s - loss: 0.3255 - accuracy: 0.8729 - val_loss: 0.5094 - val_accuracy: 0.8355\n",
      "Epoch 34/200\n",
      "21/21 - 1s - loss: 0.3185 - accuracy: 0.8725 - val_loss: 0.5013 - val_accuracy: 0.8387\n",
      "Epoch 35/200\n",
      "21/21 - 1s - loss: 0.3192 - accuracy: 0.8743 - val_loss: 0.5090 - val_accuracy: 0.8316\n",
      "Epoch 36/200\n",
      "21/21 - 1s - loss: 0.3161 - accuracy: 0.8760 - val_loss: 0.4951 - val_accuracy: 0.8408\n",
      "Epoch 37/200\n",
      "21/21 - 1s - loss: 0.3085 - accuracy: 0.8752 - val_loss: 0.5174 - val_accuracy: 0.8327\n",
      "Epoch 38/200\n",
      "21/21 - 1s - loss: 0.3108 - accuracy: 0.8759 - val_loss: 0.5125 - val_accuracy: 0.8460\n",
      "Epoch 39/200\n",
      "21/21 - 1s - loss: 0.2979 - accuracy: 0.8801 - val_loss: 0.5170 - val_accuracy: 0.8517\n",
      "Epoch 40/200\n",
      "21/21 - 1s - loss: 0.3107 - accuracy: 0.8765 - val_loss: 0.5414 - val_accuracy: 0.8278\n",
      "Epoch 41/200\n",
      "21/21 - 1s - loss: 0.2944 - accuracy: 0.8811 - val_loss: 0.5446 - val_accuracy: 0.8257\n",
      "Epoch 42/200\n",
      "21/21 - 1s - loss: 0.2911 - accuracy: 0.8825 - val_loss: 0.5372 - val_accuracy: 0.8464\n",
      "Epoch 43/200\n",
      "21/21 - 1s - loss: 0.2896 - accuracy: 0.8823 - val_loss: 0.5639 - val_accuracy: 0.8197\n",
      "Epoch 44/200\n",
      "21/21 - 1s - loss: 0.2865 - accuracy: 0.8862 - val_loss: 0.5459 - val_accuracy: 0.8351\n",
      "Epoch 45/200\n",
      "21/21 - 1s - loss: 0.2801 - accuracy: 0.8883 - val_loss: 0.5631 - val_accuracy: 0.8288\n",
      "Epoch 46/200\n",
      "21/21 - 1s - loss: 0.2764 - accuracy: 0.8885 - val_loss: 0.5834 - val_accuracy: 0.8225\n",
      "Epoch 47/200\n",
      "21/21 - 1s - loss: 0.2772 - accuracy: 0.8882 - val_loss: 0.5335 - val_accuracy: 0.8408\n",
      "Epoch 48/200\n",
      "21/21 - 1s - loss: 0.2751 - accuracy: 0.8895 - val_loss: 0.5642 - val_accuracy: 0.8348\n",
      "Epoch 49/200\n",
      "21/21 - 1s - loss: 0.2724 - accuracy: 0.8908 - val_loss: 0.5604 - val_accuracy: 0.8351\n",
      "Epoch 50/200\n",
      "21/21 - 1s - loss: 0.2621 - accuracy: 0.8925 - val_loss: 0.5744 - val_accuracy: 0.8355\n",
      "Epoch 51/200\n",
      "21/21 - 1s - loss: 0.2735 - accuracy: 0.8909 - val_loss: 0.5864 - val_accuracy: 0.8239\n",
      "Epoch 52/200\n",
      "21/21 - 1s - loss: 0.2625 - accuracy: 0.8932 - val_loss: 0.5840 - val_accuracy: 0.8302\n",
      "Epoch 53/200\n",
      "21/21 - 1s - loss: 0.2551 - accuracy: 0.8938 - val_loss: 0.5627 - val_accuracy: 0.8457\n",
      "Epoch 54/200\n",
      "21/21 - 1s - loss: 0.2534 - accuracy: 0.9000 - val_loss: 0.5951 - val_accuracy: 0.8288\n",
      "Epoch 55/200\n",
      "21/21 - 1s - loss: 0.2561 - accuracy: 0.9016 - val_loss: 0.5767 - val_accuracy: 0.8467\n",
      "Epoch 56/200\n",
      "21/21 - 1s - loss: 0.2551 - accuracy: 0.9007 - val_loss: 0.6306 - val_accuracy: 0.8155\n",
      "Epoch 57/200\n",
      "21/21 - 1s - loss: 0.2459 - accuracy: 0.9028 - val_loss: 0.6211 - val_accuracy: 0.8183\n",
      "Epoch 58/200\n",
      "21/21 - 1s - loss: 0.2405 - accuracy: 0.9031 - val_loss: 0.6095 - val_accuracy: 0.8309\n",
      "Epoch 59/200\n",
      "21/21 - 1s - loss: 0.2447 - accuracy: 0.9008 - val_loss: 0.6117 - val_accuracy: 0.8380\n",
      "Epoch 60/200\n",
      "21/21 - 1s - loss: 0.2399 - accuracy: 0.9021 - val_loss: 0.5960 - val_accuracy: 0.8362\n",
      "Epoch 61/200\n",
      "21/21 - 1s - loss: 0.2306 - accuracy: 0.9066 - val_loss: 0.6369 - val_accuracy: 0.8060\n",
      "Epoch 62/200\n",
      "21/21 - 1s - loss: 0.2396 - accuracy: 0.9039 - val_loss: 0.6312 - val_accuracy: 0.8432\n",
      "Epoch 63/200\n",
      "21/21 - 1s - loss: 0.2339 - accuracy: 0.9063 - val_loss: 0.6426 - val_accuracy: 0.8260\n",
      "Epoch 64/200\n",
      "21/21 - 1s - loss: 0.2279 - accuracy: 0.9089 - val_loss: 0.6371 - val_accuracy: 0.8228\n",
      "Epoch 65/200\n",
      "21/21 - 1s - loss: 0.2261 - accuracy: 0.9096 - val_loss: 0.6331 - val_accuracy: 0.8362\n",
      "Epoch 66/200\n",
      "21/21 - 1s - loss: 0.2257 - accuracy: 0.9084 - val_loss: 0.6583 - val_accuracy: 0.8228\n",
      "Epoch 67/200\n",
      "21/21 - 1s - loss: 0.2284 - accuracy: 0.9099 - val_loss: 0.6491 - val_accuracy: 0.8204\n",
      "Epoch 68/200\n",
      "21/21 - 1s - loss: 0.2187 - accuracy: 0.9121 - val_loss: 0.6432 - val_accuracy: 0.8323\n",
      "Epoch 69/200\n",
      "21/21 - 1s - loss: 0.2246 - accuracy: 0.9079 - val_loss: 0.6427 - val_accuracy: 0.8281\n",
      "Epoch 70/200\n",
      "21/21 - 1s - loss: 0.2231 - accuracy: 0.9095 - val_loss: 0.6637 - val_accuracy: 0.8193\n",
      "Epoch 71/200\n",
      "21/21 - 1s - loss: 0.2095 - accuracy: 0.9159 - val_loss: 0.6587 - val_accuracy: 0.8239\n",
      "Epoch 72/200\n",
      "21/21 - 1s - loss: 0.2185 - accuracy: 0.9128 - val_loss: 0.6503 - val_accuracy: 0.8176\n",
      "Epoch 73/200\n",
      "21/21 - 1s - loss: 0.2102 - accuracy: 0.9165 - val_loss: 0.6558 - val_accuracy: 0.8236\n",
      "Epoch 74/200\n",
      "21/21 - 1s - loss: 0.2078 - accuracy: 0.9196 - val_loss: 0.6684 - val_accuracy: 0.8218\n",
      "Epoch 75/200\n",
      "21/21 - 1s - loss: 0.2095 - accuracy: 0.9127 - val_loss: 0.6572 - val_accuracy: 0.8295\n",
      "Epoch 76/200\n",
      "21/21 - 1s - loss: 0.2053 - accuracy: 0.9183 - val_loss: 0.6786 - val_accuracy: 0.8200\n",
      "Epoch 77/200\n",
      "21/21 - 1s - loss: 0.1992 - accuracy: 0.9222 - val_loss: 0.6957 - val_accuracy: 0.8274\n",
      "Epoch 78/200\n",
      "21/21 - 1s - loss: 0.1984 - accuracy: 0.9203 - val_loss: 0.6926 - val_accuracy: 0.8299\n",
      "Epoch 79/200\n",
      "21/21 - 1s - loss: 0.2019 - accuracy: 0.9183 - val_loss: 0.7218 - val_accuracy: 0.8112\n",
      "Epoch 80/200\n",
      "21/21 - 1s - loss: 0.2023 - accuracy: 0.9205 - val_loss: 0.6790 - val_accuracy: 0.8320\n",
      "Epoch 81/200\n",
      "21/21 - 1s - loss: 0.1953 - accuracy: 0.9230 - val_loss: 0.7111 - val_accuracy: 0.8239\n",
      "Epoch 82/200\n",
      "21/21 - 1s - loss: 0.1959 - accuracy: 0.9226 - val_loss: 0.6983 - val_accuracy: 0.8228\n",
      "Epoch 83/200\n",
      "21/21 - 1s - loss: 0.1940 - accuracy: 0.9228 - val_loss: 0.6984 - val_accuracy: 0.8228\n",
      "Epoch 84/200\n",
      "21/21 - 1s - loss: 0.1956 - accuracy: 0.9217 - val_loss: 0.6932 - val_accuracy: 0.8267\n",
      "Epoch 85/200\n",
      "21/21 - 1s - loss: 0.1867 - accuracy: 0.9270 - val_loss: 0.7153 - val_accuracy: 0.8246\n",
      "Epoch 86/200\n",
      "21/21 - 1s - loss: 0.1899 - accuracy: 0.9244 - val_loss: 0.7074 - val_accuracy: 0.8169\n",
      "Epoch 87/200\n",
      "21/21 - 1s - loss: 0.1865 - accuracy: 0.9285 - val_loss: 0.7106 - val_accuracy: 0.8239\n",
      "Epoch 88/200\n",
      "21/21 - 1s - loss: 0.1835 - accuracy: 0.9264 - val_loss: 0.7161 - val_accuracy: 0.8295\n",
      "Epoch 89/200\n",
      "21/21 - 1s - loss: 0.1870 - accuracy: 0.9262 - val_loss: 0.7657 - val_accuracy: 0.8274\n",
      "Epoch 90/200\n",
      "21/21 - 1s - loss: 0.1767 - accuracy: 0.9302 - val_loss: 0.7610 - val_accuracy: 0.8134\n",
      "Epoch 91/200\n",
      "21/21 - 1s - loss: 0.1857 - accuracy: 0.9240 - val_loss: 0.7400 - val_accuracy: 0.8439\n",
      "Epoch 92/200\n",
      "21/21 - 1s - loss: 0.1861 - accuracy: 0.9274 - val_loss: 0.7305 - val_accuracy: 0.8376\n",
      "Epoch 93/200\n",
      "21/21 - 1s - loss: 0.1808 - accuracy: 0.9290 - val_loss: 0.7637 - val_accuracy: 0.8211\n",
      "Epoch 94/200\n",
      "21/21 - 1s - loss: 0.1706 - accuracy: 0.9330 - val_loss: 0.7851 - val_accuracy: 0.8120\n",
      "Epoch 95/200\n",
      "21/21 - 1s - loss: 0.1671 - accuracy: 0.9352 - val_loss: 0.7805 - val_accuracy: 0.8116\n",
      "Epoch 96/200\n",
      "21/21 - 1s - loss: 0.1742 - accuracy: 0.9285 - val_loss: 0.7375 - val_accuracy: 0.8292\n",
      "Epoch 97/200\n",
      "21/21 - 1s - loss: 0.1646 - accuracy: 0.9335 - val_loss: 0.8006 - val_accuracy: 0.8257\n",
      "Epoch 98/200\n",
      "21/21 - 1s - loss: 0.1620 - accuracy: 0.9366 - val_loss: 0.7929 - val_accuracy: 0.8246\n",
      "Epoch 99/200\n",
      "21/21 - 1s - loss: 0.1623 - accuracy: 0.9346 - val_loss: 0.7846 - val_accuracy: 0.8204\n",
      "Epoch 100/200\n",
      "21/21 - 1s - loss: 0.1641 - accuracy: 0.9347 - val_loss: 0.7955 - val_accuracy: 0.8035\n",
      "Epoch 101/200\n",
      "21/21 - 1s - loss: 0.1669 - accuracy: 0.9372 - val_loss: 0.7563 - val_accuracy: 0.8306\n",
      "Epoch 102/200\n",
      "21/21 - 1s - loss: 0.1635 - accuracy: 0.9358 - val_loss: 0.7565 - val_accuracy: 0.8179\n",
      "Epoch 103/200\n",
      "21/21 - 1s - loss: 0.1591 - accuracy: 0.9372 - val_loss: 0.8156 - val_accuracy: 0.8095\n",
      "Epoch 104/200\n",
      "21/21 - 1s - loss: 0.1580 - accuracy: 0.9393 - val_loss: 0.8116 - val_accuracy: 0.8200\n",
      "Epoch 105/200\n",
      "21/21 - 1s - loss: 0.1608 - accuracy: 0.9377 - val_loss: 0.7984 - val_accuracy: 0.8253\n",
      "Epoch 106/200\n",
      "21/21 - 1s - loss: 0.1525 - accuracy: 0.9396 - val_loss: 0.7936 - val_accuracy: 0.8193\n",
      "Epoch 107/200\n",
      "21/21 - 1s - loss: 0.1471 - accuracy: 0.9427 - val_loss: 0.7877 - val_accuracy: 0.8253\n",
      "Epoch 108/200\n",
      "21/21 - 1s - loss: 0.1443 - accuracy: 0.9429 - val_loss: 0.8106 - val_accuracy: 0.8313\n",
      "Epoch 109/200\n",
      "21/21 - 1s - loss: 0.1565 - accuracy: 0.9375 - val_loss: 0.8495 - val_accuracy: 0.8169\n",
      "Epoch 110/200\n",
      "21/21 - 1s - loss: 0.1497 - accuracy: 0.9430 - val_loss: 0.8094 - val_accuracy: 0.8232\n",
      "Epoch 111/200\n",
      "21/21 - 1s - loss: 0.1449 - accuracy: 0.9412 - val_loss: 0.8271 - val_accuracy: 0.8105\n",
      "Epoch 112/200\n",
      "21/21 - 1s - loss: 0.1398 - accuracy: 0.9459 - val_loss: 0.8213 - val_accuracy: 0.8246\n",
      "Epoch 113/200\n",
      "21/21 - 1s - loss: 0.1486 - accuracy: 0.9385 - val_loss: 0.8243 - val_accuracy: 0.8257\n",
      "Epoch 114/200\n",
      "21/21 - 1s - loss: 0.1395 - accuracy: 0.9449 - val_loss: 0.8479 - val_accuracy: 0.8197\n",
      "Epoch 115/200\n",
      "21/21 - 1s - loss: 0.1462 - accuracy: 0.9446 - val_loss: 0.8213 - val_accuracy: 0.8204\n",
      "Epoch 116/200\n",
      "21/21 - 1s - loss: 0.1416 - accuracy: 0.9433 - val_loss: 0.8583 - val_accuracy: 0.8056\n",
      "Epoch 117/200\n",
      "21/21 - 1s - loss: 0.1371 - accuracy: 0.9464 - val_loss: 0.8801 - val_accuracy: 0.8053\n",
      "Epoch 118/200\n",
      "21/21 - 1s - loss: 0.1410 - accuracy: 0.9439 - val_loss: 0.8205 - val_accuracy: 0.8221\n",
      "Epoch 119/200\n",
      "21/21 - 1s - loss: 0.1402 - accuracy: 0.9445 - val_loss: 0.8224 - val_accuracy: 0.8232\n",
      "Epoch 120/200\n",
      "21/21 - 1s - loss: 0.1341 - accuracy: 0.9467 - val_loss: 0.8188 - val_accuracy: 0.8207\n",
      "Epoch 121/200\n",
      "21/21 - 1s - loss: 0.1288 - accuracy: 0.9492 - val_loss: 0.8672 - val_accuracy: 0.8236\n",
      "Epoch 122/200\n",
      "21/21 - 1s - loss: 0.1303 - accuracy: 0.9472 - val_loss: 0.8562 - val_accuracy: 0.8109\n",
      "Epoch 123/200\n",
      "21/21 - 1s - loss: 0.1348 - accuracy: 0.9465 - val_loss: 0.8743 - val_accuracy: 0.8134\n",
      "Epoch 124/200\n",
      "21/21 - 1s - loss: 0.1349 - accuracy: 0.9475 - val_loss: 0.8111 - val_accuracy: 0.8211\n",
      "Epoch 125/200\n",
      "21/21 - 1s - loss: 0.1340 - accuracy: 0.9458 - val_loss: 0.8364 - val_accuracy: 0.8228\n",
      "Epoch 126/200\n",
      "21/21 - 1s - loss: 0.1288 - accuracy: 0.9496 - val_loss: 0.8516 - val_accuracy: 0.8095\n",
      "Epoch 127/200\n",
      "21/21 - 1s - loss: 0.1303 - accuracy: 0.9493 - val_loss: 0.8588 - val_accuracy: 0.8236\n",
      "Epoch 128/200\n",
      "21/21 - 1s - loss: 0.1249 - accuracy: 0.9502 - val_loss: 0.8679 - val_accuracy: 0.8239\n",
      "Epoch 129/200\n",
      "21/21 - 1s - loss: 0.1242 - accuracy: 0.9516 - val_loss: 0.8854 - val_accuracy: 0.8172\n",
      "Epoch 130/200\n",
      "21/21 - 1s - loss: 0.1233 - accuracy: 0.9525 - val_loss: 0.8775 - val_accuracy: 0.8239\n",
      "Epoch 131/200\n",
      "21/21 - 1s - loss: 0.1215 - accuracy: 0.9506 - val_loss: 0.8566 - val_accuracy: 0.8218\n",
      "Epoch 132/200\n",
      "21/21 - 1s - loss: 0.1200 - accuracy: 0.9521 - val_loss: 0.8587 - val_accuracy: 0.8274\n",
      "Epoch 133/200\n",
      "21/21 - 1s - loss: 0.1198 - accuracy: 0.9528 - val_loss: 0.8948 - val_accuracy: 0.8221\n",
      "Epoch 134/200\n",
      "21/21 - 1s - loss: 0.1204 - accuracy: 0.9522 - val_loss: 0.8693 - val_accuracy: 0.8267\n",
      "Epoch 135/200\n",
      "21/21 - 1s - loss: 0.1250 - accuracy: 0.9518 - val_loss: 0.8500 - val_accuracy: 0.8225\n",
      "Epoch 136/200\n",
      "21/21 - 1s - loss: 0.1192 - accuracy: 0.9516 - val_loss: 0.8641 - val_accuracy: 0.8257\n",
      "Epoch 137/200\n",
      "21/21 - 1s - loss: 0.1183 - accuracy: 0.9535 - val_loss: 0.8762 - val_accuracy: 0.8260\n",
      "Epoch 138/200\n",
      "21/21 - 1s - loss: 0.1248 - accuracy: 0.9530 - val_loss: 0.8911 - val_accuracy: 0.8176\n",
      "Epoch 139/200\n",
      "21/21 - 1s - loss: 0.1250 - accuracy: 0.9510 - val_loss: 0.8416 - val_accuracy: 0.8239\n",
      "Epoch 140/200\n",
      "21/21 - 1s - loss: 0.1158 - accuracy: 0.9551 - val_loss: 0.9152 - val_accuracy: 0.8151\n",
      "Epoch 141/200\n",
      "21/21 - 1s - loss: 0.1230 - accuracy: 0.9510 - val_loss: 0.8522 - val_accuracy: 0.8193\n",
      "Epoch 142/200\n",
      "21/21 - 1s - loss: 0.1185 - accuracy: 0.9529 - val_loss: 0.8755 - val_accuracy: 0.8112\n",
      "Epoch 143/200\n",
      "21/21 - 1s - loss: 0.1167 - accuracy: 0.9529 - val_loss: 0.9091 - val_accuracy: 0.8049\n",
      "Epoch 144/200\n",
      "21/21 - 1s - loss: 0.1153 - accuracy: 0.9536 - val_loss: 0.8825 - val_accuracy: 0.8246\n",
      "Epoch 145/200\n",
      "21/21 - 1s - loss: 0.1142 - accuracy: 0.9555 - val_loss: 0.8836 - val_accuracy: 0.8246\n",
      "Epoch 146/200\n",
      "21/21 - 1s - loss: 0.1056 - accuracy: 0.9588 - val_loss: 0.9634 - val_accuracy: 0.8134\n",
      "Epoch 147/200\n",
      "21/21 - 1s - loss: 0.1086 - accuracy: 0.9551 - val_loss: 0.9216 - val_accuracy: 0.8176\n",
      "Epoch 148/200\n",
      "21/21 - 1s - loss: 0.1088 - accuracy: 0.9567 - val_loss: 0.9251 - val_accuracy: 0.8193\n",
      "Epoch 149/200\n",
      "21/21 - 1s - loss: 0.1101 - accuracy: 0.9559 - val_loss: 0.9278 - val_accuracy: 0.8193\n",
      "Epoch 150/200\n",
      "21/21 - 1s - loss: 0.1098 - accuracy: 0.9570 - val_loss: 0.8972 - val_accuracy: 0.8236\n",
      "Epoch 151/200\n",
      "21/21 - 1s - loss: 0.1070 - accuracy: 0.9579 - val_loss: 0.9107 - val_accuracy: 0.8193\n"
     ]
    }
   ],
   "source": [
    "# Train Model\n",
    "from tensorflow.keras.callbacks import EarlyStopping\n",
    "es = EarlyStopping(monitor='accuracy', patience=5, restore_best_weights=True)\n",
    "cnn_history = cnn.fit(X_i_tr, Y_tr_cat, validation_data=(X_i_te, Y_te_cat), epochs=200, batch_size=512, shuffle=True, verbose=2, callbacks=[es])\n"
   ]
  },
  {
   "cell_type": "code",
   "execution_count": null,
   "metadata": {
    "colab": {
     "base_uri": "https://localhost:8080/",
     "height": 55
    },
    "executionInfo": {
     "elapsed": 1250,
     "status": "ok",
     "timestamp": 1603777542765,
     "user": {
      "displayName": "문다영",
      "photoUrl": "",
      "userId": "07688447272123265838"
     },
     "user_tz": -540
    },
    "id": "fchTcSFTjp8o",
    "outputId": "08da520c-2a39-4f65-c04a-6bac76ac51ef"
   },
   "outputs": [
    {
     "name": "stdout",
     "output_type": "stream",
     "text": [
      "89/89 [==============================] - 0s 3ms/step - loss: 0.9369 - accuracy: 0.8274\n"
     ]
    },
    {
     "data": {
      "text/plain": [
       "[0.9368788003921509, 0.8274165391921997]"
      ]
     },
     "execution_count": 10,
     "metadata": {
      "tags": []
     },
     "output_type": "execute_result"
    }
   ],
   "source": [
    "# evaluate - trail1\n",
    "cnn.evaluate(X_i_te, Y_te_cat)"
   ]
  },
  {
   "cell_type": "code",
   "execution_count": null,
   "metadata": {
    "colab": {
     "base_uri": "https://localhost:8080/",
     "height": 55
    },
    "executionInfo": {
     "elapsed": 1367,
     "status": "ok",
     "timestamp": 1603778939575,
     "user": {
      "displayName": "문다영",
      "photoUrl": "",
      "userId": "07688447272123265838"
     },
     "user_tz": -540
    },
    "id": "5dSibvauqg2F",
    "outputId": "99979bec-aeda-4859-ca23-f7c8194d83a0"
   },
   "outputs": [
    {
     "name": "stdout",
     "output_type": "stream",
     "text": [
      "89/89 [==============================] - 0s 3ms/step - loss: 0.9634 - accuracy: 0.8134\n"
     ]
    },
    {
     "data": {
      "text/plain": [
       "[0.9634278416633606, 0.8133567571640015]"
      ]
     },
     "execution_count": 29,
     "metadata": {
      "tags": []
     },
     "output_type": "execute_result"
    }
   ],
   "source": [
    "# evaluate - trail2\n",
    "cnn.evaluate(X_i_te, Y_te_cat)"
   ]
  },
  {
   "cell_type": "code",
   "execution_count": null,
   "metadata": {
    "colab": {
     "base_uri": "https://localhost:8080/",
     "height": 714
    },
    "executionInfo": {
     "elapsed": 1775,
     "status": "ok",
     "timestamp": 1603777606329,
     "user": {
      "displayName": "문다영",
      "photoUrl": "",
      "userId": "07688447272123265838"
     },
     "user_tz": -540
    },
    "id": "Nck9xWYwjp8q",
    "outputId": "73ce92bf-98f6-496e-970c-82e6512a3db6"
   },
   "outputs": [
    {
     "data": {
      "image/png": "[encoded data removed]",
      "text/plain": [
       "<Figure size 576x864 with 2 Axes>"
      ]
     },
     "metadata": {
      "needs_background": "light",
      "tags": []
     },
     "output_type": "display_data"
    }
   ],
   "source": [
    "# visualize history - trail1\n",
    "import matplotlib.pyplot as plt\n",
    "\n",
    "def plot_history(history):\n",
    "    hist = pd.DataFrame(history.history)\n",
    "    hist['epoch'] = history.epoch\n",
    "\n",
    "    plt.figure(figsize=(8,12))\n",
    "\n",
    "    plt.subplot(2,1,1)\n",
    "    plt.xlabel('Epoch')\n",
    "    plt.ylabel('Loss')\n",
    "    plt.plot(hist['epoch'], hist['loss'],\n",
    "            label='Train loss')\n",
    "    plt.plot(hist['epoch'], hist['val_loss'],\n",
    "               label = 'Val loss')\n",
    "    plt.legend()\n",
    "\n",
    "    plt.subplot(2,1,2)\n",
    "    plt.xlabel('Epoch')\n",
    "    plt.ylabel('Accuracy')\n",
    "    plt.plot(hist['epoch'], hist['accuracy'],\n",
    "            label='Train accuracy')\n",
    "    plt.plot(hist['epoch'], hist['val_accuracy'],\n",
    "               label = 'Val accuracy')\n",
    "    plt.legend()\n",
    "plot_history(cnn_history)"
   ]
  },
  {
   "cell_type": "code",
   "execution_count": null,
   "metadata": {
    "colab": {
     "base_uri": "https://localhost:8080/",
     "height": 716
    },
    "executionInfo": {
     "elapsed": 1763,
     "status": "ok",
     "timestamp": 1603778947857,
     "user": {
      "displayName": "문다영",
      "photoUrl": "",
      "userId": "07688447272123265838"
     },
     "user_tz": -540
    },
    "id": "_g1-QNovqoHI",
    "outputId": "ff00cba6-1b64-481c-d76c-4f4e919b5f99"
   },
   "outputs": [
    {
     "data": {
      "image/png": "[encoded data removed]",
      "text/plain": [
       "<Figure size 576x864 with 2 Axes>"
      ]
     },
     "metadata": {
      "needs_background": "light",
      "tags": []
     },
     "output_type": "display_data"
    }
   ],
   "source": [
    "# visualize history - trail2\n",
    "import matplotlib.pyplot as plt\n",
    "\n",
    "def plot_history(history):\n",
    "    hist = pd.DataFrame(history.history)\n",
    "    hist['epoch'] = history.epoch\n",
    "\n",
    "    plt.figure(figsize=(8,12))\n",
    "\n",
    "    plt.subplot(2,1,1)\n",
    "    plt.xlabel('Epoch')\n",
    "    plt.ylabel('Loss')\n",
    "    plt.plot(hist['epoch'], hist['loss'],\n",
    "            label='Train loss')\n",
    "    plt.plot(hist['epoch'], hist['val_loss'],\n",
    "               label = 'Val loss')\n",
    "    plt.legend()\n",
    "\n",
    "    plt.subplot(2,1,2)\n",
    "    plt.xlabel('Epoch')\n",
    "    plt.ylabel('Accuracy')\n",
    "    plt.plot(hist['epoch'], hist['accuracy'],\n",
    "            label='Train accuracy')\n",
    "    plt.plot(hist['epoch'], hist['val_accuracy'],\n",
    "               label = 'Val accuracy')\n",
    "    plt.legend()\n",
    "plot_history(cnn_history)"
   ]
  },
  {
   "cell_type": "code",
   "execution_count": null,
   "metadata": {
    "id": "dVVM1unfmCtz"
   },
   "outputs": [],
   "source": [
    "# save model\n",
    "# cnn.save(\"./models/3d_cnn2.h5\")\n",
    "\n",
    "# model load하는 경우\n",
    "cnn  = tf.keras.models.load_model(\"./models/3d_cnn.h5\")"
   ]
  },
  {
   "cell_type": "markdown",
   "metadata": {
    "id": "1uEINOgjmOuz"
   },
   "source": [
    "- 정상(annotation img 값이 모두 0): 0\n",
    "- metastasis: 1\n",
    "- HCC: 2\n",
    "- cholangiocarcinoma: 3\n",
    "- 기타(데이터 충분하지 않음): 삭제된 데이터\n"
   ]
  },
  {
   "cell_type": "code",
   "execution_count": null,
   "metadata": {
    "id": "T7AzJlj-mMxK"
   },
   "outputs": [],
   "source": [
    "def output_class(x):\n",
    "    output = np.argmax(x)\n",
    "    if output == 0:\n",
    "        return 'normal'\n",
    "    elif output == 1:\n",
    "        return 'metastasis'\n",
    "    elif output == 2:\n",
    "        return 'HCC'\n",
    "    elif output == 3:\n",
    "        return 'cholangiocarcinoma'\n",
    "        \n",
    "from sklearn.metrics import confusion_matrix\n",
    "y_pred = cnn.predict(X_i_te)    \n",
    "y_true=pd.DataFrame(Y_te_cat).apply(lambda x:output_class(x),axis=1)\n",
    "y_pred_classified = pd.DataFrame(y_pred).apply(lambda x: output_class(x),axis=1)"
   ]
  },
  {
   "cell_type": "code",
   "execution_count": null,
   "metadata": {
    "colab": {
     "base_uri": "https://localhost:8080/",
     "height": 36
    },
    "executionInfo": {
     "elapsed": 1061,
     "status": "ok",
     "timestamp": 1603781940161,
     "user": {
      "displayName": "문다영",
      "photoUrl": "",
      "userId": "07688447272123265838"
     },
     "user_tz": -540
    },
    "id": "r3bcQ4ULmgsj",
    "outputId": "949d6654-0b56-4ae9-87eb-4990a9c3e4a1"
   },
   "outputs": [
    {
     "data": {
      "text/plain": [
       "(2845, 4)"
      ]
     },
     "execution_count": 42,
     "metadata": {
      "tags": []
     },
     "output_type": "execute_result"
    }
   ],
   "source": [
    "Y_te_cat.shape"
   ]
  },
  {
   "cell_type": "code",
   "execution_count": null,
   "metadata": {
    "colab": {
     "base_uri": "https://localhost:8080/",
     "height": 297
    },
    "executionInfo": {
     "elapsed": 809,
     "status": "ok",
     "timestamp": 1603781940162,
     "user": {
      "displayName": "문다영",
      "photoUrl": "",
      "userId": "07688447272123265838"
     },
     "user_tz": -540
    },
    "id": "K530JvR6mnze",
    "outputId": "7e35d1d2-a0ae-4b1e-c921-972084cba0f0"
   },
   "outputs": [
    {
     "name": "stdout",
     "output_type": "stream",
     "text": [
      "[[   6   22   32   23]\n",
      " [  10    0   27   28]\n",
      " [  18   11   63  141]\n",
      " [  35   18  126 2285]]\n",
      "                    precision    recall  f1-score   support\n",
      "\n",
      "               HCC       0.09      0.07      0.08        83\n",
      "cholangiocarcinoma       0.00      0.00      0.00        65\n",
      "        metastasis       0.25      0.27      0.26       233\n",
      "            normal       0.92      0.93      0.92      2464\n",
      "\n",
      "          accuracy                           0.83      2845\n",
      "         macro avg       0.32      0.32      0.32      2845\n",
      "      weighted avg       0.82      0.83      0.82      2845\n",
      "\n"
     ]
    }
   ],
   "source": [
    "print(confusion_matrix(y_true, y_pred_classified))\n",
    "\n",
    "from sklearn.metrics import classification_report\n",
    "\n",
    "print(classification_report(y_true, y_pred_classified))"
   ]
  },
  {
   "cell_type": "code",
   "execution_count": null,
   "metadata": {
    "colab": {
     "base_uri": "https://localhost:8080/",
     "height": 297
    },
    "executionInfo": {
     "elapsed": 4125,
     "status": "ok",
     "timestamp": 1603781948557,
     "user": {
      "displayName": "문다영",
      "photoUrl": "",
      "userId": "07688447272123265838"
     },
     "user_tz": -540
    },
    "id": "KDGiXDtsmutE",
    "outputId": "9777c249-2736-4d35-83d7-c2d8520600ec"
   },
   "outputs": [
    {
     "name": "stdout",
     "output_type": "stream",
     "text": [
      "[[ 673    0    1   48]\n",
      " [   0  358    0    5]\n",
      " [   3    0  981  154]\n",
      " [   3   10   51 8275]]\n",
      "                    precision    recall  f1-score   support\n",
      "\n",
      "               HCC       0.99      0.93      0.96       722\n",
      "cholangiocarcinoma       0.97      0.99      0.98       363\n",
      "        metastasis       0.95      0.86      0.90      1138\n",
      "            normal       0.98      0.99      0.98      8339\n",
      "\n",
      "          accuracy                           0.97     10562\n",
      "         macro avg       0.97      0.94      0.96     10562\n",
      "      weighted avg       0.97      0.97      0.97     10562\n",
      "\n"
     ]
    }
   ],
   "source": [
    "from sklearn.metrics import confusion_matrix\n",
    "y_pred = cnn.predict(X_i_tr)    \n",
    "y_true=pd.DataFrame(Y_tr_cat).apply(lambda x:output_class(x),axis=1)\n",
    "y_pred_classified = pd.DataFrame(y_pred).apply(lambda x: output_class(x),axis=1)\n",
    "\n",
    "print(confusion_matrix(y_true, y_pred_classified))\n",
    "\n",
    "from sklearn.metrics import classification_report\n",
    "print(classification_report(y_true, y_pred_classified))"
   ]
  },
  {
   "cell_type": "markdown",
   "metadata": {
    "id": "xgtroSlerjGM"
   },
   "source": [
    "#### trail 2 - confusion matrix"
   ]
  },
  {
   "cell_type": "code",
   "execution_count": null,
   "metadata": {
    "colab": {
     "base_uri": "https://localhost:8080/",
     "height": 297
    },
    "executionInfo": {
     "elapsed": 2078,
     "status": "ok",
     "timestamp": 1603781676415,
     "user": {
      "displayName": "문다영",
      "photoUrl": "",
      "userId": "07688447272123265838"
     },
     "user_tz": -540
    },
    "id": "Ov6Y2eC_nAbb",
    "outputId": "4e4d1df9-b959-4080-ed19-dddcbd6db251"
   },
   "outputs": [
    {
     "name": "stdout",
     "output_type": "stream",
     "text": [
      "[[   0   16   37   30]\n",
      " [  12    9   12   32]\n",
      " [  34   21   61  117]\n",
      " [  92   34   94 2244]]\n",
      "                    precision    recall  f1-score   support\n",
      "\n",
      "               HCC       0.00      0.00      0.00        83\n",
      "cholangiocarcinoma       0.11      0.14      0.12        65\n",
      "        metastasis       0.30      0.26      0.28       233\n",
      "            normal       0.93      0.91      0.92      2464\n",
      "\n",
      "          accuracy                           0.81      2845\n",
      "         macro avg       0.33      0.33      0.33      2845\n",
      "      weighted avg       0.83      0.81      0.82      2845\n",
      "\n"
     ]
    }
   ],
   "source": [
    "from sklearn.metrics import confusion_matrix\n",
    "from sklearn.metrics import classification_report\n",
    "\n",
    "from sklearn.metrics import confusion_matrix\n",
    "y_pred = cnn.predict(X_i_te)    \n",
    "y_true=pd.DataFrame(Y_te_cat).apply(lambda x:output_class(x),axis=1)\n",
    "y_pred_classified = pd.DataFrame(y_pred).apply(lambda x: output_class(x),axis=1)\n",
    "\n",
    "print(confusion_matrix(y_true, y_pred_classified))\n",
    "print(classification_report(y_true, y_pred_classified))"
   ]
  },
  {
   "cell_type": "code",
   "execution_count": null,
   "metadata": {
    "colab": {
     "base_uri": "https://localhost:8080/",
     "height": 297
    },
    "executionInfo": {
     "elapsed": 4294,
     "status": "ok",
     "timestamp": 1603781726551,
     "user": {
      "displayName": "문다영",
      "photoUrl": "",
      "userId": "07688447272123265838"
     },
     "user_tz": -540
    },
    "id": "BlEbciN81vvl",
    "outputId": "c99153b1-73e6-4eaf-bab1-84a8fce95526"
   },
   "outputs": [
    {
     "name": "stdout",
     "output_type": "stream",
     "text": [
      "[[ 712    0    0   10]\n",
      " [   0  363    0    0]\n",
      " [   0    0 1108   30]\n",
      " [  33   14   80 8212]]\n",
      "                    precision    recall  f1-score   support\n",
      "\n",
      "               HCC       0.96      0.99      0.97       722\n",
      "cholangiocarcinoma       0.96      1.00      0.98       363\n",
      "        metastasis       0.93      0.97      0.95      1138\n",
      "            normal       1.00      0.98      0.99      8339\n",
      "\n",
      "          accuracy                           0.98     10562\n",
      "         macro avg       0.96      0.99      0.97     10562\n",
      "      weighted avg       0.98      0.98      0.98     10562\n",
      "\n"
     ]
    }
   ],
   "source": [
    "from sklearn.metrics import confusion_matrix\n",
    "y_pred = cnn.predict(X_i_tr)    \n",
    "y_true=pd.DataFrame(Y_tr_cat).apply(lambda x:output_class(x),axis=1)\n",
    "y_pred_classified = pd.DataFrame(y_pred).apply(lambda x: output_class(x),axis=1)\n",
    "\n",
    "print(confusion_matrix(y_true, y_pred_classified))\n",
    "\n",
    "from sklearn.metrics import classification_report\n",
    "print(classification_report(y_true, y_pred_classified))"
   ]
  },
  {
   "cell_type": "code",
   "execution_count": null,
   "metadata": {
    "id": "LNKj8MICsAAK"
   },
   "outputs": [],
   "source": []
  }
 ],
 "metadata": {
  "colab": {
   "machine_shape": "hm",
   "name": "08_2GigaPixel_cnn_makeY.ipynb",
   "provenance": []
  },
  "kernelspec": {
   "display_name": "Python 3",
   "language": "python",
   "name": "python3"
  },
  "language_info": {
   "codemirror_mode": {
    "name": "ipython",
    "version": 3
   },
   "file_extension": ".py",
   "mimetype": "text/x-python",
   "name": "python",
   "nbconvert_exporter": "python",
   "pygments_lexer": "ipython3",
   "version": "3.8.3"
  }
 },
 "nbformat": 4,
 "nbformat_minor": 1
}
