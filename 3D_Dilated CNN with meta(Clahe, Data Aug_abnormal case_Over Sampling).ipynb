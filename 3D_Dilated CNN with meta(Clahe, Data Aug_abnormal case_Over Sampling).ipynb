{
 "cells": [
  {
   "cell_type": "code",
   "execution_count": 1,
   "metadata": {
    "colab": {
     "base_uri": "https://localhost:8080/",
     "height": 52
    },
    "executionInfo": {
     "elapsed": 18808,
     "status": "ok",
     "timestamp": 1603864745576,
     "user": {
      "displayName": "박경원",
      "photoUrl": "",
      "userId": "08189699755027432651"
     },
     "user_tz": -540
    },
    "id": "Nmf64S9w6MvL",
    "outputId": "b3ffd69e-8e35-4d47-ef4e-980d7a7e7275"
   },
   "outputs": [],
   "source": [
    "##코랩실행시 google driver mount 하기\n",
    "#from google.colab import drive\n",
    "#drive.mount('/content/drive')\n",
    "#% cd /content/drive/My Drive/FAS\n"
   ]
  },
  {
   "cell_type": "markdown",
   "metadata": {},
   "source": [
    "# 3D_Dilated CNN with meta\n",
    "- Clahe\n",
    "- Data Aug_abnormal case_Over Sampling"
   ]
  },
  {
   "cell_type": "code",
   "execution_count": 1,
   "metadata": {
    "colab": {
     "base_uri": "https://localhost:8080/",
     "height": 105
    },
    "executionInfo": {
     "elapsed": 7938,
     "status": "ok",
     "timestamp": 1603864698643,
     "user": {
      "displayName": "박경원",
      "photoUrl": "",
      "userId": "08189699755027432651"
     },
     "user_tz": -540
    },
    "id": "5AvjbMn06Nkc",
    "outputId": "a4816267-180d-4229-a04f-6934c4f68a06"
   },
   "outputs": [
    {
     "name": "stdout",
     "output_type": "stream",
     "text": [
      "Requirement already satisfied: pydicom in /home/super/anaconda3/envs/Kyoung/lib/python3.8/site-packages (2.0.0)\n",
      "Collecting imgaug\n",
      "  Using cached imgaug-0.4.0-py2.py3-none-any.whl (948 kB)\n",
      "Collecting Shapely\n",
      "  Using cached Shapely-1.7.1-cp38-cp38-manylinux1_x86_64.whl (1.0 MB)\n",
      "Requirement already satisfied: imageio in /home/super/anaconda3/envs/Kyoung/lib/python3.8/site-packages (from imgaug) (2.9.0)\n",
      "Requirement already satisfied: six in /home/super/anaconda3/envs/Kyoung/lib/python3.8/site-packages (from imgaug) (1.15.0)\n",
      "Requirement already satisfied: numpy>=1.15 in /home/super/anaconda3/envs/Kyoung/lib/python3.8/site-packages (from imgaug) (1.19.2)\n",
      "Requirement already satisfied: scikit-image>=0.14.2 in /home/super/anaconda3/envs/Kyoung/lib/python3.8/site-packages (from imgaug) (0.17.2)\n",
      "Requirement already satisfied: Pillow in /home/super/anaconda3/envs/Kyoung/lib/python3.8/site-packages (from imgaug) (8.0.1)\n",
      "Requirement already satisfied: matplotlib in /home/super/anaconda3/envs/Kyoung/lib/python3.8/site-packages (from imgaug) (3.3.2)\n",
      "Requirement already satisfied: opencv-python in /home/super/anaconda3/envs/Kyoung/lib/python3.8/site-packages (from imgaug) (4.4.0.44)\n",
      "Requirement already satisfied: scipy in /home/super/anaconda3/envs/Kyoung/lib/python3.8/site-packages (from imgaug) (1.5.3)\n",
      "Requirement already satisfied: tifffile>=2019.7.26 in /home/super/anaconda3/envs/Kyoung/lib/python3.8/site-packages (from scikit-image>=0.14.2->imgaug) (2020.10.1)\n",
      "Requirement already satisfied: PyWavelets>=1.1.1 in /home/super/anaconda3/envs/Kyoung/lib/python3.8/site-packages (from scikit-image>=0.14.2->imgaug) (1.1.1)\n",
      "Requirement already satisfied: networkx>=2.0 in /home/super/anaconda3/envs/Kyoung/lib/python3.8/site-packages (from scikit-image>=0.14.2->imgaug) (2.5)\n",
      "Requirement already satisfied: certifi>=2020.06.20 in /home/super/anaconda3/envs/Kyoung/lib/python3.8/site-packages (from matplotlib->imgaug) (2020.6.20)\n",
      "Requirement already satisfied: pyparsing!=2.0.4,!=2.1.2,!=2.1.6,>=2.0.3 in /home/super/anaconda3/envs/Kyoung/lib/python3.8/site-packages (from matplotlib->imgaug) (2.4.7)\n",
      "Requirement already satisfied: cycler>=0.10 in /home/super/anaconda3/envs/Kyoung/lib/python3.8/site-packages (from matplotlib->imgaug) (0.10.0)\n",
      "Requirement already satisfied: kiwisolver>=1.0.1 in /home/super/anaconda3/envs/Kyoung/lib/python3.8/site-packages (from matplotlib->imgaug) (1.3.0)\n",
      "Requirement already satisfied: python-dateutil>=2.1 in /home/super/anaconda3/envs/Kyoung/lib/python3.8/site-packages (from matplotlib->imgaug) (2.8.1)\n",
      "Requirement already satisfied: decorator>=4.3.0 in /home/super/anaconda3/envs/Kyoung/lib/python3.8/site-packages (from networkx>=2.0->scikit-image>=0.14.2->imgaug) (4.4.2)\n",
      "Installing collected packages: Shapely, imgaug\n",
      "Successfully installed Shapely-1.7.1 imgaug-0.4.0\n",
      "\u001b[31mERROR: Could not find a version that satisfies the requirement cv2 (from versions: none)\u001b[0m\n",
      "\u001b[31mERROR: No matching distribution found for cv2\u001b[0m\n",
      "Requirement already satisfied: tensorflow in /home/super/anaconda3/envs/Kyoung/lib/python3.8/site-packages (2.2.0)\n",
      "Requirement already satisfied: h5py<2.11.0,>=2.10.0 in /home/super/anaconda3/envs/Kyoung/lib/python3.8/site-packages (from tensorflow) (2.10.0)\n",
      "Requirement already satisfied: absl-py>=0.7.0 in /home/super/anaconda3/envs/Kyoung/lib/python3.8/site-packages (from tensorflow) (0.11.0)\n",
      "Requirement already satisfied: gast==0.3.3 in /home/super/anaconda3/envs/Kyoung/lib/python3.8/site-packages (from tensorflow) (0.3.3)\n",
      "Collecting scipy==1.4.1; python_version >= \"3\"\n",
      "  Downloading scipy-1.4.1-cp38-cp38-manylinux1_x86_64.whl (26.0 MB)\n",
      "\u001b[K     |████████████████████████████████| 26.0 MB 12.2 MB/s eta 0:00:01\n",
      "\u001b[?25hCollecting tensorboard<2.3.0,>=2.2.0\n",
      "  Downloading tensorboard-2.2.2-py3-none-any.whl (3.0 MB)\n",
      "\u001b[K     |████████████████████████████████| 3.0 MB 11.3 MB/s eta 0:00:01\n",
      "\u001b[?25hCollecting tensorflow-estimator<2.3.0,>=2.2.0\n",
      "  Downloading tensorflow_estimator-2.2.0-py2.py3-none-any.whl (454 kB)\n",
      "\u001b[K     |████████████████████████████████| 454 kB 11.8 MB/s eta 0:00:01\n",
      "\u001b[?25hRequirement already satisfied: keras-preprocessing>=1.1.0 in /home/super/anaconda3/envs/Kyoung/lib/python3.8/site-packages (from tensorflow) (1.1.2)\n",
      "Requirement already satisfied: astunparse==1.6.3 in /home/super/anaconda3/envs/Kyoung/lib/python3.8/site-packages (from tensorflow) (1.6.3)\n",
      "Requirement already satisfied: numpy<2.0,>=1.16.0 in /home/super/anaconda3/envs/Kyoung/lib/python3.8/site-packages (from tensorflow) (1.19.2)\n",
      "Requirement already satisfied: protobuf>=3.8.0 in /home/super/anaconda3/envs/Kyoung/lib/python3.8/site-packages (from tensorflow) (3.13.0)\n",
      "Requirement already satisfied: grpcio>=1.8.6 in /home/super/anaconda3/envs/Kyoung/lib/python3.8/site-packages (from tensorflow) (1.33.2)\n",
      "Requirement already satisfied: opt-einsum>=2.3.2 in /home/super/anaconda3/envs/Kyoung/lib/python3.8/site-packages (from tensorflow) (3.3.0)\n",
      "Requirement already satisfied: wheel>=0.26; python_version >= \"3\" in /home/super/anaconda3/envs/Kyoung/lib/python3.8/site-packages (from tensorflow) (0.35.1)\n",
      "Requirement already satisfied: google-pasta>=0.1.8 in /home/super/anaconda3/envs/Kyoung/lib/python3.8/site-packages (from tensorflow) (0.2.0)\n",
      "Requirement already satisfied: wrapt>=1.11.1 in /home/super/anaconda3/envs/Kyoung/lib/python3.8/site-packages (from tensorflow) (1.12.1)\n",
      "Requirement already satisfied: termcolor>=1.1.0 in /home/super/anaconda3/envs/Kyoung/lib/python3.8/site-packages (from tensorflow) (1.1.0)\n",
      "Requirement already satisfied: six>=1.12.0 in /home/super/anaconda3/envs/Kyoung/lib/python3.8/site-packages (from tensorflow) (1.15.0)\n",
      "Requirement already satisfied: setuptools>=41.0.0 in /home/super/anaconda3/envs/Kyoung/lib/python3.8/site-packages (from tensorboard<2.3.0,>=2.2.0->tensorflow) (50.3.0.post20201006)\n",
      "Requirement already satisfied: markdown>=2.6.8 in /home/super/anaconda3/envs/Kyoung/lib/python3.8/site-packages (from tensorboard<2.3.0,>=2.2.0->tensorflow) (3.3.3)\n",
      "Requirement already satisfied: google-auth<2,>=1.6.3 in /home/super/anaconda3/envs/Kyoung/lib/python3.8/site-packages (from tensorboard<2.3.0,>=2.2.0->tensorflow) (1.23.0)\n",
      "Requirement already satisfied: werkzeug>=0.11.15 in /home/super/anaconda3/envs/Kyoung/lib/python3.8/site-packages (from tensorboard<2.3.0,>=2.2.0->tensorflow) (1.0.1)\n",
      "Requirement already satisfied: tensorboard-plugin-wit>=1.6.0 in /home/super/anaconda3/envs/Kyoung/lib/python3.8/site-packages (from tensorboard<2.3.0,>=2.2.0->tensorflow) (1.7.0)\n",
      "Requirement already satisfied: requests<3,>=2.21.0 in /home/super/anaconda3/envs/Kyoung/lib/python3.8/site-packages (from tensorboard<2.3.0,>=2.2.0->tensorflow) (2.24.0)\n",
      "Requirement already satisfied: google-auth-oauthlib<0.5,>=0.4.1 in /home/super/anaconda3/envs/Kyoung/lib/python3.8/site-packages (from tensorboard<2.3.0,>=2.2.0->tensorflow) (0.4.2)\n",
      "Requirement already satisfied: rsa<5,>=3.1.4; python_version >= \"3.5\" in /home/super/anaconda3/envs/Kyoung/lib/python3.8/site-packages (from google-auth<2,>=1.6.3->tensorboard<2.3.0,>=2.2.0->tensorflow) (4.6)\n",
      "Requirement already satisfied: cachetools<5.0,>=2.0.0 in /home/super/anaconda3/envs/Kyoung/lib/python3.8/site-packages (from google-auth<2,>=1.6.3->tensorboard<2.3.0,>=2.2.0->tensorflow) (4.1.1)\n",
      "Requirement already satisfied: pyasn1-modules>=0.2.1 in /home/super/anaconda3/envs/Kyoung/lib/python3.8/site-packages (from google-auth<2,>=1.6.3->tensorboard<2.3.0,>=2.2.0->tensorflow) (0.2.8)\n",
      "Requirement already satisfied: certifi>=2017.4.17 in /home/super/anaconda3/envs/Kyoung/lib/python3.8/site-packages (from requests<3,>=2.21.0->tensorboard<2.3.0,>=2.2.0->tensorflow) (2020.6.20)\n",
      "Requirement already satisfied: idna<3,>=2.5 in /home/super/anaconda3/envs/Kyoung/lib/python3.8/site-packages (from requests<3,>=2.21.0->tensorboard<2.3.0,>=2.2.0->tensorflow) (2.10)\n",
      "Requirement already satisfied: urllib3!=1.25.0,!=1.25.1,<1.26,>=1.21.1 in /home/super/anaconda3/envs/Kyoung/lib/python3.8/site-packages (from requests<3,>=2.21.0->tensorboard<2.3.0,>=2.2.0->tensorflow) (1.25.11)\n",
      "Requirement already satisfied: chardet<4,>=3.0.2 in /home/super/anaconda3/envs/Kyoung/lib/python3.8/site-packages (from requests<3,>=2.21.0->tensorboard<2.3.0,>=2.2.0->tensorflow) (3.0.4)\n",
      "Requirement already satisfied: requests-oauthlib>=0.7.0 in /home/super/anaconda3/envs/Kyoung/lib/python3.8/site-packages (from google-auth-oauthlib<0.5,>=0.4.1->tensorboard<2.3.0,>=2.2.0->tensorflow) (1.3.0)\n",
      "Requirement already satisfied: pyasn1>=0.1.3 in /home/super/anaconda3/envs/Kyoung/lib/python3.8/site-packages (from rsa<5,>=3.1.4; python_version >= \"3.5\"->google-auth<2,>=1.6.3->tensorboard<2.3.0,>=2.2.0->tensorflow) (0.4.8)\n",
      "Requirement already satisfied: oauthlib>=3.0.0 in /home/super/anaconda3/envs/Kyoung/lib/python3.8/site-packages (from requests-oauthlib>=0.7.0->google-auth-oauthlib<0.5,>=0.4.1->tensorboard<2.3.0,>=2.2.0->tensorflow) (3.1.0)\n"
     ]
    },
    {
     "name": "stdout",
     "output_type": "stream",
     "text": [
      "Installing collected packages: scipy, tensorboard, tensorflow-estimator\n",
      "  Attempting uninstall: scipy\n",
      "    Found existing installation: scipy 1.5.3\n",
      "    Uninstalling scipy-1.5.3:\n",
      "      Successfully uninstalled scipy-1.5.3\n",
      "  Attempting uninstall: tensorboard\n",
      "    Found existing installation: tensorboard 2.3.0\n",
      "    Uninstalling tensorboard-2.3.0:\n",
      "      Successfully uninstalled tensorboard-2.3.0\n",
      "  Attempting uninstall: tensorflow-estimator\n",
      "    Found existing installation: tensorflow-estimator 2.3.0\n",
      "    Uninstalling tensorflow-estimator-2.3.0:\n",
      "      Successfully uninstalled tensorflow-estimator-2.3.0\n",
      "Successfully installed scipy-1.5.2 tensorboard-2.2.2 tensorflow-estimator-2.2.0\n",
      "Collecting keras\n",
      "  Using cached Keras-2.4.3-py2.py3-none-any.whl (36 kB)\n",
      "Requirement already satisfied: numpy>=1.9.1 in /home/super/anaconda3/envs/Kyoung/lib/python3.8/site-packages (from keras) (1.19.2)\n",
      "Processing /home/niausr/.cache/pip/wheels/13/90/db/290ab3a34f2ef0b5a0f89235dc2d40fea83e77de84ed2dc05c/PyYAML-5.3.1-cp38-cp38-linux_x86_64.whl\n",
      "Requirement already satisfied: h5py in /home/super/anaconda3/envs/Kyoung/lib/python3.8/site-packages (from keras) (2.10.0)\n",
      "Requirement already satisfied: scipy>=0.14 in /home/super/anaconda3/envs/Kyoung/lib/python3.8/site-packages (from keras) (1.5.2)\n",
      "Requirement already satisfied: six in /home/super/anaconda3/envs/Kyoung/lib/python3.8/site-packages (from h5py->keras) (1.15.0)\n",
      "Installing collected packages: pyyaml, keras\n",
      "Successfully installed keras-2.4.3 pyyaml-5.3.1\n"
     ]
    }
   ],
   "source": [
    "# Download packages\n",
    "!pip install pydicom\n",
    "!pip install imgaug\n",
    "!pip install cv2\n",
    "!pip install tensorflow\n",
    "!pip install keras "
   ]
  },
  {
   "cell_type": "code",
   "execution_count": 1,
   "metadata": {
    "colab": {
     "base_uri": "https://localhost:8080/",
     "height": 34
    },
    "executionInfo": {
     "elapsed": 3543,
     "status": "ok",
     "timestamp": 1603864703132,
     "user": {
      "displayName": "박경원",
      "photoUrl": "",
      "userId": "08189699755027432651"
     },
     "user_tz": -540
    },
    "id": "rItkwC8j6lkK",
    "outputId": "58b504a9-d6d1-4c57-e54a-673c54298e39"
   },
   "outputs": [
    {
     "name": "stdout",
     "output_type": "stream",
     "text": [
      "Populating the interactive namespace from numpy and matplotlib\n"
     ]
    }
   ],
   "source": [
    "# Load Libraries\n",
    "import pydicom as pdc\n",
    "import matplotlib.pyplot as plt\n",
    "import numpy as np\n",
    "import cv2\n",
    "import pandas as pd\n",
    "from sklearn import preprocessing\n",
    "from sklearn.model_selection import KFold\n",
    "import glob\n",
    "import pydicom as pdc\n",
    "import pydicom as pdc\n",
    "import matplotlib.pyplot as plt\n",
    "from IPython.display import display, Image\n",
    "import tensorflow as tf\n",
    "import keras\n",
    "from keras.utils import to_categorical\n",
    "from keras.layers import Dense, Flatten, Conv3D, MaxPooling3D, Dropout\n",
    "#import tensorflow_hub as hub\n",
    "from skimage import exposure\n",
    "%pylab inline"
   ]
  },
  {
   "cell_type": "code",
   "execution_count": 5,
   "metadata": {
    "colab": {
     "base_uri": "https://localhost:8080/",
     "height": 34
    },
    "executionInfo": {
     "elapsed": 3106,
     "status": "ok",
     "timestamp": 1603864746384,
     "user": {
      "displayName": "박경원",
      "photoUrl": "",
      "userId": "08189699755027432651"
     },
     "user_tz": -540
    },
    "id": "IsJDTCJS6MvP",
    "outputId": "645ab379-e0ca-49c8-bfe7-a8e4aa422849"
   },
   "outputs": [
    {
     "name": "stdout",
     "output_type": "stream",
     "text": [
      "Drop: Int64Index([42, 66, 69], dtype='int64')\n"
     ]
    }
   ],
   "source": [
    "#path = './metadata/'\n",
    "path = '../Diagnosis_Gallbladder_Cancer/metadata/'\n",
    "# Load Meta-data and preprocessing\n",
    "patient_meta = pd.read_csv(path + 'patient_meta.csv')\n",
    "patient_meta = patient_meta[['RANDOM_PT_NO','SEX','AGE','PHASE',\"DX\"]]\n",
    "#patient_meta.head()\n",
    "\n",
    "#NET, Lymphoma : Dropped (3 cases)\n",
    "print(\"Drop:\", patient_meta[(patient_meta['DX']=='lymphoma') | (patient_meta['DX']=='NET')].index)\n",
    "patient_meta = patient_meta.drop(patient_meta[(patient_meta['DX']=='lymphoma') | (patient_meta['DX']=='NET')].index, axis=0)\n",
    "patient_meta.reset_index(drop=True, inplace=True)\n",
    "\n",
    "# categorical Variables(Sex, Phase)\n",
    "# pd.get_dummies() 가변수 만들기\n",
    "# Phase feature 는 제거\n",
    "patient_meta = pd.concat([patient_meta, pd.get_dummies(patient_meta[['SEX']])], axis=1)\n",
    "patient_meta = patient_meta.drop(['SEX','PHASE'], axis=1)\n",
    "\n",
    "# Continuous Variables(Age)\n",
    "age = patient_meta['AGE'].values\n",
    "age_scaled = preprocessing.scale(age)\n",
    " \n",
    "patient_meta['AGE_NORM'] = age_scaled\n",
    "patient_meta = patient_meta.drop(['AGE'], axis = 1)\n",
    "\n",
    "#Label Setting\n",
    "# 0 : Metastasis, 56\n",
    "# 1 : Hepatocelluar Carcinoma, 30\n",
    "# 2 : cholangiocarcinoma, 14 --> ????    # 숫자가 의미하는 것은??\n",
    "for r in range(patient_meta.shape[0]):\n",
    "    if('metastasis' in patient_meta.iloc[r, 1]):\n",
    "        patient_meta.iloc[r, 1] = 0\n",
    "    elif('HCC' == patient_meta.iloc[r, 1]):\n",
    "        patient_meta.iloc[r, 1] = 1\n",
    "    elif('cholangiocarcinoma' == patient_meta.iloc[r, 1]):\n",
    "        patient_meta.iloc[r, 1] = 2\n",
    "    else:\n",
    "        patient_meta.iloc[r, 1] = -1\n",
    "\n",
    "patient_meta = np.array(patient_meta)   #넘파이 배열로 변환"
   ]
  },
  {
   "cell_type": "code",
   "execution_count": 6,
   "metadata": {
    "colab": {
     "base_uri": "https://localhost:8080/",
     "height": 1000
    },
    "executionInfo": {
     "elapsed": 668,
     "status": "ok",
     "timestamp": 1603864748527,
     "user": {
      "displayName": "박경원",
      "photoUrl": "",
      "userId": "08189699755027432651"
     },
     "user_tz": -540
    },
    "id": "o5MXRl1x6MvR",
    "outputId": "f759535d-76bd-4fe6-f353-f463b99d0046"
   },
   "outputs": [
    {
     "data": {
      "text/plain": [
       "array([['SN00180816', 1, 0, 1, -0.9717086332456366],\n",
       "       ['SN00361989', 1, 1, 0, -1.0655029028639413],\n",
       "       ['SN00481545', 2, 1, 0, 0.9041767591204574],\n",
       "       ['SN00493709', 2, 0, 1, 0.43520541102893384],\n",
       "       ['SN00181638', 0, 0, 1, -0.31514874591750375],\n",
       "       ['SN00222863', 0, 0, 1, 0.15382260217401975],\n",
       "       ['SN00283964', 0, 0, 1, 0.997971028738762],\n",
       "       ['SN00304545', 0, 1, 0, 0.9041767591204574],\n",
       "       ['SN00450700', 2, 1, 0, 0.7165882198838479],\n",
       "       ['SN00508749', 1, 0, 1, 0.997971028738762],\n",
       "       ['SN00090078', 0, 1, 0, -0.03376593706258964],\n",
       "       ['SN00369027', 0, 1, 0, -0.31514874591750375],\n",
       "       ['SN00474278', 0, 1, 0, -1.44067998133716],\n",
       "       ['SN00305004', 0, 1, 0, -1.3468857117188553],\n",
       "       ['SN00508618', 0, 0, 1, 0.997971028738762],\n",
       "       ['SN00067936', 0, 1, 0, -2.4724169471385116],\n",
       "       ['SN00381399', 2, 0, 1, -0.6903258243907225],\n",
       "       ['SN00407113', 1, 1, 0, 1.0917652983570667],\n",
       "       ['SN00097002', 1, 0, 1, 1.3731481072119809],\n",
       "       ['SN00133173', 2, 0, 1, 1.5607366464485901],\n",
       "       ['SN00226166', 0, 0, 1, 1.0917652983570667],\n",
       "       ['SN00116934', 0, 0, 1, 0.06002833255571506],\n",
       "       ['SN00141501', 1, 0, 1, -1.44067998133716],\n",
       "       ['SN00179194', 1, 0, 1, 0.06002833255571506],\n",
       "       ['SN00289590', 0, 0, 1, -0.9717086332456366],\n",
       "       ['SN00361065', 1, 0, 1, 0.9041767591204574],\n",
       "       ['SN00361258', 2, 0, 1, 1.0917652983570667],\n",
       "       ['SN00305492', 0, 0, 1, -0.5965315547724178],\n",
       "       ['SN00183359', 1, 0, 1, 0.43520541102893384],\n",
       "       ['SN00231441', 1, 0, 1, 1.2793538375936762],\n",
       "       ['SN00397757', 0, 1, 0, -0.12756020668089432],\n",
       "       ['SN00527433', 1, 1, 0, 0.9041767591204574],\n",
       "       ['SN00062921', 0, 0, 1, -0.31514874591750375],\n",
       "       ['SN00203040', 0, 0, 1, 1.4669423768302856],\n",
       "       ['SN00266417', 1, 0, 1, -2.097239868665293],\n",
       "       ['SN00454145', 0, 1, 0, -1.5344742509554647],\n",
       "       ['SN00274538', 0, 0, 1, -0.9717086332456366],\n",
       "       ['SN00531159', 0, 1, 0, -1.44067998133716],\n",
       "       ['SN00553244', 1, 0, 1, -1.0655029028639413],\n",
       "       ['SN00037077', 1, 1, 0, 1.935913724921809],\n",
       "       ['SN00257665', 1, 0, 1, 0.9041767591204574],\n",
       "       ['SN00108649', 0, 0, 1, 0.5289996806472386],\n",
       "       ['SN00177221', 2, 1, 0, -1.5344742509554647],\n",
       "       ['SN00181617', 2, 0, 1, -1.3468857117188553],\n",
       "       ['SN00379916', 0, 1, 0, 0.34141114141062917],\n",
       "       ['SN00431554', 0, 0, 1, 0.7165882198838479],\n",
       "       ['SN00435072', 1, 0, 1, -0.8779143636273319],\n",
       "       ['SN00459113', 0, 1, 0, 0.6227939502655432],\n",
       "       ['SN00532977', 0, 0, 1, -1.7220627901920742],\n",
       "       ['SN00182152', 1, 0, 1, -1.3468857117188553],\n",
       "       ['SN00216095', 2, 0, 1, 0.5289996806472386],\n",
       "       ['SN00224464', 0, 0, 1, -0.03376593706258964],\n",
       "       ['SN00331480', 0, 1, 0, -1.0655029028639413],\n",
       "       ['SN00331923', 1, 1, 0, 0.7165882198838479],\n",
       "       ['SN00396734', 0, 1, 0, -1.2530914421005508],\n",
       "       ['SN00086679', 0, 0, 1, 0.15382260217401975],\n",
       "       ['SN00149847', 0, 0, 1, 0.15382260217401975],\n",
       "       ['SN00224323', 0, 1, 0, -1.44067998133716],\n",
       "       ['SN00473709', 0, 1, 0, 0.15382260217401975],\n",
       "       ['SN00094752', 0, 0, 1, 0.43520541102893384],\n",
       "       ['SN00238383', 0, 0, 1, -0.6903258243907225],\n",
       "       ['SN00332416', 0, 1, 0, -1.0655029028639413],\n",
       "       ['SN00167208', 0, 1, 0, -1.9096513294286837],\n",
       "       ['SN00168744', 0, 1, 0, 0.7165882198838479],\n",
       "       ['SN00167667', 1, 0, 1, -0.31514874591750375],\n",
       "       ['SN00235329', 1, 0, 1, 1.0917652983570667],\n",
       "       ['SN00137842', 0, 0, 1, -1.6282685205737695],\n",
       "       ['SN00206804', 1, 1, 0, 1.5607366464485901],\n",
       "       ['SN00288686', 0, 1, 0, 0.24761687179232444],\n",
       "       ['SN00419083', 1, 0, 1, -0.12756020668089432],\n",
       "       ['SN00464519', 0, 1, 0, -0.4089430155358084],\n",
       "       ['SN00517121', 2, 0, 1, -0.8779143636273319],\n",
       "       ['SN00338890', 0, 1, 0, -0.22135447629919902],\n",
       "       ['SN00518641', 0, 0, 1, 1.1855595679753714],\n",
       "       ['SN00147926', 0, 1, 0, 1.4669423768302856],\n",
       "       ['SN00333606', 0, 0, 1, 0.5289996806472386],\n",
       "       ['SN00108220', 1, 1, 0, -0.4089430155358084],\n",
       "       ['SN00188420', 0, 0, 1, 0.6227939502655432],\n",
       "       ['SN00017916', 2, 1, 0, 1.5607366464485901],\n",
       "       ['SN00164376', 1, 0, 1, 0.5289996806472386],\n",
       "       ['SN00221985', 1, 0, 1, 0.6227939502655432],\n",
       "       ['SN00288016', 1, 1, 0, -0.03376593706258964],\n",
       "       ['SN00370179', 0, 1, 0, -0.12756020668089432],\n",
       "       ['SN00523470', 0, 1, 0, -1.7220627901920742],\n",
       "       ['SN00058009', 1, 0, 1, -0.12756020668089432],\n",
       "       ['SN00040853', 0, 0, 1, -0.31514874591750375],\n",
       "       ['SN00053598', 1, 0, 1, -0.5027372851541131],\n",
       "       ['SN00057646', 0, 0, 1, 1.0917652983570667],\n",
       "       ['SN00076806', 1, 0, 1, -0.4089430155358084],\n",
       "       ['SN00103370', 0, 0, 1, 0.34141114141062917],\n",
       "       ['SN00337891', 2, 1, 0, -0.12756020668089432],\n",
       "       ['SN00348519', 2, 0, 1, 1.2793538375936762],\n",
       "       ['SN00357927', 0, 0, 1, 0.06002833255571506],\n",
       "       ['SN00394877', 0, 0, 1, 0.9041767591204574],\n",
       "       ['SN00460226', 1, 0, 1, 1.2793538375936762],\n",
       "       ['SN00507678', 2, 1, 0, 1.3731481072119809],\n",
       "       ['SN00563991', 0, 1, 0, 0.43520541102893384],\n",
       "       ['SN00125104', 0, 1, 0, -0.8779143636273319],\n",
       "       ['SN00368912', 0, 1, 0, 0.24761687179232444],\n",
       "       ['SN00391492', 0, 1, 0, -0.03376593706258964]], dtype=object)"
      ]
     },
     "execution_count": 6,
     "metadata": {},
     "output_type": "execute_result"
    }
   ],
   "source": [
    "# 데이터 전처리 중간 점검\n",
    "patient_meta"
   ]
  },
  {
   "cell_type": "code",
   "execution_count": 7,
   "metadata": {
    "colab": {
     "base_uri": "https://localhost:8080/",
     "height": 197
    },
    "executionInfo": {
     "elapsed": 1020,
     "status": "ok",
     "timestamp": 1603864750118,
     "user": {
      "displayName": "박경원",
      "photoUrl": "",
      "userId": "08189699755027432651"
     },
     "user_tz": -540
    },
    "id": "_Df5Lliy6MvU",
    "outputId": "b03f1579-ac5e-498c-ee40-3ffcb618f0ef"
   },
   "outputs": [
    {
     "data": {
      "text/html": [
       "<div>\n",
       "<style scoped>\n",
       "    .dataframe tbody tr th:only-of-type {\n",
       "        vertical-align: middle;\n",
       "    }\n",
       "\n",
       "    .dataframe tbody tr th {\n",
       "        vertical-align: top;\n",
       "    }\n",
       "\n",
       "    .dataframe thead th {\n",
       "        text-align: right;\n",
       "    }\n",
       "</style>\n",
       "<table border=\"1\" class=\"dataframe\">\n",
       "  <thead>\n",
       "    <tr style=\"text-align: right;\">\n",
       "      <th></th>\n",
       "      <th>patient_no</th>\n",
       "      <th>img_idx</th>\n",
       "      <th>mean_annotation</th>\n",
       "      <th>DX</th>\n",
       "    </tr>\n",
       "  </thead>\n",
       "  <tbody>\n",
       "    <tr>\n",
       "      <th>0</th>\n",
       "      <td>SN00017916</td>\n",
       "      <td>1</td>\n",
       "      <td>0.0</td>\n",
       "      <td>0</td>\n",
       "    </tr>\n",
       "    <tr>\n",
       "      <th>1</th>\n",
       "      <td>SN00017916</td>\n",
       "      <td>2</td>\n",
       "      <td>0.0</td>\n",
       "      <td>0</td>\n",
       "    </tr>\n",
       "    <tr>\n",
       "      <th>2</th>\n",
       "      <td>SN00017916</td>\n",
       "      <td>3</td>\n",
       "      <td>0.0</td>\n",
       "      <td>0</td>\n",
       "    </tr>\n",
       "    <tr>\n",
       "      <th>3</th>\n",
       "      <td>SN00017916</td>\n",
       "      <td>4</td>\n",
       "      <td>0.0</td>\n",
       "      <td>0</td>\n",
       "    </tr>\n",
       "    <tr>\n",
       "      <th>4</th>\n",
       "      <td>SN00017916</td>\n",
       "      <td>5</td>\n",
       "      <td>0.0</td>\n",
       "      <td>0</td>\n",
       "    </tr>\n",
       "  </tbody>\n",
       "</table>\n",
       "</div>"
      ],
      "text/plain": [
       "   patient_no  img_idx  mean_annotation  DX\n",
       "0  SN00017916        1              0.0   0\n",
       "1  SN00017916        2              0.0   0\n",
       "2  SN00017916        3              0.0   0\n",
       "3  SN00017916        4              0.0   0\n",
       "4  SN00017916        5              0.0   0"
      ]
     },
     "execution_count": 7,
     "metadata": {},
     "output_type": "execute_result"
    }
   ],
   "source": [
    "label_df = pd.read_csv('../Diagnosis_Gallbladder_Cancer/metadata/label_df.csv')\n",
    "#label_df = pd.read_csv('./metadata/label_df.csv')\n",
    "label_df.head()"
   ]
  },
  {
   "cell_type": "markdown",
   "metadata": {},
   "source": [
    "- Z축을 5만큼 잘라서 작업\n",
    "- Clahe 전처리를 시켜주고, resize는 normalize 후 처리해준다 ( resize = (64,64) )"
   ]
  },
  {
   "cell_type": "code",
   "execution_count": 8,
   "metadata": {
    "id": "7X_h0ztv6Mvd"
   },
   "outputs": [
    {
     "name": "stdout",
     "output_type": "stream",
     "text": [
      "(8665,) (8665, 3) (8665, 5, 64, 64) (8665,)\n",
      "(2117,) (2117, 3) (2117, 5, 64, 64) (2117,)\n",
      "(2625,) (2625, 3) (2625, 5, 64, 64) (2625,)\n"
     ]
    }
   ],
   "source": [
    "# sliding-window Proprocessing (길이가 다른 z 축데이터를 동일하게 만들어준다.)\n",
    "window_size = 5\n",
    "size = (64,64)\n",
    "n_ct_statistics=[]\n",
    "path = '../Diagnosis_Gallbladder_Cancer/benchmark_liver_tumor/raw/'\n",
    "#\n",
    "# 10-cv Settings\n",
    "kf = KFold(n_splits=5, random_state=None, shuffle=True)\n",
    "for tr_list, te_list in kf.split(patient_meta):\n",
    "    # Train Dataset\n",
    "    X_p_tr, X_m_tr, X_i_tr, Y_tr = [], [], [], []\n",
    "    X_p_tr_abnormal, X_m_tr_abnormal, X_i_tr_abnormal ,Y_tr_abnormal = [], [], [], [] \n",
    "    for tr_idx in tr_list:\n",
    "        X_i_tr_ct_list = sorted(glob.glob(path+patient_meta[tr_idx, 0]+'/*.dcm'))\n",
    "        n_ct = len(X_i_tr_ct_list)\n",
    "        n_ct_statistics.append(n_ct)\n",
    "        # Load 3D CT Data per Patient\n",
    "        ct_block = []\n",
    "        dx_block = []\n",
    "        maxVal = 0\n",
    "        for z in range(n_ct):\n",
    "            # 전처리 --> normalize --> resize   \n",
    "            ct_block.append(cv2.resize(cv2.normalize(exposure.equalize_adapthist(pdc.dcmread(X_i_tr_ct_list[z]).pixel_array, clip_limit=0.03, nbins=512), dst=None, alpha=0, beta=1, norm_type=cv2.NORM_MINMAX, dtype=cv2.CV_32F), dsize=size))\n",
    "        ct_block = np.array(ct_block)\n",
    "         # DX 추가 부분\n",
    "        dx_block = label_df.loc[label_df['patient_no']==patient_meta[tr_idx, 0],'DX']\n",
    "        dx_block = np.array(dx_block)\n",
    "    \n",
    "        # Sliding-window Preprocess\n",
    "        n_window = n_ct-window_size+1   # for 문 마지막 인덱스 설정\n",
    "        X_i_tr_buffer = []\n",
    "        X_i_tr_abnormal_buffer = []\n",
    "        # 환자의 진단명에 따라 다르게 저장해준다.\n",
    "        # 0 이면 일반 리스트\n",
    "        # 0 이아니면 abnormal 리스트 \n",
    "        for z in range(n_window):\n",
    "            maxVal = np.max(dx_block[z:z+window_size])\n",
    "            if (maxVal != 0 ):\n",
    "                X_i_tr_abnormal_buffer.append(ct_block[z:z+window_size])   # 설정된 윈도우 사이즈 만큼 사진을 가져온다.\n",
    "                X_p_tr_abnormal.append(patient_meta[tr_idx, 0])            # 환자 번호\n",
    "                X_m_tr_abnormal.append(patient_meta[tr_idx, 2:])           # 환자 메타 정보\n",
    "                Y_tr_abnormal.append(maxVal)                               # DX\n",
    "            else :\n",
    "                X_i_tr_buffer.append(ct_block[z:z+window_size])   # 설정된 윈도우 사이즈 만큼 사진을 가져온다.\n",
    "                X_p_tr.append(patient_meta[tr_idx, 0])            # 환자 번호\n",
    "                X_m_tr.append(patient_meta[tr_idx, 2:])           # 환자 메타 정보 \n",
    "                Y_tr.append(maxVal)                               # DX\n",
    "            \n",
    "  \n",
    "        X_i_tr_buffer = np.array(X_i_tr_buffer)\n",
    "        X_i_tr.extend(X_i_tr_buffer)\n",
    "        X_i_tr_abnormal_buffer = np.array(X_i_tr_abnormal_buffer)\n",
    "        X_i_tr_abnormal.extend(X_i_tr_abnormal_buffer)\n",
    "        \n",
    "    X_p_tr, X_m_tr, X_i_tr, Y_tr = np.array(X_p_tr), np.array(X_m_tr), np.array(X_i_tr), np.array(Y_tr)\n",
    "    X_p_tr_abnormal, X_m_tr_abnormal, X_i_tr_abnormal, Y_tr_abnormal = np.array(X_p_tr_abnormal), np.array(X_m_tr_abnormal), np.array(X_i_tr_abnormal), np.array(Y_tr_abnormal)\n",
    "    print(X_p_tr.shape, X_m_tr.shape, X_i_tr.shape, Y_tr.shape)\n",
    "    print(X_p_tr_abnormal.shape, X_m_tr_abnormal.shape, X_i_tr_abnormal.shape, Y_tr_abnormal.shape)\n",
    "    \n",
    "    # Test Dataset\n",
    "    X_p_te, X_m_te, X_i_te, Y_te = [], [], [], []\n",
    "    for te_idx in te_list:\n",
    "        X_i_te_ct_list = sorted(glob.glob(path+patient_meta[te_idx, 0]+'/*.dcm'))\n",
    "        n_ct = len(X_i_te_ct_list)\n",
    "        n_ct_statistics.append(n_ct)\n",
    "        # Load 3D CT Data per Patient\n",
    "        ct_block = []\n",
    "        dx_block = []\n",
    "        maxVal = 0\n",
    "        for z in range(n_ct):\n",
    "                ct_block.append(cv2.resize(cv2.normalize((pdc.dcmread(X_i_te_ct_list[z])).pixel_array, dst=None, alpha=0, beta=1, norm_type=cv2.NORM_MINMAX, dtype=cv2.CV_32F),dsize=size))\n",
    "        ct_block = np.array(ct_block)\n",
    "        \n",
    "        # DX 추가 부분\n",
    "        dx_block = label_df.loc[label_df['patient_no']==patient_meta[te_idx, 0],'DX']\n",
    "        dx_block = np.array(dx_block)\n",
    "  \n",
    "        # Sliding-window Preprocess\n",
    "        n_window = n_ct-window_size+1\n",
    "        X_i_te_buffer = []\n",
    "        for z in range(n_window):\n",
    "            X_i_te_buffer.append(ct_block[z:z+window_size])\n",
    "            X_p_te.append(patient_meta[te_idx, 0])\n",
    "            X_m_te.append(patient_meta[te_idx, 2:])\n",
    "\n",
    "            maxVal = np.max(dx_block[z:z+window_size])\n",
    "            Y_te.append(maxVal)                               # DX\n",
    "        X_i_te_buffer = np.array(X_i_te_buffer)\n",
    "        X_i_te.extend(X_i_te_buffer)\n",
    "    X_p_te, X_m_te, X_i_te, Y_te = np.array(X_p_te), np.array(X_m_te), np.array(X_i_te), np.array(Y_te)\n",
    "    print(X_p_te.shape, X_m_te.shape, X_i_te.shape, Y_te.shape)\n",
    "    break"
   ]
  },
  {
   "cell_type": "code",
   "execution_count": 9,
   "metadata": {
    "scrolled": true
   },
   "outputs": [
    {
     "name": "stdout",
     "output_type": "stream",
     "text": [
      "(2117,) (2117, 3) (2117, 5, 64, 64) (2117,)\n"
     ]
    }
   ],
   "source": [
    "print(X_p_tr_abnormal.shape, X_m_tr_abnormal.shape, X_i_tr_abnormal.shape, Y_tr_abnormal.shape)"
   ]
  },
  {
   "cell_type": "code",
   "execution_count": 10,
   "metadata": {
    "id": "Iei9EBt_6Mvf"
   },
   "outputs": [
    {
     "data": {
      "text/plain": [
       "138.07"
      ]
     },
     "execution_count": 10,
     "metadata": {},
     "output_type": "execute_result"
    }
   ],
   "source": [
    "# CT Length Statistics\n",
    "np.mean(n_ct_statistics)"
   ]
  },
  {
   "cell_type": "code",
   "execution_count": 11,
   "metadata": {},
   "outputs": [
    {
     "name": "stdout",
     "output_type": "stream",
     "text": [
      "8665 1036 688 393\n",
      "2138 335 117 35\n"
     ]
    }
   ],
   "source": [
    "# Class Balance\n",
    "print(len(Y_tr[Y_tr==0]), len(Y_tr_abnormal[Y_tr_abnormal==1]), len(Y_tr_abnormal[Y_tr_abnormal==2]), len(Y_tr_abnormal[Y_tr_abnormal==3]))\n",
    "print(len(Y_te[Y_te==0]), len(Y_te[Y_te==1]), len(Y_te[Y_te==2]), len(Y_te[Y_te==3]))"
   ]
  },
  {
   "cell_type": "code",
   "execution_count": 12,
   "metadata": {
    "id": "GD3DrXkY6Mvh",
    "outputId": "9b2ca9cc-cb6c-4656-f21d-526e6339131f"
   },
   "outputs": [
    {
     "data": {
      "text/plain": [
       "(None, None, None, None)"
      ]
     },
     "execution_count": 12,
     "metadata": {},
     "output_type": "execute_result"
    }
   ],
   "source": [
    "# Save Dataset\n",
    "#path = './benchmark_liver_tumor/raw/np/'\n",
    "path = './np/'\n",
    "np.save(path+'X_p_tr_final2', X_p_tr), np.save(path+'X_m_tr_final2', X_m_tr), np.save(path+'X_i_tr_final2', X_i_tr), np.save(path+'Y_tr_final2', Y_tr)\n",
    "np.save(path+'X_p_te_final2', X_p_te), np.save(path+'X_m_te_final2', X_m_te), np.save(path+'X_i_te_final2', X_i_te), np.save(path+'Y_te_final2', Y_te)\n",
    "np.save(path+'X_p_tr_abnormal_final2', X_p_tr_abnormal), np.save(path+'X_m_tr_abnormal_final2', X_m_tr_abnormal), np.save(path+'X_i_tr_abnormal_final2', X_i_tr_abnormal), np.save(path+'Y_tr_abnormal_final2', Y_tr_abnormal)\n",
    "#np.save(path+'np/X_p_te_abnormal_final2', X_p_te_abnormal), np.save(path+'np/X_m_te_abnormal_final2', X_m_te_abnormal), np.save(path+'np/X_i_te_abnormal_final2', X_i_te_abnormal), np.save(path+'np/Y_te_abnormal_final2', Y_te_abnormal)"
   ]
  },
  {
   "cell_type": "code",
   "execution_count": 13,
   "metadata": {
    "colab": {
     "base_uri": "https://localhost:8080/",
     "height": 52
    },
    "executionInfo": {
     "elapsed": 870,
     "status": "ok",
     "timestamp": 1603851739055,
     "user": {
      "displayName": "박경원",
      "photoUrl": "",
      "userId": "08189699755027432651"
     },
     "user_tz": -540
    },
    "id": "7dh2sETN6Mvj",
    "outputId": "50c967ad-9233-4b4b-bf50-8bdc7c430729"
   },
   "outputs": [
    {
     "name": "stdout",
     "output_type": "stream",
     "text": [
      "(8665,) (8665, 3) (8665, 5, 64, 64) (8665,)\n",
      "(2625,) (2625, 3) (2625, 5, 64, 64) (2625,)\n",
      "(2117,) (2117, 3) (2117, 5, 64, 64) (2117,)\n"
     ]
    }
   ],
   "source": [
    "print(X_p_tr.shape, X_m_tr.shape, X_i_tr.shape, Y_tr.shape)\n",
    "print(X_p_te.shape, X_m_te.shape, X_i_te.shape, Y_te.shape)\n",
    "print(X_p_tr_abnormal.shape, X_m_tr_abnormal.shape, X_i_tr_abnormal.shape, Y_tr_abnormal.shape)"
   ]
  },
  {
   "cell_type": "markdown",
   "metadata": {},
   "source": [
    "### Augmentation 작업 전"
   ]
  },
  {
   "cell_type": "code",
   "execution_count": 14,
   "metadata": {
    "colab": {
     "base_uri": "https://localhost:8080/",
     "height": 52
    },
    "executionInfo": {
     "elapsed": 7848,
     "status": "ok",
     "timestamp": 1603851733490,
     "user": {
      "displayName": "박경원",
      "photoUrl": "",
      "userId": "08189699755027432651"
     },
     "user_tz": -540
    },
    "id": "Vl9WZroJ6Mvl",
    "outputId": "78af70af-37f5-4a0a-dd1e-0fc648114f74"
   },
   "outputs": [
    {
     "name": "stdout",
     "output_type": "stream",
     "text": [
      "(8665,) (8665, 3) (8665, 5, 64, 64) (8665,) (8665, 1)\n",
      "(2625,) (2625, 3) (2625, 5, 64, 64) (2625,) (2625, 4)\n",
      "(2117,) (2117, 3) (2117, 5, 64, 64) (2117,) (2117, 4)\n"
     ]
    }
   ],
   "source": [
    "# Load Dataset\n",
    "#path = './benchmark_liver_tumor/raw/np/'\n",
    "path = './np/'\n",
    "X_p_tr, X_m_tr, X_i_tr, Y_tr = np.load(path+'X_p_tr_final2.npy'), np.load(path+'X_m_tr_final2.npy', allow_pickle=True), np.load(path+'X_i_tr_final2.npy'), np.load(path+'Y_tr_final2.npy')\n",
    "X_p_te, X_m_te, X_i_te, Y_te = np.load(path+'X_p_te_final2.npy'), np.load(path+'X_m_te_final2.npy', allow_pickle=True), np.load(path+'X_i_te_final2.npy'), np.load(path+'Y_te_final2.npy')\n",
    "X_p_tr_abnormal, X_m_tr_abnormal, X_i_tr_abnormal, Y_tr_abnormal = np.load(path+'X_p_tr_abnormal_final2.npy'), np.load(path+'X_m_tr_abnormal_final2.npy', allow_pickle=True), np.load(path+'X_i_tr_abnormal_final2.npy'), np.load(path+'Y_tr_abnormal_final2.npy')\n",
    "\n",
    "X_m_tr, X_m_te, X_m_tr_abnormal = X_m_tr.astype('float32'), X_m_te.astype('float32'), X_m_tr_abnormal.astype('float32')\n",
    "Y_tr_cat, Y_te_cat, Y_tr_abnormal_cat  = to_categorical(Y_tr), to_categorical(Y_te), to_categorical(Y_tr_abnormal) # one-hot-encode\n",
    "print(X_p_tr.shape, X_m_tr.shape, X_i_tr.shape, Y_tr.shape, Y_tr_cat.shape)\n",
    "print(X_p_te.shape, X_m_te.shape, X_i_te.shape, Y_te.shape, Y_te_cat.shape)\n",
    "print(X_p_tr_abnormal.shape, X_m_tr_abnormal.shape, X_i_tr_abnormal.shape, Y_tr_abnormal.shape, Y_tr_abnormal_cat.shape)"
   ]
  },
  {
   "cell_type": "code",
   "execution_count": 5,
   "metadata": {
    "colab": {
     "base_uri": "https://localhost:8080/",
     "height": 52
    },
    "executionInfo": {
     "elapsed": 874,
     "status": "ok",
     "timestamp": 1603851743191,
     "user": {
      "displayName": "박경원",
      "photoUrl": "",
      "userId": "08189699755027432651"
     },
     "user_tz": -540
    },
    "id": "9gTwoa936Mvn",
    "outputId": "9c08c070-a052-44b4-ff2d-76577f978563"
   },
   "outputs": [
    {
     "name": "stdout",
     "output_type": "stream",
     "text": [
      "(8462, 64, 64, 5)\n",
      "(2752, 64, 64, 5)\n",
      "(2193, 64, 64, 5)\n"
     ]
    }
   ],
   "source": [
    "'''\n",
    "# Permute Channels\n",
    "X_i_tr = np.rollaxis(X_i_tr, 1, 4)\n",
    "X_i_te = np.rollaxis(X_i_te, 1, 4)\n",
    "X_i_tr_abnormal = np.rollaxis(X_i_tr_abnormal, 1, 4)\n",
    "print(X_i_tr.shape)\n",
    "print(X_i_te.shape)\n",
    "print(X_i_tr_abnormal.shape)\n",
    "'''"
   ]
  },
  {
   "cell_type": "markdown",
   "metadata": {},
   "source": [
    "### Augmentation 작업 후"
   ]
  },
  {
   "cell_type": "code",
   "execution_count": 53,
   "metadata": {},
   "outputs": [],
   "source": [
    "# Augmentations\n",
    "import imgaug as ia\n",
    "import imgaug.augmenters as iaa\n",
    "window_size = 5\n",
    "n_aug = 8\n",
    "path = './np/'\n",
    "#path = './benchmark_liver_tumor/raw/np/'\n",
    "for a in range(n_aug):\n",
    "    seq_pipeline = iaa.Sequential([\n",
    "        iaa.Sometimes(0.5, iaa.Fliplr(0.5)),   # horizontally flip 50% of all image \n",
    "        iaa.Sometimes(0.5, iaa.Crop(percent=(0, 0.1))), # 0-10% 비율로 높이와 너비를 잘라준다.\n",
    "        iaa.Sometimes(0.5, iaa.GaussianBlur(sigma=(0, 0.5))),\n",
    "        iaa.Sometimes(0.5, iaa.Affine(\n",
    "            scale={\"x\": (0.8, 1.2), \"y\": (0.8, 1.2)},   # x,y축 모두 80-120% 크기변환\n",
    "            translate_percent={\"x\": (-0.2, 0.2), \"y\": (-0.2, 0.2)},  # x,y 축모두 -20 에서 +20으로 축변환\n",
    "            rotate=(-25, 25),  # -25 에서 25 도 각도 변화\n",
    "            shear=(-8, 8))), # -16에서 16 기울기 변화\n",
    "        iaa.Sometimes(0.5, iaa.LinearContrast((0.75, 1.5))) # 이미지의 대조를 악화시키거나 개선 시킨다.\n",
    "        ## 추가해 볼 기법들\n",
    "        # mixup\n",
    "    ], random_order=True)\n",
    "    X_i_tr_abnormal_aug = np.copy(X_i_tr_abnormal)\n",
    "    for r in range(X_i_tr_abnormal_aug.shape[0]):\n",
    "        buffer_block = X_i_tr_abnormal_aug[r]\n",
    "        for z in range(window_size):\n",
    "            buffer_block[z] = seq_pipeline(images=buffer_block[z])\n",
    "        X_i_tr_abnormal_aug[r] = buffer_block\n",
    "    X_p_tr_abnormal_aug, X_m_tr_abnormal_aug, Y_tr_abnormal_aug = np.copy(X_p_tr_abnormal), np.copy(X_m_tr_abnormal), np.copy(Y_tr_abnormal)\n",
    "    np.save(path+'X_p_tr_abnormal_aug_%02d' %(a), X_p_tr_abnormal_aug), np.save(path+'X_m_tr_abnormal_aug_%02d' %(a), X_m_tr_abnormal_aug), np.save(path+'X_i_tr_abnormal_aug_%02d' %(a), X_i_tr_abnormal_aug), np.save(path+'Y_tr_abnormal_aug_%02d' %(a), Y_tr_abnormal_aug)"
   ]
  },
  {
   "cell_type": "code",
   "execution_count": 54,
   "metadata": {},
   "outputs": [
    {
     "name": "stdout",
     "output_type": "stream",
     "text": [
      "(26006,) (26006, 3) (26006, 64, 64, 5) (26006,) (26006, 4)\n",
      "(2752,) (2752, 3) (2752, 64, 64, 5) (2752,) (2752, 4)\n"
     ]
    }
   ],
   "source": [
    "# Load Augmented Dataset and concat with original train Dataset\n",
    "#path = './benchmark_liver_tumor/raw/np/'\n",
    "path = './np/'\n",
    "n_aug = 8\n",
    "for a in range(n_aug):\n",
    "    X_p_buffer, X_m_buffer, X_i_buffer, Y_tr_buffer = np.load(path+'X_p_tr_abnormal_aug_%02d.npy' %(a)), np.load(path+'X_m_tr_abnormal_aug_%02d.npy' %(a), allow_pickle=True).astype('float32'), np.load(path+'X_i_tr_abnormal_aug_%02d.npy' %(a)), np.load(path+'Y_tr_abnormal_aug_%02d.npy' %(a))\n",
    "    X_p_tr, X_m_tr, X_i_tr, Y_tr = np.concatenate((X_p_tr, X_p_buffer), axis=0), np.concatenate((X_m_tr, X_m_buffer), axis=0), np.concatenate((X_i_tr, X_i_buffer), axis=0), np.concatenate((Y_tr, Y_tr_buffer), axis=0)\n",
    "Y_tr_cat = to_categorical(Y_tr)\n",
    "print(X_p_tr.shape, X_m_tr.shape, X_i_tr.shape, Y_tr.shape, Y_tr_cat.shape)\n",
    "print(X_p_te.shape, X_m_te.shape, X_i_te.shape, Y_te.shape, Y_te_cat.shape)"
   ]
  },
  {
   "cell_type": "markdown",
   "metadata": {},
   "source": [
    "### Save augmented Dataset \n",
    "- 여기서 부터 실행"
   ]
  },
  {
   "cell_type": "code",
   "execution_count": 2,
   "metadata": {},
   "outputs": [
    {
     "ename": "NameError",
     "evalue": "name 'X_p_tr' is not defined",
     "output_type": "error",
     "traceback": [
      "\u001b[0;31m---------------------------------------------------------------------------\u001b[0m",
      "\u001b[0;31mNameError\u001b[0m                                 Traceback (most recent call last)",
      "\u001b[0;32m<ipython-input-2-9d9cc0b33f42>\u001b[0m in \u001b[0;36m<module>\u001b[0;34m\u001b[0m\n\u001b[1;32m      2\u001b[0m \u001b[0;31m#path = './benchmark_liver_tumor/raw/np_3d_oversample/'\u001b[0m\u001b[0;34m\u001b[0m\u001b[0;34m\u001b[0m\u001b[0;34m\u001b[0m\u001b[0m\n\u001b[1;32m      3\u001b[0m \u001b[0mpath\u001b[0m \u001b[0;34m=\u001b[0m \u001b[0;34m'./np_aug_2_oversampling/'\u001b[0m\u001b[0;34m\u001b[0m\u001b[0;34m\u001b[0m\u001b[0m\n\u001b[0;32m----> 4\u001b[0;31m \u001b[0mnp\u001b[0m\u001b[0;34m.\u001b[0m\u001b[0msave\u001b[0m\u001b[0;34m(\u001b[0m\u001b[0mpath\u001b[0m\u001b[0;34m+\u001b[0m\u001b[0;34m'X_p_tr_final22'\u001b[0m\u001b[0;34m,\u001b[0m \u001b[0mX_p_tr\u001b[0m\u001b[0;34m)\u001b[0m\u001b[0;34m,\u001b[0m \u001b[0mnp\u001b[0m\u001b[0;34m.\u001b[0m\u001b[0msave\u001b[0m\u001b[0;34m(\u001b[0m\u001b[0mpath\u001b[0m\u001b[0;34m+\u001b[0m\u001b[0;34m'X_m_tr_final22'\u001b[0m\u001b[0;34m,\u001b[0m \u001b[0mX_m_tr\u001b[0m\u001b[0;34m)\u001b[0m\u001b[0;34m,\u001b[0m \u001b[0mnp\u001b[0m\u001b[0;34m.\u001b[0m\u001b[0msave\u001b[0m\u001b[0;34m(\u001b[0m\u001b[0mpath\u001b[0m\u001b[0;34m+\u001b[0m\u001b[0;34m'X_i_tr_final22'\u001b[0m\u001b[0;34m,\u001b[0m \u001b[0mX_i_tr\u001b[0m\u001b[0;34m)\u001b[0m\u001b[0;34m,\u001b[0m \u001b[0mnp\u001b[0m\u001b[0;34m.\u001b[0m\u001b[0msave\u001b[0m\u001b[0;34m(\u001b[0m\u001b[0mpath\u001b[0m\u001b[0;34m+\u001b[0m\u001b[0;34m'Y_tr_final22'\u001b[0m\u001b[0;34m,\u001b[0m \u001b[0mY_tr\u001b[0m\u001b[0;34m)\u001b[0m\u001b[0;34m\u001b[0m\u001b[0;34m\u001b[0m\u001b[0m\n\u001b[0m\u001b[1;32m      5\u001b[0m \u001b[0mnp\u001b[0m\u001b[0;34m.\u001b[0m\u001b[0msave\u001b[0m\u001b[0;34m(\u001b[0m\u001b[0mpath\u001b[0m\u001b[0;34m+\u001b[0m\u001b[0;34m'X_p_te_final22'\u001b[0m\u001b[0;34m,\u001b[0m \u001b[0mX_p_te\u001b[0m\u001b[0;34m)\u001b[0m\u001b[0;34m,\u001b[0m \u001b[0mnp\u001b[0m\u001b[0;34m.\u001b[0m\u001b[0msave\u001b[0m\u001b[0;34m(\u001b[0m\u001b[0mpath\u001b[0m\u001b[0;34m+\u001b[0m\u001b[0;34m'X_m_te_final22'\u001b[0m\u001b[0;34m,\u001b[0m \u001b[0mX_m_te\u001b[0m\u001b[0;34m)\u001b[0m\u001b[0;34m,\u001b[0m \u001b[0mnp\u001b[0m\u001b[0;34m.\u001b[0m\u001b[0msave\u001b[0m\u001b[0;34m(\u001b[0m\u001b[0mpath\u001b[0m\u001b[0;34m+\u001b[0m\u001b[0;34m'X_i_te_final22'\u001b[0m\u001b[0;34m,\u001b[0m \u001b[0mX_i_te\u001b[0m\u001b[0;34m)\u001b[0m\u001b[0;34m,\u001b[0m \u001b[0mnp\u001b[0m\u001b[0;34m.\u001b[0m\u001b[0msave\u001b[0m\u001b[0;34m(\u001b[0m\u001b[0mpath\u001b[0m\u001b[0;34m+\u001b[0m\u001b[0;34m'Y_te_final22'\u001b[0m\u001b[0;34m,\u001b[0m \u001b[0mY_te\u001b[0m\u001b[0;34m)\u001b[0m\u001b[0;34m\u001b[0m\u001b[0;34m\u001b[0m\u001b[0m\n",
      "\u001b[0;31mNameError\u001b[0m: name 'X_p_tr' is not defined"
     ]
    }
   ],
   "source": [
    "# Save Dataset\n",
    "#path = './benchmark_liver_tumor/raw/np_3d_oversample/'\n",
    "path = './np_aug_2_oversampling/'\n",
    "np.save(path+'X_p_tr_final22', X_p_tr), np.save(path+'X_m_tr_final22', X_m_tr), np.save(path+'X_i_tr_final22', X_i_tr), np.save(path+'Y_tr_final22', Y_tr)\n",
    "np.save(path+'X_p_te_final22', X_p_te), np.save(path+'X_m_te_final22', X_m_te), np.save(path+'X_i_te_final22', X_i_te), np.save(path+'Y_te_final22', Y_te)"
   ]
  },
  {
   "cell_type": "markdown",
   "metadata": {},
   "source": [
    "### Load final Dataset"
   ]
  },
  {
   "cell_type": "code",
   "execution_count": 2,
   "metadata": {},
   "outputs": [
    {
     "name": "stdout",
     "output_type": "stream",
     "text": [
      "(26006,) (26006, 3) (26006, 64, 64, 5) (26006,) (26006, 4)\n",
      "(2752,) (2752, 3) (2752, 64, 64, 5) (2752,) (2752, 4)\n"
     ]
    }
   ],
   "source": [
    "# Load Dataset\n",
    "#path = './benchmark_liver_tumor/raw/np_3d_oversample/'\n",
    "path = './np_aug_2_oversampling/'\n",
    "X_p_tr, X_m_tr, X_i_tr, Y_tr = np.load(path+'X_p_tr_final22.npy'), np.load(path+'X_m_tr_final22.npy', allow_pickle=True), np.load(path+'X_i_tr_final22.npy'), np.load(path+'Y_tr_final22.npy')\n",
    "X_p_te, X_m_te, X_i_te, Y_te = np.load(path+'X_p_te_final22.npy'), np.load(path+'X_m_te_final22.npy', allow_pickle=True), np.load(path+'X_i_te_final22.npy'), np.load(path+'Y_te_final22.npy')\n",
    "X_m_tr, X_m_te = X_m_tr.astype('float32'), X_m_te.astype('float32')\n",
    "Y_tr_cat, Y_te_cat = to_categorical(Y_tr), to_categorical(Y_te) # one-hot-encode\n",
    "print(X_p_tr.shape, X_m_tr.shape, X_i_tr.shape, Y_tr.shape, Y_tr_cat.shape)\n",
    "print(X_p_te.shape, X_m_te.shape, X_i_te.shape, Y_te.shape, Y_te_cat.shape)"
   ]
  },
  {
   "cell_type": "code",
   "execution_count": 3,
   "metadata": {},
   "outputs": [
    {
     "name": "stdout",
     "output_type": "stream",
     "text": [
      "8462 8936 5832 2776\n",
      "2341 254 76 81\n"
     ]
    }
   ],
   "source": [
    "# Class Balance\n",
    "print(len(Y_tr[Y_tr==0]), len(Y_tr[Y_tr==1]), len(Y_tr[Y_tr==2]), len(Y_tr[Y_tr==3]))\n",
    "print(len(Y_te[Y_te==0]), len(Y_te[Y_te==1]), len(Y_te[Y_te==2]), len(Y_te[Y_te==3]))"
   ]
  },
  {
   "cell_type": "code",
   "execution_count": null,
   "metadata": {},
   "outputs": [],
   "source": [
    "# Permute Channels\n",
    "X_i_tr = np.rollaxis(X_i_tr, 1, 4)\n",
    "X_i_te = np.rollaxis(X_i_te, 1, 4)\n",
    "#X_i_tr_abnormal = np.rollaxis(X_i_tr_abnormal, 1, 4)\n",
    "print(X_i_tr.shape)\n",
    "print(X_i_te.shape)\n",
    "#print(X_i_tr_abnormal.shape)"
   ]
  },
  {
   "cell_type": "code",
   "execution_count": 4,
   "metadata": {
    "colab": {
     "base_uri": "https://localhost:8080/",
     "height": 1000
    },
    "executionInfo": {
     "elapsed": 980,
     "status": "ok",
     "timestamp": 1603852717934,
     "user": {
      "displayName": "박경원",
      "photoUrl": "",
      "userId": "08189699755027432651"
     },
     "user_tz": -540
    },
    "id": "_lFPhuJ-6Mvp",
    "outputId": "f6617496-5fc4-4bda-eba5-ac8eb22cac0b"
   },
   "outputs": [
    {
     "name": "stdout",
     "output_type": "stream",
     "text": [
      "Model: \"model\"\n",
      "__________________________________________________________________________________________________\n",
      "Layer (type)                    Output Shape         Param #     Connected to                     \n",
      "==================================================================================================\n",
      "input_1 (InputLayer)            [(None, 64, 64, 5)]  0                                            \n",
      "__________________________________________________________________________________________________\n",
      "reshape (Reshape)               (None, 64, 64, 5, 1) 0           input_1[0][0]                    \n",
      "__________________________________________________________________________________________________\n",
      "conv3d (Conv3D)                 (None, 64, 64, 5, 16 144         reshape[0][0]                    \n",
      "__________________________________________________________________________________________________\n",
      "max_pooling3d (MaxPooling3D)    (None, 32, 32, 5, 16 0           conv3d[0][0]                     \n",
      "__________________________________________________________________________________________________\n",
      "conv3d_1 (Conv3D)               (None, 32, 32, 5, 16 2064        max_pooling3d[0][0]              \n",
      "__________________________________________________________________________________________________\n",
      "max_pooling3d_1 (MaxPooling3D)  (None, 16, 16, 5, 16 0           conv3d_1[0][0]                   \n",
      "__________________________________________________________________________________________________\n",
      "conv3d_2 (Conv3D)               (None, 16, 16, 5, 16 2064        max_pooling3d_1[0][0]            \n",
      "__________________________________________________________________________________________________\n",
      "max_pooling3d_2 (MaxPooling3D)  (None, 8, 8, 5, 16)  0           conv3d_2[0][0]                   \n",
      "__________________________________________________________________________________________________\n",
      "conv3d_3 (Conv3D)               (None, 8, 8, 5, 16)  2064        max_pooling3d_2[0][0]            \n",
      "__________________________________________________________________________________________________\n",
      "max_pooling3d_3 (MaxPooling3D)  (None, 4, 4, 5, 16)  0           conv3d_3[0][0]                   \n",
      "__________________________________________________________________________________________________\n",
      "flatten (Flatten)               (None, 1280)         0           max_pooling3d_3[0][0]            \n",
      "__________________________________________________________________________________________________\n",
      "dense (Dense)                   (None, 128)          163968      flatten[0][0]                    \n",
      "__________________________________________________________________________________________________\n",
      "input_2 (InputLayer)            [(None, 3)]          0                                            \n",
      "__________________________________________________________________________________________________\n",
      "dense_1 (Dense)                 (None, 64)           8256        dense[0][0]                      \n",
      "__________________________________________________________________________________________________\n",
      "dense_3 (Dense)                 (None, 6)            24          input_2[0][0]                    \n",
      "__________________________________________________________________________________________________\n",
      "dense_2 (Dense)                 (None, 4)            260         dense_1[0][0]                    \n",
      "__________________________________________________________________________________________________\n",
      "dense_4 (Dense)                 (None, 6)            42          dense_3[0][0]                    \n",
      "__________________________________________________________________________________________________\n",
      "concatenate (Concatenate)       (None, 10)           0           dense_2[0][0]                    \n",
      "                                                                 dense_4[0][0]                    \n",
      "__________________________________________________________________________________________________\n",
      "dense_5 (Dense)                 (None, 128)          1408        concatenate[0][0]                \n",
      "__________________________________________________________________________________________________\n",
      "dense_6 (Dense)                 (None, 64)           8256        dense_5[0][0]                    \n",
      "__________________________________________________________________________________________________\n",
      "dense_7 (Dense)                 (None, 4)            260         dense_6[0][0]                    \n",
      "==================================================================================================\n",
      "Total params: 188,810\n",
      "Trainable params: 188,810\n",
      "Non-trainable params: 0\n",
      "__________________________________________________________________________________________________\n"
     ]
    }
   ],
   "source": [
    "# Build Model (3D-CNN)\n",
    "cnn_input = tf.keras.Input((X_i_tr.shape[1], X_i_tr.shape[2], X_i_tr.shape[3]))\n",
    "h = tf.keras.layers.Reshape((X_i_tr.shape[1], X_i_tr.shape[2], X_i_tr.shape[3], 1))(cnn_input)\n",
    "h = tf.keras.layers.Conv3D(filters=16, kernel_size=(2, 2, 2), padding='same', dilation_rate=(1, 1, 1), activation='tanh')(h)\n",
    "h = tf.keras.layers.MaxPool3D((2, 2, 1))(h)\n",
    "h = tf.keras.layers.Conv3D(filters=16, kernel_size=(2, 2, 2), padding='same', dilation_rate=(1, 1, 1), activation='tanh')(h)\n",
    "h = tf.keras.layers.MaxPool3D((2, 2, 1))(h)\n",
    "h = tf.keras.layers.Conv3D(filters=16, kernel_size=(2, 2, 2), padding='same', dilation_rate=(1, 1, 1), activation='tanh')(h)\n",
    "h = tf.keras.layers.MaxPool3D((2, 2, 1))(h)\n",
    "h = tf.keras.layers.Conv3D(filters=16, kernel_size=(2, 2, 2), padding='same', dilation_rate=(1, 1, 1), activation='tanh')(h)\n",
    "h = tf.keras.layers.MaxPool3D((2, 2, 1))(h)\n",
    "#h = tf.keras.layers.Dropout(0.5)(h)\n",
    "h = tf.keras.layers.Flatten()(h)\n",
    "h = tf.keras.layers.Dense(128, activation='tanh')(h)\n",
    "h = tf.keras.layers.Dense(64, activation='tanh')(h)\n",
    "cnn_output = tf.keras.layers.Dense(Y_tr_cat.shape[1], activation='softmax')(h)\n",
    "\n",
    "\n",
    "# Build Meta-data\n",
    "dnn_input = tf.keras.Input((X_m_tr.shape[1],))\n",
    "h = tf.keras.layers.Dense(6, activation='tanh')(dnn_input)\n",
    "dnn_output = tf.keras.layers.Dense(6, activation='tanh')(h)\n",
    "\n",
    "\n",
    "# Fusion Model\n",
    "concat = tf.keras.layers.Concatenate(axis=-1)([cnn_output, dnn_output])\n",
    "h = tf.keras.layers.Dense(128, activation='tanh')(concat)\n",
    "h = tf.keras.layers.Dense(64, activation='tanh')(h)\n",
    "cnn_dnn_output = tf.keras.layers.Dense(Y_tr_cat.shape[1], activation='softmax')(h)\n",
    "cnn_meta = tf.keras.Model(inputs=[cnn_input, dnn_input], outputs=cnn_dnn_output)\n",
    "cnn_meta.compile(loss='categorical_crossentropy', optimizer='adam', metrics=['accuracy'])\n",
    "cnn_meta.summary()"
   ]
  },
  {
   "cell_type": "code",
   "execution_count": 5,
   "metadata": {},
   "outputs": [
    {
     "name": "stdout",
     "output_type": "stream",
     "text": [
      "8462 8936 5832 2776\n",
      "2341 254 76 81\n"
     ]
    }
   ],
   "source": [
    "# Class Balance\n",
    "print(len(Y_tr[Y_tr==0]), len(Y_tr[Y_tr==1]), len(Y_tr[Y_tr==2]), len(Y_tr[Y_tr==3]))\n",
    "print(len(Y_te[Y_te==0]), len(Y_te[Y_te==1]), len(Y_te[Y_te==2]), len(Y_te[Y_te==3]))"
   ]
  },
  {
   "cell_type": "code",
   "execution_count": 5,
   "metadata": {
    "colab": {
     "base_uri": "https://localhost:8080/",
     "height": 1000
    },
    "executionInfo": {
     "elapsed": 84658,
     "status": "ok",
     "timestamp": 1603852807118,
     "user": {
      "displayName": "박경원",
      "photoUrl": "",
      "userId": "08189699755027432651"
     },
     "user_tz": -540
    },
    "id": "6LIzC7TR6Mvs",
    "outputId": "11a9efa9-3b41-4ed0-ba0b-e4195fcbcd4b",
    "scrolled": true
   },
   "outputs": [
    {
     "name": "stdout",
     "output_type": "stream",
     "text": [
      "Epoch 1/200\n",
      "867/867 - 10s - loss: 0.7080 - accuracy: 0.6916 - val_loss: 0.7085 - val_accuracy: 0.8510\n",
      "Epoch 2/200\n",
      "867/867 - 10s - loss: 0.0797 - accuracy: 0.9737 - val_loss: 0.9463 - val_accuracy: 0.8423\n",
      "Epoch 3/200\n",
      "867/867 - 10s - loss: 0.0494 - accuracy: 0.9830 - val_loss: 0.9012 - val_accuracy: 0.8129\n",
      "Epoch 4/200\n",
      "867/867 - 10s - loss: 0.0349 - accuracy: 0.9891 - val_loss: 0.7851 - val_accuracy: 0.8016\n",
      "Epoch 5/200\n",
      "867/867 - 10s - loss: 0.0373 - accuracy: 0.9884 - val_loss: 1.0334 - val_accuracy: 0.8219\n",
      "Epoch 6/200\n",
      "867/867 - 10s - loss: 0.0288 - accuracy: 0.9911 - val_loss: 0.8711 - val_accuracy: 0.8485\n",
      "Epoch 7/200\n",
      "867/867 - 10s - loss: 0.0235 - accuracy: 0.9923 - val_loss: 1.0214 - val_accuracy: 0.8467\n",
      "Epoch 8/200\n",
      "867/867 - 10s - loss: 0.0237 - accuracy: 0.9922 - val_loss: 0.9619 - val_accuracy: 0.8321\n",
      "Epoch 9/200\n",
      "867/867 - 10s - loss: 0.0225 - accuracy: 0.9933 - val_loss: 0.9675 - val_accuracy: 0.8339\n",
      "Epoch 10/200\n",
      "867/867 - 10s - loss: 0.0216 - accuracy: 0.9937 - val_loss: 1.0670 - val_accuracy: 0.8110\n",
      "Epoch 11/200\n",
      "867/867 - 10s - loss: 0.0154 - accuracy: 0.9958 - val_loss: 0.9987 - val_accuracy: 0.8125\n",
      "Epoch 12/200\n",
      "867/867 - 10s - loss: 0.0197 - accuracy: 0.9944 - val_loss: 0.9968 - val_accuracy: 0.8463\n",
      "Epoch 13/200\n",
      "867/867 - 10s - loss: 0.0188 - accuracy: 0.9943 - val_loss: 1.0768 - val_accuracy: 0.8361\n",
      "Epoch 14/200\n",
      "867/867 - 10s - loss: 0.0163 - accuracy: 0.9954 - val_loss: 1.0776 - val_accuracy: 0.8125\n",
      "Epoch 15/200\n",
      "867/867 - 10s - loss: 0.0125 - accuracy: 0.9961 - val_loss: 1.0161 - val_accuracy: 0.8477\n",
      "Epoch 16/200\n",
      "867/867 - 10s - loss: 0.0117 - accuracy: 0.9967 - val_loss: 1.0443 - val_accuracy: 0.8401\n",
      "Epoch 17/200\n",
      "867/867 - 10s - loss: 0.0185 - accuracy: 0.9945 - val_loss: 1.2415 - val_accuracy: 0.7951\n",
      "Epoch 18/200\n",
      "867/867 - 10s - loss: 0.0175 - accuracy: 0.9945 - val_loss: 1.2308 - val_accuracy: 0.7522\n",
      "Epoch 19/200\n",
      "867/867 - 10s - loss: 0.0079 - accuracy: 0.9978 - val_loss: 1.1233 - val_accuracy: 0.8187\n",
      "Epoch 20/200\n",
      "867/867 - 10s - loss: 0.0120 - accuracy: 0.9966 - val_loss: 1.1912 - val_accuracy: 0.8194\n",
      "Epoch 21/200\n",
      "867/867 - 10s - loss: 0.0131 - accuracy: 0.9965 - val_loss: 1.0612 - val_accuracy: 0.7958\n",
      "Epoch 22/200\n",
      "867/867 - 10s - loss: 0.0136 - accuracy: 0.9955 - val_loss: 1.2048 - val_accuracy: 0.8310\n",
      "Epoch 23/200\n",
      "867/867 - 10s - loss: 0.0107 - accuracy: 0.9967 - val_loss: 1.4280 - val_accuracy: 0.7892\n",
      "Epoch 24/200\n",
      "867/867 - 10s - loss: 0.0091 - accuracy: 0.9972 - val_loss: 1.1704 - val_accuracy: 0.8052\n"
     ]
    }
   ],
   "source": [
    "# Train Model\n",
    "from keras.callbacks import EarlyStopping\n",
    "es = EarlyStopping(monitor='accuracy', patience=5, restore_best_weights=True)\n",
    "cnn_history = cnn_meta.fit([X_i_tr,X_m_tr], Y_tr_cat, validation_data=([X_i_te,X_m_te], Y_te_cat), epochs=200, batch_size=30, shuffle=True, verbose=2, callbacks=[es])"
   ]
  },
  {
   "cell_type": "code",
   "execution_count": 6,
   "metadata": {
    "colab": {
     "base_uri": "https://localhost:8080/",
     "height": 52
    },
    "executionInfo": {
     "elapsed": 932,
     "status": "ok",
     "timestamp": 1603852872073,
     "user": {
      "displayName": "박경원",
      "photoUrl": "",
      "userId": "08189699755027432651"
     },
     "user_tz": -540
    },
    "id": "6oALR5SU6Mvu",
    "outputId": "2b80c33d-1ae9-485e-8195-f922a6e75448"
   },
   "outputs": [
    {
     "name": "stdout",
     "output_type": "stream",
     "text": [
      "86/86 [==============================] - 0s 4ms/step - loss: 1.1233 - accuracy: 0.8187\n"
     ]
    },
    {
     "data": {
      "text/plain": [
       "[1.1233174800872803, 0.8186773061752319]"
      ]
     },
     "execution_count": 6,
     "metadata": {},
     "output_type": "execute_result"
    }
   ],
   "source": [
    "cnn_meta.evaluate([X_i_te,X_m_te],Y_te_cat)"
   ]
  },
  {
   "cell_type": "code",
   "execution_count": 7,
   "metadata": {
    "colab": {
     "base_uri": "https://localhost:8080/",
     "height": 714
    },
    "executionInfo": {
     "elapsed": 1154,
     "status": "ok",
     "timestamp": 1603852876351,
     "user": {
      "displayName": "박경원",
      "photoUrl": "",
      "userId": "08189699755027432651"
     },
     "user_tz": -540
    },
    "id": "cvKDu7Op6Mvw",
    "outputId": "b9aa3872-665b-4353-ae54-7213acbe9d8a"
   },
   "outputs": [
    {
     "data": {
      "image/png": "[encoded data removed]",
      "text/plain": [
       "<Figure size 576x864 with 2 Axes>"
      ]
     },
     "metadata": {
      "needs_background": "light"
     },
     "output_type": "display_data"
    }
   ],
   "source": [
    "# visualize history\n",
    "import matplotlib.pyplot as plt\n",
    "\n",
    "def plot_history(history):\n",
    "    hist = pd.DataFrame(history.history)\n",
    "    hist['epoch'] = history.epoch\n",
    "\n",
    "    plt.figure(figsize=(8,12))\n",
    "\n",
    "    plt.subplot(2,1,1)\n",
    "    plt.xlabel('Epoch')\n",
    "    plt.ylabel('Loss')\n",
    "    plt.plot(hist['epoch'], hist['loss'],\n",
    "            label='Train loss')\n",
    "    plt.plot(hist['epoch'], hist['val_loss'],\n",
    "               label = 'Val loss')\n",
    "    plt.legend()\n",
    "\n",
    "    plt.subplot(2,1,2)\n",
    "    plt.xlabel('Epoch')\n",
    "    plt.ylabel('Accuracy')\n",
    "    plt.plot(hist['epoch'], hist['accuracy'],\n",
    "            label='Train accuracy')\n",
    "    plt.plot(hist['epoch'], hist['val_accuracy'],\n",
    "               label = 'Val accuracy')\n",
    "    plt.legend()\n",
    "plot_history(cnn_history)"
   ]
  },
  {
   "cell_type": "markdown",
   "metadata": {
    "id": "kPZGD12y6Mvy"
   },
   "source": [
    "### 모델 저장 및 로딩 "
   ]
  },
  {
   "cell_type": "code",
   "execution_count": 8,
   "metadata": {
    "executionInfo": {
     "elapsed": 958,
     "status": "ok",
     "timestamp": 1603852877422,
     "user": {
      "displayName": "박경원",
      "photoUrl": "",
      "userId": "08189699755027432651"
     },
     "user_tz": -540
    },
    "id": "WpaGgVva6Mvy"
   },
   "outputs": [],
   "source": [
    "# save model\n",
    "cnn_meta.save(\"./models/Dilated_3D_cnn_meta_aug_oversampling.h5\")\n",
    "\n",
    "# model load하는 경우\n",
    "cnn_meta  = tf.keras.models.load_model(\"./models/Dilated_3D_cnn_meta_aug_oversampling.h5\")"
   ]
  },
  {
   "cell_type": "markdown",
   "metadata": {
    "id": "t5cNNcoc6Mv0"
   },
   "source": [
    "## Confusion Matrix\n",
    "- X train을 통한 메트릭스\n",
    "- X test를 통한 메트릭스"
   ]
  },
  {
   "cell_type": "code",
   "execution_count": 9,
   "metadata": {
    "executionInfo": {
     "elapsed": 437,
     "status": "ok",
     "timestamp": 1603852877856,
     "user": {
      "displayName": "박경원",
      "photoUrl": "",
      "userId": "08189699755027432651"
     },
     "user_tz": -540
    },
    "id": "LThobgij6Mv1"
   },
   "outputs": [],
   "source": [
    "from sklearn.metrics import classification_report\n",
    "from sklearn.metrics import confusion_matrix"
   ]
  },
  {
   "cell_type": "code",
   "execution_count": 10,
   "metadata": {
    "executionInfo": {
     "elapsed": 418,
     "status": "ok",
     "timestamp": 1603852878196,
     "user": {
      "displayName": "박경원",
      "photoUrl": "",
      "userId": "08189699755027432651"
     },
     "user_tz": -540
    },
    "id": "AjtSBcDl6Mv3"
   },
   "outputs": [],
   "source": [
    "def output_class(x):\n",
    "    output = np.argmax(x)\n",
    "    if output == 0:\n",
    "        return 'non-ROI'\n",
    "    elif output == 1:\n",
    "        return 'metastasis'\n",
    "    elif output == 2:\n",
    "        return 'HCC'\n",
    "    elif output == 3:\n",
    "        return 'cholangiocarcinoma'"
   ]
  },
  {
   "cell_type": "code",
   "execution_count": 11,
   "metadata": {
    "colab": {
     "base_uri": "https://localhost:8080/",
     "height": 283
    },
    "executionInfo": {
     "elapsed": 3718,
     "status": "ok",
     "timestamp": 1603852882058,
     "user": {
      "displayName": "박경원",
      "photoUrl": "",
      "userId": "08189699755027432651"
     },
     "user_tz": -540
    },
    "id": "oS_yU2BN6MwF",
    "outputId": "7527f474-9c56-482e-d354-320a058fa8cf"
   },
   "outputs": [
    {
     "name": "stdout",
     "output_type": "stream",
     "text": [
      "[[5830    0    0    2]\n",
      " [   0 2776    0    0]\n",
      " [   0    0 8920   16]\n",
      " [   4    4   11 8443]]\n",
      "                    precision    recall  f1-score   support\n",
      "\n",
      "               HCC       1.00      1.00      1.00      5832\n",
      "cholangiocarcinoma       1.00      1.00      1.00      2776\n",
      "        metastasis       1.00      1.00      1.00      8936\n",
      "           non-ROI       1.00      1.00      1.00      8462\n",
      "\n",
      "          accuracy                           1.00     26006\n",
      "         macro avg       1.00      1.00      1.00     26006\n",
      "      weighted avg       1.00      1.00      1.00     26006\n",
      "\n"
     ]
    }
   ],
   "source": [
    "# X_train을 통한 예측값 비교\n",
    "y_pred = cnn_meta.predict([X_i_tr,X_m_tr])\n",
    "y_true=pd.DataFrame(Y_tr_cat).apply(lambda x:output_class(x),axis=1)\n",
    "y_pred_classified = pd.DataFrame(y_pred).apply(lambda x: output_class(x),axis=1)\n",
    "print(confusion_matrix(y_true, y_pred_classified))\n",
    "\n",
    "#from sklearn.metrics import classification_report\n",
    "print(classification_report(y_true, y_pred_classified))"
   ]
  },
  {
   "cell_type": "code",
   "execution_count": 13,
   "metadata": {
    "colab": {
     "base_uri": "https://localhost:8080/",
     "height": 283
    },
    "executionInfo": {
     "elapsed": 4149,
     "status": "ok",
     "timestamp": 1603852882921,
     "user": {
      "displayName": "박경원",
      "photoUrl": "",
      "userId": "08189699755027432651"
     },
     "user_tz": -540
    },
    "id": "p1AkeIWk6MwI",
    "outputId": "aec3d862-41f5-47a0-8ecb-b0ed0c4097e5"
   },
   "outputs": [
    {
     "name": "stdout",
     "output_type": "stream",
     "text": [
      "[[   1    0    6   69]\n",
      " [  41    0    0   40]\n",
      " [  22    0   40  192]\n",
      " [  48    0   81 2212]]\n",
      "                    precision    recall  f1-score   support\n",
      "\n",
      "               HCC       0.01      0.01      0.01        76\n",
      "cholangiocarcinoma       0.00      0.00      0.00        81\n",
      "        metastasis       0.31      0.16      0.21       254\n",
      "           non-ROI       0.88      0.94      0.91      2341\n",
      "\n",
      "          accuracy                           0.82      2752\n",
      "         macro avg       0.30      0.28      0.28      2752\n",
      "      weighted avg       0.78      0.82      0.79      2752\n",
      "\n"
     ]
    }
   ],
   "source": [
    "# X test 를 이용한 Y 값 예측    \n",
    "y_pred = cnn_meta.predict([X_i_te,X_m_te])    \n",
    "y_true=pd.DataFrame(Y_te_cat).apply(lambda x:output_class(x),axis=1)\n",
    "y_pred_classified = pd.DataFrame(y_pred).apply(lambda x: output_class(x),axis=1)\n",
    "print(confusion_matrix(y_true, y_pred_classified))\n",
    "\n",
    "#from sklearn.metrics import classification_report\n",
    "print(classification_report(y_true, y_pred_classified))"
   ]
  },
  {
   "cell_type": "markdown",
   "metadata": {},
   "source": [
    "### CAM"
   ]
  },
  {
   "cell_type": "code",
   "execution_count": 23,
   "metadata": {},
   "outputs": [
    {
     "name": "stdout",
     "output_type": "stream",
     "text": [
      "[9.9977452e-01 6.1439314e-05 7.9409030e-05 8.4575222e-05]\n"
     ]
    }
   ],
   "source": [
    "print(cnn_meta.predict([X_i_te,X_m_te])[0])"
   ]
  },
  {
   "cell_type": "code",
   "execution_count": 48,
   "metadata": {},
   "outputs": [
    {
     "data": {
      "image/png": "[encoded data removed]",
      "text/plain": [
       "<Figure size 1296x576 with 1 Axes>"
      ]
     },
     "metadata": {
      "needs_background": "light"
     },
     "output_type": "display_data"
    },
    {
     "data": {
      "image/png": "[encoded data removed]",
      "text/plain": [
       "<Figure size 1296x576 with 1 Axes>"
      ]
     },
     "metadata": {
      "needs_background": "light"
     },
     "output_type": "display_data"
    },
    {
     "data": {
      "image/png": "[encoded data removed]",
      "text/plain": [
       "<Figure size 1296x576 with 1 Axes>"
      ]
     },
     "metadata": {
      "needs_background": "light"
     },
     "output_type": "display_data"
    },
    {
     "data": {
      "image/png": "[encoded data removed]",
      "text/plain": [
       "<Figure size 1296x576 with 1 Axes>"
      ]
     },
     "metadata": {
      "needs_background": "light"
     },
     "output_type": "display_data"
    },
    {
     "data": {
      "image/png": "[encoded data removed]",
      "text/plain": [
       "<Figure size 1296x576 with 1 Axes>"
      ]
     },
     "metadata": {
      "needs_background": "light"
     },
     "output_type": "display_data"
    }
   ],
   "source": [
    "f, ax = plt.subplots(1,1,figsize=(18,8)) \n",
    "\n",
    "for i in range(5): \n",
    "    X_i_tr[0][:,:,i].shape\n",
    "    img = X_i_tr[0][:,:,i]\n",
    "    img = np.expand_dims(img, axis=2)\n",
    "    #img = np.repeat(img[:, :, np.newaxis], 3, axis=2)  # 2차원 배열을 3차원으로 3번 복사 \n",
    "    img.shape\n",
    "    \n",
    "    ax.imshow(img)"
   ]
  },
  {
   "cell_type": "code",
   "execution_count": null,
   "metadata": {},
   "outputs": [],
   "source": []
  }
 ],
 "metadata": {
  "accelerator": "GPU",
  "colab": {
   "name": "Image Preprocessing (3D) with Naive CNN.ipynb",
   "provenance": []
  },
  "kernelspec": {
   "display_name": "Python 3",
   "language": "python",
   "name": "python3"
  },
  "language_info": {
   "codemirror_mode": {
    "name": "ipython",
    "version": 3
   },
   "file_extension": ".py",
   "mimetype": "text/x-python",
   "name": "python",
   "nbconvert_exporter": "python",
   "pygments_lexer": "ipython3",
   "version": "3.8.5"
  }
 },
 "nbformat": 4,
 "nbformat_minor": 1
}
