{
 "cells": [
  {
   "cell_type": "code",
   "execution_count": 1,
   "metadata": {},
   "outputs": [],
   "source": [
    "import pydicom as pdc\n",
    "import matplotlib.pyplot as plt\n",
    "import numpy as np\n",
    "import cv2\n",
    "import pandas as pd\n",
    "from sklearn import preprocessing\n",
    "from sklearn.model_selection import KFold\n",
    "import glob"
   ]
  },
  {
   "cell_type": "code",
   "execution_count": 6,
   "metadata": {},
   "outputs": [
    {
     "name": "stdout",
     "output_type": "stream",
     "text": [
      "Drop: Int64Index([42, 66, 69], dtype='int64')\n"
     ]
    }
   ],
   "source": [
    "path = '../Code/benchmark_liver_tumor/raw/'\n",
    "# Load Meta-data and preprocessing\n",
    "patient_meta = pd.read_csv(path + 'patient_meta.csv')\n",
    "patient_meta = patient_meta[['RANDOM_PT_NO','SEX','AGE','PHASE',\"DX\"]]\n",
    "#patient_meta.head()\n",
    "\n",
    "#NET, Lymphoma : Dropped (3 cases)\n",
    "print(\"Drop:\", patient_meta[(patient_meta['DX']=='lymphoma') | (patient_meta['DX']=='NET')].index)\n",
    "patient_meta = patient_meta.drop(patient_meta[(patient_meta['DX']=='lymphoma') | (patient_meta['DX']=='NET')].index, axis=0)\n",
    "patient_meta.reset_index(drop=True, inplace=True)\n",
    "\n",
    "# categorical Variables(Sex, Phase)\n",
    "# pd.get_dummies() 가변수 만들기\n",
    "patient_meta = pd.concat([patient_meta, pd.get_dummies(patient_meta[['SEX']])], axis=1)\n",
    "patient_meta = patient_meta.drop(['SEX','PHASE'], axis=1)\n",
    "\n",
    "# Continuous Variables(Age)\n",
    "age = patient_meta['AGE'].values\n",
    "age_scaled = preprocessing.scale(age)\n",
    " \n",
    "patient_meta['AGE_NORM'] = age_scaled\n",
    "patient_meta = patient_meta.drop(['AGE'], axis = 1)\n",
    "\n",
    "#Label Setting\n",
    "# 0 : Metastasis, 56\n",
    "# 1 : Hepatocelluar Carcinoma, 30\n",
    "# 2 : cholangiocarcinoma, 14     \n",
    "for r in range(patient_meta.shape[0]):\n",
    "    if('metastasis' in patient_meta.iloc[r, 1]):\n",
    "        patient_meta.iloc[r, 1] = 0\n",
    "    elif('HCC' == patient_meta.iloc[r, 1]):\n",
    "        patient_meta.iloc[r, 1] = 1\n",
    "    elif('cholangiocarcinoma' == patient_meta.iloc[r, 1]):\n",
    "        patient_meta.iloc[r, 1] = 2\n",
    "    else:\n",
    "        patient_meta.iloc[r, 1] = -1\n",
    "\n",
    "patient_meta = np.array(patient_meta)   #넘파이 배열로 변환"
   ]
  },
  {
   "cell_type": "code",
   "execution_count": 7,
   "metadata": {},
   "outputs": [
    {
     "data": {
      "text/plain": [
       "array([['SN00180816', 1, 0, 1, -0.9717086332456366],\n",
       "       ['SN00361989', 1, 1, 0, -1.0655029028639413],\n",
       "       ['SN00481545', 2, 1, 0, 0.9041767591204574],\n",
       "       ['SN00493709', 2, 0, 1, 0.43520541102893384],\n",
       "       ['SN00181638', 0, 0, 1, -0.31514874591750375],\n",
       "       ['SN00222863', 0, 0, 1, 0.15382260217401975],\n",
       "       ['SN00283964', 0, 0, 1, 0.997971028738762],\n",
       "       ['SN00304545', 0, 1, 0, 0.9041767591204574],\n",
       "       ['SN00450700', 2, 1, 0, 0.7165882198838479],\n",
       "       ['SN00508749', 1, 0, 1, 0.997971028738762],\n",
       "       ['SN00090078', 0, 1, 0, -0.03376593706258964],\n",
       "       ['SN00369027', 0, 1, 0, -0.31514874591750375],\n",
       "       ['SN00474278', 0, 1, 0, -1.44067998133716],\n",
       "       ['SN00305004', 0, 1, 0, -1.3468857117188553],\n",
       "       ['SN00508618', 0, 0, 1, 0.997971028738762],\n",
       "       ['SN00067936', 0, 1, 0, -2.4724169471385116],\n",
       "       ['SN00381399', 2, 0, 1, -0.6903258243907225],\n",
       "       ['SN00407113', 1, 1, 0, 1.0917652983570667],\n",
       "       ['SN00097002', 1, 0, 1, 1.3731481072119809],\n",
       "       ['SN00133173', 2, 0, 1, 1.5607366464485901],\n",
       "       ['SN00226166', 0, 0, 1, 1.0917652983570667],\n",
       "       ['SN00116934', 0, 0, 1, 0.06002833255571506],\n",
       "       ['SN00141501', 1, 0, 1, -1.44067998133716],\n",
       "       ['SN00179194', 1, 0, 1, 0.06002833255571506],\n",
       "       ['SN00289590', 0, 0, 1, -0.9717086332456366],\n",
       "       ['SN00361065', 1, 0, 1, 0.9041767591204574],\n",
       "       ['SN00361258', 2, 0, 1, 1.0917652983570667],\n",
       "       ['SN00305492', 0, 0, 1, -0.5965315547724178],\n",
       "       ['SN00183359', 1, 0, 1, 0.43520541102893384],\n",
       "       ['SN00231441', 1, 0, 1, 1.2793538375936762],\n",
       "       ['SN00397757', 0, 1, 0, -0.12756020668089432],\n",
       "       ['SN00527433', 1, 1, 0, 0.9041767591204574],\n",
       "       ['SN00062921', 0, 0, 1, -0.31514874591750375],\n",
       "       ['SN00203040', 0, 0, 1, 1.4669423768302856],\n",
       "       ['SN00266417', 1, 0, 1, -2.097239868665293],\n",
       "       ['SN00454145', 0, 1, 0, -1.5344742509554647],\n",
       "       ['SN00274538', 0, 0, 1, -0.9717086332456366],\n",
       "       ['SN00531159', 0, 1, 0, -1.44067998133716],\n",
       "       ['SN00553244', 1, 0, 1, -1.0655029028639413],\n",
       "       ['SN00037077', 1, 1, 0, 1.935913724921809],\n",
       "       ['SN00257665', 1, 0, 1, 0.9041767591204574],\n",
       "       ['SN00108649', 0, 0, 1, 0.5289996806472386],\n",
       "       ['SN00177221', 2, 1, 0, -1.5344742509554647],\n",
       "       ['SN00181617', 2, 0, 1, -1.3468857117188553],\n",
       "       ['SN00379916', 0, 1, 0, 0.34141114141062917],\n",
       "       ['SN00431554', 0, 0, 1, 0.7165882198838479],\n",
       "       ['SN00435072', 1, 0, 1, -0.8779143636273319],\n",
       "       ['SN00459113', 0, 1, 0, 0.6227939502655432],\n",
       "       ['SN00532977', 0, 0, 1, -1.7220627901920742],\n",
       "       ['SN00182152', 1, 0, 1, -1.3468857117188553],\n",
       "       ['SN00216095', 2, 0, 1, 0.5289996806472386],\n",
       "       ['SN00224464', 0, 0, 1, -0.03376593706258964],\n",
       "       ['SN00331480', 0, 1, 0, -1.0655029028639413],\n",
       "       ['SN00331923', 1, 1, 0, 0.7165882198838479],\n",
       "       ['SN00396734', 0, 1, 0, -1.2530914421005508],\n",
       "       ['SN00086679', 0, 0, 1, 0.15382260217401975],\n",
       "       ['SN00149847', 0, 0, 1, 0.15382260217401975],\n",
       "       ['SN00224323', 0, 1, 0, -1.44067998133716],\n",
       "       ['SN00473709', 0, 1, 0, 0.15382260217401975],\n",
       "       ['SN00094752', 0, 0, 1, 0.43520541102893384],\n",
       "       ['SN00238383', 0, 0, 1, -0.6903258243907225],\n",
       "       ['SN00332416', 0, 1, 0, -1.0655029028639413],\n",
       "       ['SN00167208', 0, 1, 0, -1.9096513294286837],\n",
       "       ['SN00168744', 0, 1, 0, 0.7165882198838479],\n",
       "       ['SN00167667', 1, 0, 1, -0.31514874591750375],\n",
       "       ['SN00235329', 1, 0, 1, 1.0917652983570667],\n",
       "       ['SN00137842', 0, 0, 1, -1.6282685205737695],\n",
       "       ['SN00206804', 1, 1, 0, 1.5607366464485901],\n",
       "       ['SN00288686', 0, 1, 0, 0.24761687179232444],\n",
       "       ['SN00419083', 1, 0, 1, -0.12756020668089432],\n",
       "       ['SN00464519', 0, 1, 0, -0.4089430155358084],\n",
       "       ['SN00517121', 2, 0, 1, -0.8779143636273319],\n",
       "       ['SN00338890', 0, 1, 0, -0.22135447629919902],\n",
       "       ['SN00518641', 0, 0, 1, 1.1855595679753714],\n",
       "       ['SN00147926', 0, 1, 0, 1.4669423768302856],\n",
       "       ['SN00333606', 0, 0, 1, 0.5289996806472386],\n",
       "       ['SN00108220', 1, 1, 0, -0.4089430155358084],\n",
       "       ['SN00188420', 0, 0, 1, 0.6227939502655432],\n",
       "       ['SN00017916', 2, 1, 0, 1.5607366464485901],\n",
       "       ['SN00164376', 1, 0, 1, 0.5289996806472386],\n",
       "       ['SN00221985', 1, 0, 1, 0.6227939502655432],\n",
       "       ['SN00288016', 1, 1, 0, -0.03376593706258964],\n",
       "       ['SN00370179', 0, 1, 0, -0.12756020668089432],\n",
       "       ['SN00523470', 0, 1, 0, -1.7220627901920742],\n",
       "       ['SN00058009', 1, 0, 1, -0.12756020668089432],\n",
       "       ['SN00040853', 0, 0, 1, -0.31514874591750375],\n",
       "       ['SN00053598', 1, 0, 1, -0.5027372851541131],\n",
       "       ['SN00057646', 0, 0, 1, 1.0917652983570667],\n",
       "       ['SN00076806', 1, 0, 1, -0.4089430155358084],\n",
       "       ['SN00103370', 0, 0, 1, 0.34141114141062917],\n",
       "       ['SN00337891', 2, 1, 0, -0.12756020668089432],\n",
       "       ['SN00348519', 2, 0, 1, 1.2793538375936762],\n",
       "       ['SN00357927', 0, 0, 1, 0.06002833255571506],\n",
       "       ['SN00394877', 0, 0, 1, 0.9041767591204574],\n",
       "       ['SN00460226', 1, 0, 1, 1.2793538375936762],\n",
       "       ['SN00507678', 2, 1, 0, 1.3731481072119809],\n",
       "       ['SN00563991', 0, 1, 0, 0.43520541102893384],\n",
       "       ['SN00125104', 0, 1, 0, -0.8779143636273319],\n",
       "       ['SN00368912', 0, 1, 0, 0.24761687179232444],\n",
       "       ['SN00391492', 0, 1, 0, -0.03376593706258964]], dtype=object)"
      ]
     },
     "execution_count": 7,
     "metadata": {},
     "output_type": "execute_result"
    }
   ],
   "source": [
    "patient_meta"
   ]
  },
  {
   "cell_type": "code",
   "execution_count": 8,
   "metadata": {},
   "outputs": [
    {
     "name": "stdout",
     "output_type": "stream",
     "text": [
      "(10977,) (10977, 3) (10977, 5, 32, 32) (10977,)\n",
      "(2430,) (2430, 3) (2430, 5, 32, 32) (2430,)\n"
     ]
    }
   ],
   "source": [
    "# sliding-window Proprocessing (길이가 다른 z 축데이터를 동일하게 만들어준다.)\n",
    "window_size = 5\n",
    "size = (32,32)\n",
    "n_ct_statistics=[]\n",
    "# 10-cv Settings\n",
    "kf = KFold(n_splits=5, random_state=None, shuffle=True)\n",
    "for tr_list, te_list in kf.split(patient_meta):\n",
    "    # Train Dataset\n",
    "    X_p_tr, X_m_tr, X_i_tr, Y_tr = [], [], [], []\n",
    "    for tr_idx in tr_list:\n",
    "        X_i_tr_ct_list = sorted(glob.glob(path+patient_meta[tr_idx, 0]+'/*.dcm'))\n",
    "        n_ct = len(X_i_tr_ct_list)\n",
    "        n_ct_statistics.append(n_ct)\n",
    "        # Load 3D CT Data per Patient\n",
    "        ct_block = []\n",
    "        for z in range(n_ct):\n",
    "            ct_block.append(cv2.normalize(cv2.resize(pdc.dcmread(X_i_tr_ct_list[z]).pixel_array, dsize=size), dst=None, alpha=0, beta=1, norm_type=cv2.NORM_MINMAX, dtype=cv2.CV_32F))\n",
    "        ct_block = np.array(ct_block)\n",
    "        # Sliding-window Preprocess\n",
    "        n_window = n_ct-window_size+1\n",
    "        X_i_tr_buffer = []\n",
    "        for z in range(n_window):\n",
    "            X_i_tr_buffer.append(ct_block[z:z+window_size])\n",
    "            X_p_tr.append(patient_meta[tr_idx, 0])\n",
    "            X_m_tr.append(patient_meta[tr_idx, 2:])\n",
    "            Y_tr.append(patient_meta[tr_idx, 1])\n",
    "        X_i_tr_buffer = np.array(X_i_tr_buffer)\n",
    "        X_i_tr.extend(X_i_tr_buffer)\n",
    "    X_p_tr, X_m_tr, X_i_tr, Y_tr = np.array(X_p_tr), np.array(X_m_tr), np.array(X_i_tr), np.array(Y_tr)\n",
    "    print(X_p_tr.shape, X_m_tr.shape, X_i_tr.shape, Y_tr.shape)\n",
    "    # Test Dataset\n",
    "    X_p_te, X_m_te, X_i_te, Y_te = [], [], [], []\n",
    "    for te_idx in te_list:\n",
    "        X_i_te_ct_list = sorted(glob.glob(path+patient_meta[te_idx, 0]+'/*.dcm'))\n",
    "        n_ct = len(X_i_te_ct_list)\n",
    "        n_ct_statistics.append(n_ct)\n",
    "        # Load 3D CT Data per Patient\n",
    "        ct_block = []\n",
    "        for z in range(n_ct):\n",
    "            ct_block.append(cv2.normalize(cv2.resize(pdc.dcmread(X_i_te_ct_list[z]).pixel_array, dsize=size), dst=None, alpha=0, beta=1, norm_type=cv2.NORM_MINMAX, dtype=cv2.CV_32F))\n",
    "        ct_block = np.array(ct_block)\n",
    "        # Sliding-window Preprocess\n",
    "        n_window = n_ct-window_size+1\n",
    "        X_i_te_buffer = []\n",
    "        for z in range(n_window):\n",
    "            X_i_te_buffer.append(ct_block[z:z+window_size])\n",
    "            X_p_te.append(patient_meta[te_idx, 0])\n",
    "            X_m_te.append(patient_meta[te_idx, 2:])\n",
    "            Y_te.append(patient_meta[te_idx, 1])\n",
    "        X_i_te_buffer = np.array(X_i_te_buffer)\n",
    "        X_i_te.extend(X_i_te_buffer)\n",
    "    X_p_te, X_m_te, X_i_te, Y_te = np.array(X_p_te), np.array(X_m_te), np.array(X_i_te), np.array(Y_te)\n",
    "    print(X_p_te.shape, X_m_te.shape, X_i_te.shape, Y_te.shape)\n",
    "    break"
   ]
  },
  {
   "cell_type": "code",
   "execution_count": 9,
   "metadata": {},
   "outputs": [
    {
     "data": {
      "text/plain": [
       "138.07"
      ]
     },
     "execution_count": 9,
     "metadata": {},
     "output_type": "execute_result"
    }
   ],
   "source": [
    "# CT Length Statistics\n",
    "np.mean(n_ct_statistics)"
   ]
  },
  {
   "cell_type": "code",
   "execution_count": 10,
   "metadata": {},
   "outputs": [
    {
     "data": {
      "text/plain": [
       "(None, None, None, None)"
      ]
     },
     "execution_count": 10,
     "metadata": {},
     "output_type": "execute_result"
    }
   ],
   "source": [
    "# Save Dataset\n",
    "np.save(path+'np/X_p_tr', X_p_tr), np.save(path+'np/X_m_tr', X_m_tr), np.save(path+'np/X_i_tr', X_i_tr), np.save(path+'np/Y_tr', Y_tr)\n",
    "np.save(path+'np/X_p_te', X_p_te), np.save(path+'np/X_m_te', X_m_te), np.save(path+'np/X_i_te', X_i_te), np.save(path+'np/Y_te', Y_te)"
   ]
  },
  {
   "cell_type": "code",
   "execution_count": 11,
   "metadata": {},
   "outputs": [
    {
     "name": "stdout",
     "output_type": "stream",
     "text": [
      "(10977,) (10977, 3) (10977, 5, 32, 32) (10977,)\n",
      "(2430,) (2430, 3) (2430, 5, 32, 32) (2430,)\n"
     ]
    }
   ],
   "source": [
    "print(X_p_tr.shape, X_m_tr.shape, X_i_tr.shape, Y_tr.shape)\n",
    "print(X_p_te.shape, X_m_te.shape, X_i_te.shape, Y_te.shape)"
   ]
  },
  {
   "cell_type": "code",
   "execution_count": null,
   "metadata": {},
   "outputs": [],
   "source": []
  }
 ],
 "metadata": {
  "kernelspec": {
   "display_name": "Python 3",
   "language": "python",
   "name": "python3"
  },
  "language_info": {
   "codemirror_mode": {
    "name": "ipython",
    "version": 3
   },
   "file_extension": ".py",
   "mimetype": "text/x-python",
   "name": "python",
   "nbconvert_exporter": "python",
   "pygments_lexer": "ipython3",
   "version": "3.8.5"
  }
 },
 "nbformat": 4,
 "nbformat_minor": 4
}
