{
 "cells": [
  {
   "cell_type": "code",
   "execution_count": 1,
   "metadata": {
    "collapsed": true
   },
   "outputs": [
    {
     "name": "stdout",
     "output_type": "stream",
     "text": [
      "Requirement already satisfied: keras in c:\\kyoungpark\\lib\\site-packages (2.4.3)\n",
      "Requirement already satisfied: numpy>=1.9.1 in c:\\kyoungpark\\lib\\site-packages (from keras) (1.18.5)\n",
      "Requirement already satisfied: h5py in c:\\kyoungpark\\lib\\site-packages (from keras) (2.10.0)\n",
      "Requirement already satisfied: scipy>=0.14 in c:\\kyoungpark\\lib\\site-packages (from keras) (1.4.1)\n",
      "Requirement already satisfied: pyyaml in c:\\kyoungpark\\lib\\site-packages (from keras) (5.3.1)\n",
      "Requirement already satisfied: six in c:\\kyoungpark\\lib\\site-packages (from h5py->keras) (1.15.0)\n",
      "Requirement already satisfied: tensorflow==2.3.0 in c:\\kyoungpark\\lib\\site-packages (2.3.0)\n",
      "Requirement already satisfied: termcolor>=1.1.0 in c:\\kyoungpark\\lib\\site-packages (from tensorflow==2.3.0) (1.1.0)\n",
      "Requirement already satisfied: tensorboard<3,>=2.3.0 in c:\\kyoungpark\\lib\\site-packages (from tensorflow==2.3.0) (2.3.0)\n",
      "Requirement already satisfied: wrapt>=1.11.1 in c:\\kyoungpark\\lib\\site-packages (from tensorflow==2.3.0) (1.12.1)\n",
      "Requirement already satisfied: protobuf>=3.9.2 in c:\\kyoungpark\\lib\\site-packages (from tensorflow==2.3.0) (3.13.0)\n",
      "Requirement already satisfied: tensorflow-estimator<2.4.0,>=2.3.0 in c:\\kyoungpark\\lib\\site-packages (from tensorflow==2.3.0) (2.3.0)\n",
      "Requirement already satisfied: wheel>=0.26 in c:\\kyoungpark\\lib\\site-packages (from tensorflow==2.3.0) (0.35.1)\n",
      "Requirement already satisfied: six>=1.12.0 in c:\\kyoungpark\\lib\\site-packages (from tensorflow==2.3.0) (1.15.0)\n",
      "Requirement already satisfied: gast==0.3.3 in c:\\kyoungpark\\lib\\site-packages (from tensorflow==2.3.0) (0.3.3)\n",
      "Requirement already satisfied: keras-preprocessing<1.2,>=1.1.1 in c:\\kyoungpark\\lib\\site-packages (from tensorflow==2.3.0) (1.1.2)\n",
      "Requirement already satisfied: absl-py>=0.7.0 in c:\\kyoungpark\\lib\\site-packages (from tensorflow==2.3.0) (0.10.0)\n",
      "Requirement already satisfied: opt-einsum>=2.3.2 in c:\\kyoungpark\\lib\\site-packages (from tensorflow==2.3.0) (3.3.0)\n",
      "Requirement already satisfied: google-pasta>=0.1.8 in c:\\kyoungpark\\lib\\site-packages (from tensorflow==2.3.0) (0.2.0)\n",
      "Requirement already satisfied: numpy<1.19.0,>=1.16.0 in c:\\kyoungpark\\lib\\site-packages (from tensorflow==2.3.0) (1.18.5)\n",
      "Requirement already satisfied: h5py<2.11.0,>=2.10.0 in c:\\kyoungpark\\lib\\site-packages (from tensorflow==2.3.0) (2.10.0)\n",
      "Requirement already satisfied: grpcio>=1.8.6 in c:\\kyoungpark\\lib\\site-packages (from tensorflow==2.3.0) (1.32.0)\n",
      "Requirement already satisfied: astunparse==1.6.3 in c:\\kyoungpark\\lib\\site-packages (from tensorflow==2.3.0) (1.6.3)\n",
      "Requirement already satisfied: scipy==1.4.1 in c:\\kyoungpark\\lib\\site-packages (from tensorflow==2.3.0) (1.4.1)\n",
      "Requirement already satisfied: werkzeug>=0.11.15 in c:\\kyoungpark\\lib\\site-packages (from tensorboard<3,>=2.3.0->tensorflow==2.3.0) (1.0.1)\n",
      "Requirement already satisfied: google-auth-oauthlib<0.5,>=0.4.1 in c:\\kyoungpark\\lib\\site-packages (from tensorboard<3,>=2.3.0->tensorflow==2.3.0) (0.4.1)\n",
      "Requirement already satisfied: markdown>=2.6.8 in c:\\kyoungpark\\lib\\site-packages (from tensorboard<3,>=2.3.0->tensorflow==2.3.0) (3.3.1)\n",
      "Requirement already satisfied: setuptools>=41.0.0 in c:\\kyoungpark\\lib\\site-packages (from tensorboard<3,>=2.3.0->tensorflow==2.3.0) (50.3.1)\n",
      "Requirement already satisfied: requests<3,>=2.21.0 in c:\\kyoungpark\\lib\\site-packages (from tensorboard<3,>=2.3.0->tensorflow==2.3.0) (2.24.0)\n",
      "Requirement already satisfied: tensorboard-plugin-wit>=1.6.0 in c:\\kyoungpark\\lib\\site-packages (from tensorboard<3,>=2.3.0->tensorflow==2.3.0) (1.7.0)\n",
      "Requirement already satisfied: google-auth<2,>=1.6.3 in c:\\kyoungpark\\lib\\site-packages (from tensorboard<3,>=2.3.0->tensorflow==2.3.0) (1.22.1)\n",
      "Requirement already satisfied: requests-oauthlib>=0.7.0 in c:\\kyoungpark\\lib\\site-packages (from google-auth-oauthlib<0.5,>=0.4.1->tensorboard<3,>=2.3.0->tensorflow==2.3.0) (1.3.0)\n",
      "Requirement already satisfied: certifi>=2017.4.17 in c:\\kyoungpark\\lib\\site-packages (from requests<3,>=2.21.0->tensorboard<3,>=2.3.0->tensorflow==2.3.0) (2020.6.20)\n",
      "Requirement already satisfied: urllib3!=1.25.0,!=1.25.1,<1.26,>=1.21.1 in c:\\kyoungpark\\lib\\site-packages (from requests<3,>=2.21.0->tensorboard<3,>=2.3.0->tensorflow==2.3.0) (1.25.10)\n",
      "Requirement already satisfied: idna<3,>=2.5 in c:\\kyoungpark\\lib\\site-packages (from requests<3,>=2.21.0->tensorboard<3,>=2.3.0->tensorflow==2.3.0) (2.10)\n",
      "Requirement already satisfied: chardet<4,>=3.0.2 in c:\\kyoungpark\\lib\\site-packages (from requests<3,>=2.21.0->tensorboard<3,>=2.3.0->tensorflow==2.3.0) (3.0.4)\n",
      "Requirement already satisfied: cachetools<5.0,>=2.0.0 in c:\\kyoungpark\\lib\\site-packages (from google-auth<2,>=1.6.3->tensorboard<3,>=2.3.0->tensorflow==2.3.0) (4.1.1)\n",
      "Requirement already satisfied: rsa<5,>=3.1.4; python_version >= \"3.5\" in c:\\kyoungpark\\lib\\site-packages (from google-auth<2,>=1.6.3->tensorboard<3,>=2.3.0->tensorflow==2.3.0) (4.6)\n",
      "Requirement already satisfied: pyasn1-modules>=0.2.1 in c:\\kyoungpark\\lib\\site-packages (from google-auth<2,>=1.6.3->tensorboard<3,>=2.3.0->tensorflow==2.3.0) (0.2.8)\n",
      "Requirement already satisfied: oauthlib>=3.0.0 in c:\\kyoungpark\\lib\\site-packages (from requests-oauthlib>=0.7.0->google-auth-oauthlib<0.5,>=0.4.1->tensorboard<3,>=2.3.0->tensorflow==2.3.0) (3.1.0)\n",
      "Requirement already satisfied: pyasn1>=0.1.3 in c:\\kyoungpark\\lib\\site-packages (from rsa<5,>=3.1.4; python_version >= \"3.5\"->google-auth<2,>=1.6.3->tensorboard<3,>=2.3.0->tensorflow==2.3.0) (0.4.8)\n"
     ]
    }
   ],
   "source": [
    "!pip install keras\n",
    "!pip install tensorflow==2.3.0"
   ]
  },
  {
   "cell_type": "code",
   "execution_count": 10,
   "metadata": {},
   "outputs": [
    {
     "name": "stdout",
     "output_type": "stream",
     "text": [
      "Populating the interactive namespace from numpy and matplotlib\n"
     ]
    },
    {
     "name": "stderr",
     "output_type": "stream",
     "text": [
      "C:\\KyoungPark\\lib\\site-packages\\IPython\\core\\magics\\pylab.py:159: UserWarning: pylab import has clobbered these variables: ['size']\n",
      "`%matplotlib` prevents importing * from pylab and numpy\n",
      "  warn(\"pylab import has clobbered these variables: %s\"  % clobbered +\n"
     ]
    }
   ],
   "source": [
    "import pydicom as pdc\n",
    "import matplotlib.pyplot as plt\n",
    "from IPython.display import display, Image\n",
    "import numpy as np\n",
    "import cv2\n",
    "import pandas as pd\n",
    "from sklearn import preprocessing\n",
    "from sklearn.model_selection import KFold\n",
    "import tensorflow as tf\n",
    "import keras\n",
    "from keras.utils import to_categorical\n",
    "from keras.layers import Dense, Flatten, Conv3D, MaxPooling3D, Dropout\n",
    "import tensorflow_hub as hub\n",
    "import glob\n",
    "%pylab inline"
   ]
  },
  {
   "cell_type": "code",
   "execution_count": 7,
   "metadata": {},
   "outputs": [
    {
     "name": "stdout",
     "output_type": "stream",
     "text": [
      "Drop: Int64Index([42, 66, 69], dtype='int64')\n"
     ]
    }
   ],
   "source": [
    "path = '../Code/benchmark_liver_tumor/raw/'\n",
    "# Load Meta-data and preprocessing\n",
    "patient_meta = pd.read_csv(path + 'patient_meta.csv')\n",
    "patient_meta = patient_meta[['RANDOM_PT_NO','SEX','AGE','PHASE',\"DX\"]]\n",
    "#patient_meta.head()\n",
    "\n",
    "#NET, Lymphoma : Dropped (3 cases)\n",
    "print(\"Drop:\", patient_meta[(patient_meta['DX']=='lymphoma') | (patient_meta['DX']=='NET')].index)\n",
    "patient_meta = patient_meta.drop(patient_meta[(patient_meta['DX']=='lymphoma') | (patient_meta['DX']=='NET')].index, axis=0)\n",
    "patient_meta.reset_index(drop=True, inplace=True)\n",
    "\n",
    "# categorical Variables(Sex, Phase)\n",
    "# pd.get_dummies() 가변수 만들기\n",
    "patient_meta = pd.concat([patient_meta, pd.get_dummies(patient_meta[['SEX','PHASE']])], axis=1)\n",
    "patient_meta = patient_meta.drop(['SEX','PHASE'], axis=1)\n",
    "\n",
    "# Continuous Variables(Age)\n",
    "age = patient_meta['AGE'].values\n",
    "age_scaled = preprocessing.scale(age)\n",
    " \n",
    "patient_meta['AGE_NORM'] = age_scaled\n",
    "patient_meta = patient_meta.drop(['AGE'], axis = 1)\n",
    "\n",
    "#Label Setting\n",
    "# 0 : Metastasis, 56\n",
    "# 1 : Hepatocelluar Carcinoma, 30\n",
    "# 2 : cholangiocarcinoma, 14 --> ????    # 숫자가 의미하는 것은??\n",
    "for r in range(patient_meta.shape[0]):\n",
    "    if('metastasis' in patient_meta.iloc[r, 1]):\n",
    "        patient_meta.iloc[r, 1] = 0\n",
    "    elif('HCC' == patient_meta.iloc[r, 1]):\n",
    "        patient_meta.iloc[r, 1] = 1\n",
    "    elif('cholangiocarcinoma' == patient_meta.iloc[r, 1]):\n",
    "        patient_meta.iloc[r, 1] = 2\n",
    "    else:\n",
    "        patient_meta.iloc[r, 1] = -1\n",
    "\n",
    "patient_meta = np.array(patient_meta)   #넘파이 배열로 변환"
   ]
  },
  {
   "cell_type": "code",
   "execution_count": 11,
   "metadata": {},
   "outputs": [
    {
     "name": "stdout",
     "output_type": "stream",
     "text": [
      "Drop: Int64Index([42, 66, 69], dtype='int64')\n"
     ]
    }
   ],
   "source": [
    "path = '../Code/benchmark_liver_tumor/raw/'\n",
    "# Load Meta-data and preprocessing\n",
    "patient_meta = pd.read_csv(path + 'patient_meta.csv')\n",
    "patient_meta = patient_meta[['RANDOM_PT_NO','SEX','AGE','PHASE',\"DX\"]]\n",
    "#patient_meta.head()\n",
    "\n",
    "#NET, Lymphoma : Dropped (3 cases)\n",
    "print(\"Drop:\", patient_meta[(patient_meta['DX']=='lymphoma') | (patient_meta['DX']=='NET')].index)\n",
    "patient_meta = patient_meta.drop(patient_meta[(patient_meta['DX']=='lymphoma') | (patient_meta['DX']=='NET')].index, axis=0)\n",
    "patient_meta.reset_index(drop=True, inplace=True)\n",
    "\n",
    "# categorical Variables(Sex, Phase)\n",
    "# pd.get_dummies() 가변수 만들기\n",
    "patient_meta = pd.concat([patient_meta, pd.get_dummies(patient_meta[['SEX','PHASE']])], axis=1)\n",
    "patient_meta = patient_meta.drop(['SEX','PHASE'], axis=1)\n",
    "\n",
    "# Continuous Variables(Age)\n",
    "age = patient_meta['AGE'].values\n",
    "age_scaled = preprocessing.scale(age)\n",
    " \n",
    "patient_meta['AGE_NORM'] = age_scaled\n",
    "patient_meta = patient_meta.drop(['AGE'], axis = 1)\n",
    "\n",
    "#Label Setting\n",
    "# 0 : Metastasis, 56\n",
    "# 1 : Hepatocelluar Carcinoma, 30\n",
    "# 2 : cholangiocarcinoma, 14 --> ????    # 숫자가 의미하는 것은??\n",
    "for r in range(patient_meta.shape[0]):\n",
    "    if('metastasis' in patient_meta.iloc[r, 1]):\n",
    "        patient_meta.iloc[r, 1] = 0\n",
    "    elif('HCC' == patient_meta.iloc[r, 1]):\n",
    "        patient_meta.iloc[r, 1] = 1\n",
    "    elif('cholangiocarcinoma' == patient_meta.iloc[r, 1]):\n",
    "        patient_meta.iloc[r, 1] = 2\n",
    "    else:\n",
    "        patient_meta.iloc[r, 1] = -1\n",
    "\n",
    "patient_meta = np.array(patient_meta)   #넘파이 배열로 변환"
   ]
  },
  {
   "cell_type": "markdown",
   "metadata": {},
   "source": [
    "### Split Train/Test Case"
   ]
  },
  {
   "cell_type": "code",
   "execution_count": 47,
   "metadata": {},
   "outputs": [
    {
     "name": "stdout",
     "output_type": "stream",
     "text": [
      "../Code/benchmark_liver_tumor/\n",
      "['../Code/benchmark_liver_tumor/train/train/SN00180816\\\\SN00180816_1.png', '../Code/benchmark_liver_tumor/train/train/SN00180816\\\\SN00180816_10.png', '../Code/benchmark_liver_tumor/train/train/SN00180816\\\\SN00180816_11.png', '../Code/benchmark_liver_tumor/train/train/SN00180816\\\\SN00180816_12.png', '../Code/benchmark_liver_tumor/train/train/SN00180816\\\\SN00180816_13.png', '../Code/benchmark_liver_tumor/train/train/SN00180816\\\\SN00180816_14.png', '../Code/benchmark_liver_tumor/train/train/SN00180816\\\\SN00180816_15.png', '../Code/benchmark_liver_tumor/train/train/SN00180816\\\\SN00180816_16.png', '../Code/benchmark_liver_tumor/train/train/SN00180816\\\\SN00180816_17.png', '../Code/benchmark_liver_tumor/train/train/SN00180816\\\\SN00180816_18.png', '../Code/benchmark_liver_tumor/train/train/SN00180816\\\\SN00180816_19.png', '../Code/benchmark_liver_tumor/train/train/SN00180816\\\\SN00180816_2.png', '../Code/benchmark_liver_tumor/train/train/SN00180816\\\\SN00180816_20.png', '../Code/benchmark_liver_tumor/train/train/SN00180816\\\\SN00180816_21.png', '../Code/benchmark_liver_tumor/train/train/SN00180816\\\\SN00180816_22.png', '../Code/benchmark_liver_tumor/train/train/SN00180816\\\\SN00180816_23.png', '../Code/benchmark_liver_tumor/train/train/SN00180816\\\\SN00180816_24.png', '../Code/benchmark_liver_tumor/train/train/SN00180816\\\\SN00180816_25.png', '../Code/benchmark_liver_tumor/train/train/SN00180816\\\\SN00180816_26.png', '../Code/benchmark_liver_tumor/train/train/SN00180816\\\\SN00180816_27.png', '../Code/benchmark_liver_tumor/train/train/SN00180816\\\\SN00180816_28.png', '../Code/benchmark_liver_tumor/train/train/SN00180816\\\\SN00180816_29.png', '../Code/benchmark_liver_tumor/train/train/SN00180816\\\\SN00180816_3.png', '../Code/benchmark_liver_tumor/train/train/SN00180816\\\\SN00180816_30.png', '../Code/benchmark_liver_tumor/train/train/SN00180816\\\\SN00180816_31.png', '../Code/benchmark_liver_tumor/train/train/SN00180816\\\\SN00180816_32.png', '../Code/benchmark_liver_tumor/train/train/SN00180816\\\\SN00180816_33.png', '../Code/benchmark_liver_tumor/train/train/SN00180816\\\\SN00180816_34.png', '../Code/benchmark_liver_tumor/train/train/SN00180816\\\\SN00180816_35.png', '../Code/benchmark_liver_tumor/train/train/SN00180816\\\\SN00180816_36.png', '../Code/benchmark_liver_tumor/train/train/SN00180816\\\\SN00180816_37.png', '../Code/benchmark_liver_tumor/train/train/SN00180816\\\\SN00180816_38.png', '../Code/benchmark_liver_tumor/train/train/SN00180816\\\\SN00180816_39.png', '../Code/benchmark_liver_tumor/train/train/SN00180816\\\\SN00180816_4.png', '../Code/benchmark_liver_tumor/train/train/SN00180816\\\\SN00180816_40.png', '../Code/benchmark_liver_tumor/train/train/SN00180816\\\\SN00180816_41.png', '../Code/benchmark_liver_tumor/train/train/SN00180816\\\\SN00180816_42.png', '../Code/benchmark_liver_tumor/train/train/SN00180816\\\\SN00180816_43.png', '../Code/benchmark_liver_tumor/train/train/SN00180816\\\\SN00180816_44.png', '../Code/benchmark_liver_tumor/train/train/SN00180816\\\\SN00180816_45.png', '../Code/benchmark_liver_tumor/train/train/SN00180816\\\\SN00180816_46.png', '../Code/benchmark_liver_tumor/train/train/SN00180816\\\\SN00180816_47.png', '../Code/benchmark_liver_tumor/train/train/SN00180816\\\\SN00180816_48.png', '../Code/benchmark_liver_tumor/train/train/SN00180816\\\\SN00180816_49.png', '../Code/benchmark_liver_tumor/train/train/SN00180816\\\\SN00180816_5.png', '../Code/benchmark_liver_tumor/train/train/SN00180816\\\\SN00180816_50.png', '../Code/benchmark_liver_tumor/train/train/SN00180816\\\\SN00180816_51.png', '../Code/benchmark_liver_tumor/train/train/SN00180816\\\\SN00180816_52.png', '../Code/benchmark_liver_tumor/train/train/SN00180816\\\\SN00180816_53.png', '../Code/benchmark_liver_tumor/train/train/SN00180816\\\\SN00180816_54.png', '../Code/benchmark_liver_tumor/train/train/SN00180816\\\\SN00180816_55.png', '../Code/benchmark_liver_tumor/train/train/SN00180816\\\\SN00180816_56.png', '../Code/benchmark_liver_tumor/train/train/SN00180816\\\\SN00180816_57.png', '../Code/benchmark_liver_tumor/train/train/SN00180816\\\\SN00180816_58.png', '../Code/benchmark_liver_tumor/train/train/SN00180816\\\\SN00180816_59.png', '../Code/benchmark_liver_tumor/train/train/SN00180816\\\\SN00180816_6.png', '../Code/benchmark_liver_tumor/train/train/SN00180816\\\\SN00180816_60.png', '../Code/benchmark_liver_tumor/train/train/SN00180816\\\\SN00180816_61.png', '../Code/benchmark_liver_tumor/train/train/SN00180816\\\\SN00180816_62.png', '../Code/benchmark_liver_tumor/train/train/SN00180816\\\\SN00180816_63.png', '../Code/benchmark_liver_tumor/train/train/SN00180816\\\\SN00180816_64.png', '../Code/benchmark_liver_tumor/train/train/SN00180816\\\\SN00180816_65.png', '../Code/benchmark_liver_tumor/train/train/SN00180816\\\\SN00180816_66.png', '../Code/benchmark_liver_tumor/train/train/SN00180816\\\\SN00180816_67.png', '../Code/benchmark_liver_tumor/train/train/SN00180816\\\\SN00180816_68.png', '../Code/benchmark_liver_tumor/train/train/SN00180816\\\\SN00180816_69.png', '../Code/benchmark_liver_tumor/train/train/SN00180816\\\\SN00180816_7.png', '../Code/benchmark_liver_tumor/train/train/SN00180816\\\\SN00180816_70.png', '../Code/benchmark_liver_tumor/train/train/SN00180816\\\\SN00180816_71.png', '../Code/benchmark_liver_tumor/train/train/SN00180816\\\\SN00180816_72.png', '../Code/benchmark_liver_tumor/train/train/SN00180816\\\\SN00180816_73.png', '../Code/benchmark_liver_tumor/train/train/SN00180816\\\\SN00180816_74.png', '../Code/benchmark_liver_tumor/train/train/SN00180816\\\\SN00180816_75.png', '../Code/benchmark_liver_tumor/train/train/SN00180816\\\\SN00180816_76.png', '../Code/benchmark_liver_tumor/train/train/SN00180816\\\\SN00180816_77.png', '../Code/benchmark_liver_tumor/train/train/SN00180816\\\\SN00180816_78.png', '../Code/benchmark_liver_tumor/train/train/SN00180816\\\\SN00180816_79.png', '../Code/benchmark_liver_tumor/train/train/SN00180816\\\\SN00180816_8.png', '../Code/benchmark_liver_tumor/train/train/SN00180816\\\\SN00180816_80.png', '../Code/benchmark_liver_tumor/train/train/SN00180816\\\\SN00180816_81.png', '../Code/benchmark_liver_tumor/train/train/SN00180816\\\\SN00180816_82.png', '../Code/benchmark_liver_tumor/train/train/SN00180816\\\\SN00180816_83.png', '../Code/benchmark_liver_tumor/train/train/SN00180816\\\\SN00180816_84.png', '../Code/benchmark_liver_tumor/train/train/SN00180816\\\\SN00180816_85.png', '../Code/benchmark_liver_tumor/train/train/SN00180816\\\\SN00180816_86.png', '../Code/benchmark_liver_tumor/train/train/SN00180816\\\\SN00180816_87.png', '../Code/benchmark_liver_tumor/train/train/SN00180816\\\\SN00180816_88.png', '../Code/benchmark_liver_tumor/train/train/SN00180816\\\\SN00180816_89.png', '../Code/benchmark_liver_tumor/train/train/SN00180816\\\\SN00180816_9.png', '../Code/benchmark_liver_tumor/train/train/SN00180816\\\\SN00180816_90.png']\n"
     ]
    },
    {
     "ename": "TypeError",
     "evalue": "Expected Ptr<cv::UMat> for argument 'src'",
     "output_type": "error",
     "traceback": [
      "\u001b[1;31m---------------------------------------------------------------------------\u001b[0m",
      "\u001b[1;31mTypeError\u001b[0m                                 Traceback (most recent call last)",
      "\u001b[1;32m<ipython-input-47-1bc4d2fbb3a9>\u001b[0m in \u001b[0;36m<module>\u001b[1;34m\u001b[0m\n\u001b[0;32m     21\u001b[0m         \u001b[1;32mfor\u001b[0m \u001b[0mz\u001b[0m \u001b[1;32min\u001b[0m \u001b[0mrange\u001b[0m\u001b[1;33m(\u001b[0m\u001b[0mn_ct\u001b[0m\u001b[1;33m)\u001b[0m\u001b[1;33m:\u001b[0m\u001b[1;33m\u001b[0m\u001b[1;33m\u001b[0m\u001b[0m\n\u001b[0;32m     22\u001b[0m             \u001b[0mimg\u001b[0m \u001b[1;33m=\u001b[0m \u001b[0mX_i_tr_ct_list\u001b[0m\u001b[1;33m[\u001b[0m\u001b[0mz\u001b[0m\u001b[1;33m]\u001b[0m\u001b[1;33m\u001b[0m\u001b[1;33m\u001b[0m\u001b[0m\n\u001b[1;32m---> 23\u001b[1;33m             \u001b[0mcv2\u001b[0m\u001b[1;33m.\u001b[0m\u001b[0mresize\u001b[0m\u001b[1;33m(\u001b[0m\u001b[0mimg\u001b[0m\u001b[1;33m,\u001b[0m \u001b[0mdsize\u001b[0m\u001b[1;33m=\u001b[0m\u001b[0msize\u001b[0m\u001b[1;33m)\u001b[0m\u001b[1;33m\u001b[0m\u001b[1;33m\u001b[0m\u001b[0m\n\u001b[0m\u001b[0;32m     24\u001b[0m             \u001b[0mct_block\u001b[0m\u001b[1;33m.\u001b[0m\u001b[0mappend\u001b[0m\u001b[1;33m(\u001b[0m\u001b[0mcv2\u001b[0m\u001b[1;33m.\u001b[0m\u001b[0mnormalize\u001b[0m\u001b[1;33m(\u001b[0m\u001b[0mcv2\u001b[0m\u001b[1;33m.\u001b[0m\u001b[0mresize\u001b[0m\u001b[1;33m(\u001b[0m\u001b[1;33m(\u001b[0m\u001b[0mX_i_tr_ct_list\u001b[0m\u001b[1;33m[\u001b[0m\u001b[0mz\u001b[0m\u001b[1;33m]\u001b[0m\u001b[1;33m)\u001b[0m\u001b[1;33m,\u001b[0m \u001b[0mdsize\u001b[0m\u001b[1;33m=\u001b[0m\u001b[0msize\u001b[0m\u001b[1;33m)\u001b[0m\u001b[1;33m,\u001b[0m \u001b[0mdst\u001b[0m\u001b[1;33m=\u001b[0m\u001b[1;32mNone\u001b[0m\u001b[1;33m,\u001b[0m \u001b[0malpha\u001b[0m\u001b[1;33m=\u001b[0m\u001b[1;36m0\u001b[0m\u001b[1;33m,\u001b[0m \u001b[0mbeta\u001b[0m\u001b[1;33m=\u001b[0m\u001b[1;36m1\u001b[0m\u001b[1;33m,\u001b[0m \u001b[0mnorm_type\u001b[0m\u001b[1;33m=\u001b[0m\u001b[0mcv2\u001b[0m\u001b[1;33m.\u001b[0m\u001b[0mNORM_MINMAX\u001b[0m\u001b[1;33m,\u001b[0m \u001b[0mdtype\u001b[0m\u001b[1;33m=\u001b[0m\u001b[0mcv2\u001b[0m\u001b[1;33m.\u001b[0m\u001b[0mCV_32F\u001b[0m\u001b[1;33m)\u001b[0m\u001b[1;33m)\u001b[0m\u001b[1;33m\u001b[0m\u001b[1;33m\u001b[0m\u001b[0m\n\u001b[0;32m     25\u001b[0m         \u001b[0mct_block\u001b[0m \u001b[1;33m=\u001b[0m \u001b[0mnp\u001b[0m\u001b[1;33m.\u001b[0m\u001b[0marray\u001b[0m\u001b[1;33m(\u001b[0m\u001b[0mct_block\u001b[0m\u001b[1;33m)\u001b[0m\u001b[1;33m\u001b[0m\u001b[1;33m\u001b[0m\u001b[0m\n",
      "\u001b[1;31mTypeError\u001b[0m: Expected Ptr<cv::UMat> for argument 'src'"
     ]
    }
   ],
   "source": [
    "# sliding-window Proprocessing (길이가 다른 z 축데이터를 동일하게 만들어준다.)\n",
    "window_size = 1\n",
    "size = (32,32)\n",
    "path = '../Code/benchmark_liver_tumor/'\n",
    "n_ct_statistics=[]\n",
    "# 10-cv Settings\n",
    "kf = KFold(n_splits=5, random_state=None, shuffle=True)\n",
    "for tr_list, te_list in kf.split(patient_meta):\n",
    "    # Train Dataset\n",
    "    X_p_tr, X_m_tr, X_i_tr, Y_tr = [], [], [], []\n",
    "    for tr_idx in tr_list:\n",
    "        #path = path+'train/train/'+patient_meta[tr_idx, 0]+'/*.png'\n",
    "        #print(path)\n",
    "        X_i_tr_ct_list = sorted(glob.glob(path+'train/train/'+patient_meta[tr_idx, 0]+'/*.png'))\n",
    "        print(path)\n",
    "        print(X_i_tr_ct_list)\n",
    "        n_ct = len(X_i_tr_ct_list)\n",
    "        n_ct_statistics.append(n_ct)\n",
    "        # Load 3D CT Data per Patient\n",
    "        ct_block = []\n",
    "        for z in range(n_ct):\n",
    "            img = X_i_tr_ct_list[z]\n",
    "            cv2.resize(img, dsize=size)\n",
    "            ct_block.append(cv2.normalize(cv2.resize((X_i_tr_ct_list[z]), dsize=size), dst=None, alpha=0, beta=1, norm_type=cv2.NORM_MINMAX, dtype=cv2.CV_32F))\n",
    "        ct_block = np.array(ct_block)\n",
    "        # Sliding-window Preprocess\n",
    "        n_window = n_ct-window_size+1\n",
    "        X_i_tr_buffer = []\n",
    "        for z in range(n_window):\n",
    "            X_i_tr_buffer.append(ct_block[z:z+window_size])\n",
    "            X_p_tr.append(patient_meta[tr_idx, 0])\n",
    "            X_m_tr.append(patient_meta[tr_idx, 2:])\n",
    "            Y_tr.append(patient_meta[tr_idx, 1])\n",
    "        X_i_tr_buffer = np.array(X_i_tr_buffer)\n",
    "        X_i_tr.extend(X_i_tr_buffer)\n",
    "    X_p_tr, X_m_tr, X_i_tr, Y_tr = np.array(X_p_tr), np.array(X_m_tr), np.array(X_i_tr), np.array(Y_tr)\n",
    "    print(X_p_tr.shape, X_m_tr.shape, X_i_tr.shape, Y_tr.shape)\n",
    "    # Test Dataset\n",
    "    X_p_te, X_m_te, X_i_te, Y_te = [], [], [], []\n",
    "    for te_idx in te_list:\n",
    "        X_i_te_ct_list = sorted(glob.glob(path+'test/'+patient_meta[te_idx, 0]+'/*.png'))\n",
    "        n_ct = len(X_i_te_ct_list)\n",
    "        n_ct_statistics.append(n_ct)\n",
    "        # Load 3D CT Data per Patient\n",
    "        ct_block = []\n",
    "        for z in range(n_ct):\n",
    "            ct_block.append(cv2.normalize(cv2.resize(pdc.dcmread(X_i_te_ct_list[z]).pixel_array, dsize=size), dst=None, alpha=0, beta=1, norm_type=cv2.NORM_MINMAX, dtype=cv2.CV_32F))\n",
    "        ct_block = np.array(ct_block)\n",
    "        # Sliding-window Preprocess\n",
    "        n_window = n_ct-window_size+1\n",
    "        X_i_te_buffer = []\n",
    "        for z in range(n_window):\n",
    "            X_i_te_buffer.append(ct_block[z:z+window_size])\n",
    "            X_p_te.append(patient_meta[te_idx, 0])\n",
    "            X_m_te.append(patient_meta[te_idx, 2:])\n",
    "            Y_te.append(patient_meta[te_idx, 1])\n",
    "        X_i_te_buffer = np.array(X_i_te_buffer)\n",
    "        X_i_te.extend(X_i_te_buffer)\n",
    "    X_p_te, X_m_te, X_i_te, Y_te = np.array(X_p_te), np.array(X_m_te), np.array(X_i_te), np.array(Y_te)\n",
    "    print(X_p_te.shape, X_m_te.shape, X_i_te.shape, Y_te.shape)\n",
    "    break"
   ]
  },
  {
   "cell_type": "code",
   "execution_count": null,
   "metadata": {},
   "outputs": [],
   "source": []
  }
 ],
 "metadata": {
  "kernelspec": {
   "display_name": "Python 3",
   "language": "python",
   "name": "python3"
  },
  "language_info": {
   "codemirror_mode": {
    "name": "ipython",
    "version": 3
   },
   "file_extension": ".py",
   "mimetype": "text/x-python",
   "name": "python",
   "nbconvert_exporter": "python",
   "pygments_lexer": "ipython3",
   "version": "3.8.3"
  }
 },
 "nbformat": 4,
 "nbformat_minor": 4
}
